{
 "cells": [
  {
   "cell_type": "markdown",
   "metadata": {
    "id": "view-in-github",
    "colab_type": "text"
   },
   "source": [
    "<a href=\"https://colab.research.google.com/github/anasshamoon12002/data-mining-2023-24/blob/main/Classification.ipynb\" target=\"_parent\"><img src=\"https://colab.research.google.com/assets/colab-badge.svg\" alt=\"Open In Colab\"/></a>"
   ]
  },
  {
   "cell_type": "markdown",
   "metadata": {
    "collapsed": false,
    "id": "7F2R5zPG_B5T"
   },
   "source": [
    "# Data Mining Project, a.y. 2023-2024\n",
    "## Salvatore Correnti, Jonathan Ato Markin, Anas Shamoon\n",
    "## Classification Notebook"
   ]
  },
  {
   "cell_type": "markdown",
   "metadata": {
    "collapsed": false,
    "id": "leV_v6bF_B5U"
   },
   "source": [
    "# Preliminary\n",
    "These cells are for running the notebook with `Google Colab` using a `Google Drive` storage for the project repository.They can be skipped if data is available locally."
   ]
  },
  {
   "cell_type": "code",
   "execution_count": 57,
   "metadata": {
    "id": "0z0WlTD-_B5V",
    "ExecuteTime": {
     "end_time": "2024-01-02T12:04:15.348190100Z",
     "start_time": "2024-01-02T12:04:14.465146500Z"
    }
   },
   "outputs": [],
   "source": [
    "from google.colab import drive"
   ]
  },
  {
   "cell_type": "code",
   "execution_count": 58,
   "metadata": {
    "colab": {
     "base_uri": "https://localhost:8080/"
    },
    "id": "LSvDSJT6_B5W",
    "outputId": "24a4d24c-b3f8-4b1c-d67f-c7dbb81d543d"
   },
   "outputs": [
    {
     "output_type": "stream",
     "name": "stdout",
     "text": [
      "Drive already mounted at /content/drive; to attempt to forcibly remount, call drive.mount(\"/content/drive\", force_remount=True).\n",
      "[Errno 2] No such file or directory: 'drive/MyDrive/Colab Notebooks/data-mining-2023-24'\n",
      "/content/drive/MyDrive/Colab Notebooks/data-mining-2023-24\n"
     ]
    }
   ],
   "source": [
    "drive.mount('/content/drive')\n",
    "%cd \"drive/MyDrive/Colab Notebooks/data-mining-2023-24\""
   ]
  },
  {
   "cell_type": "code",
   "execution_count": 31,
   "metadata": {
    "id": "3XzkH_u1CBsb",
    "ExecuteTime": {
     "end_time": "2024-01-08T16:34:18.863212800Z",
     "start_time": "2024-01-08T16:34:18.800185300Z"
    }
   },
   "outputs": [],
   "source": [
    "import os\n",
    "import pandas as pd\n",
    "import numpy as np\n",
    "from tqdm import tqdm\n",
    "from sklearn.preprocessing import StandardScaler\n",
    "from sklearn.model_selection import train_test_split, RandomizedSearchCV, GridSearchCV, cross_val_score, KFold, StratifiedKFold, cross_validate\n",
    "from sklearn.metrics import accuracy_score, f1_score, confusion_matrix, make_scorer, balanced_accuracy_score, classification_report\n",
    "from sklearn.preprocessing import normalize\n",
    "import matplotlib.pyplot as plt\n",
    "import seaborn as sns\n",
    "import tensorflow as tf\n",
    "import imblearn\n",
    "from imblearn.over_sampling import RandomOverSampler\n",
    "from imblearn.under_sampling import RandomUnderSampler\n",
    "from joblib import Parallel, delayed\n",
    "\n",
    "from tensorflow.keras.layers import Dense, Dropout\n",
    "from tensorflow.keras.models import Sequential"
   ]
  },
  {
   "cell_type": "markdown",
   "metadata": {
    "id": "2untmNh6TEYm"
   },
   "source": [
    "# Utils\n",
    "We then define some utils for the notebook."
   ]
  },
  {
   "cell_type": "code",
   "execution_count": 32,
   "metadata": {
    "id": "EXFFai76TFiV",
    "ExecuteTime": {
     "end_time": "2024-01-08T16:34:22.373424700Z",
     "start_time": "2024-01-08T16:34:22.326085500Z"
    }
   },
   "outputs": [],
   "source": [
    "def report_scores(test_label, test_pred, class_names=['Not Killed', 'Killed']):\n",
    "    \"\"\"\n",
    "    Visualize the classification report.\n",
    "    \"\"\"\n",
    "    print(classification_report(test_label, test_pred, target_names=class_names))"
   ]
  },
  {
   "cell_type": "markdown",
   "metadata": {
    "id": "_NI05RBhCVuO"
   },
   "source": [
    "# Dataset Preparation and Split\n",
    "We then load and prepare the dataset for classification."
   ]
  },
  {
   "cell_type": "code",
   "execution_count": 33,
   "metadata": {
    "id": "s8SYQkEYCdaf",
    "ExecuteTime": {
     "end_time": "2024-01-08T16:34:23.959937800Z",
     "start_time": "2024-01-08T16:34:23.807361300Z"
    }
   },
   "outputs": [],
   "source": [
    "# Load the dataset\n",
    "df_dataset = pd.read_csv('data/df_incidents_poverty_house_data_preparation_final.csv')"
   ]
  },
  {
   "cell_type": "code",
   "execution_count": 34,
   "metadata": {
    "colab": {
     "base_uri": "https://localhost:8080/"
    },
    "id": "hrTdFYJiCj2_",
    "outputId": "62c4b47b-27e8-4a19-a273-ac80eb186af1",
    "ExecuteTime": {
     "end_time": "2024-01-08T16:34:24.331573200Z",
     "start_time": "2024-01-08T16:34:24.268234400Z"
    }
   },
   "outputs": [
    {
     "name": "stdout",
     "output_type": "stream",
     "text": [
      "<class 'pandas.core.frame.DataFrame'>\n",
      "RangeIndex: 92561 entries, 0 to 92560\n",
      "Data columns (total 17 columns):\n",
      " #   Column                        Non-Null Count  Dtype  \n",
      "---  ------                        --------------  -----  \n",
      " 0   state                         92561 non-null  object \n",
      " 1   city_or_county                92561 non-null  object \n",
      " 2   latitude                      92561 non-null  float64\n",
      " 3   longitude                     92561 non-null  float64\n",
      " 4   avg_age_participants          92561 non-null  float64\n",
      " 5   datetime                      92561 non-null  object \n",
      " 6   males_ratio                   92561 non-null  float64\n",
      " 7   state_congressional_district  92561 non-null  object \n",
      " 8   povertyPercentage             92561 non-null  float64\n",
      " 9   killed_ratio                  92561 non-null  float64\n",
      " 10  injured_ratio                 92561 non-null  float64\n",
      " 11  unharmed_ratio                92561 non-null  float64\n",
      " 12  candidate_winning_ratio       92561 non-null  float64\n",
      " 13  males_in_month_ratio          92561 non-null  float64\n",
      " 14  killed_in_month_ratio         92561 non-null  float64\n",
      " 15  injured_in_month_ratio        92561 non-null  float64\n",
      " 16  unharmed_in_month_ratio       92561 non-null  float64\n",
      "dtypes: float64(13), object(4)\n",
      "memory usage: 12.0+ MB\n"
     ]
    }
   ],
   "source": [
    "df_dataset.info()"
   ]
  },
  {
   "cell_type": "code",
   "execution_count": 35,
   "metadata": {
    "id": "T3k9EKMNEEAw",
    "ExecuteTime": {
     "end_time": "2024-01-08T16:34:24.828270500Z",
     "start_time": "2024-01-08T16:34:24.796672900Z"
    }
   },
   "outputs": [],
   "source": [
    "# Drop useless columns\n",
    "df_dataset.drop(columns=['state', 'city_or_county', 'datetime', 'state_congressional_district', 'killed_in_month_ratio'], inplace=True)"
   ]
  },
  {
   "cell_type": "code",
   "execution_count": 36,
   "metadata": {
    "id": "eSad6C8KTDOe",
    "ExecuteTime": {
     "end_time": "2024-01-08T16:34:25.189750500Z",
     "start_time": "2024-01-08T16:34:25.142333600Z"
    }
   },
   "outputs": [],
   "source": [
    "# Define 'isKilled' attribute as killed_ratio > 0\n",
    "df_dataset['isKilled'] = df_dataset['killed_ratio'].apply(lambda x: 1 if x > 0 else 0)"
   ]
  },
  {
   "cell_type": "code",
   "execution_count": 37,
   "metadata": {
    "id": "xntiK8KtTeP7",
    "ExecuteTime": {
     "end_time": "2024-01-08T16:34:25.524357700Z",
     "start_time": "2024-01-08T16:34:25.508689600Z"
    }
   },
   "outputs": [],
   "source": [
    "# Drop killed_ratio column\n",
    "df_dataset.drop(columns=['killed_ratio'], inplace=True)"
   ]
  },
  {
   "cell_type": "code",
   "execution_count": 38,
   "metadata": {
    "id": "2lQyIglqTnBe",
    "ExecuteTime": {
     "end_time": "2024-01-08T16:34:26.788506900Z",
     "start_time": "2024-01-08T16:34:25.925030600Z"
    }
   },
   "outputs": [],
   "source": [
    "df_dataset.to_csv('data/unsplit_dataset.csv', index=False)"
   ]
  },
  {
   "cell_type": "code",
   "execution_count": 39,
   "metadata": {
    "id": "z1CNJYNeUghe",
    "ExecuteTime": {
     "end_time": "2024-01-08T16:34:26.866813900Z",
     "start_time": "2024-01-08T16:34:26.826959700Z"
    }
   },
   "outputs": [],
   "source": [
    "numpy_dataset = df_dataset.to_numpy()"
   ]
  },
  {
   "cell_type": "code",
   "execution_count": 40,
   "metadata": {
    "colab": {
     "base_uri": "https://localhost:8080/"
    },
    "id": "D3jNDDazUuI4",
    "outputId": "90452c8f-e760-4b30-eddc-44afde9bf661",
    "ExecuteTime": {
     "end_time": "2024-01-08T16:34:27.244423300Z",
     "start_time": "2024-01-08T16:34:27.212902900Z"
    }
   },
   "outputs": [
    {
     "name": "stdout",
     "output_type": "stream",
     "text": [
      "(92561, 11) (92561, 1)\n"
     ]
    }
   ],
   "source": [
    "X, y = numpy_dataset[:, 0:11], numpy_dataset[:, 11:]\n",
    "print(X.shape, y.shape)"
   ]
  },
  {
   "cell_type": "markdown",
   "source": [
    "We will use a **development set** for training and validation, and a **test set** for testing. We use `train_test_split` utility for stratifying the split w.r.t. class labels."
   ],
   "metadata": {
    "id": "g5Up-iWmpQ-6"
   }
  },
  {
   "cell_type": "code",
   "execution_count": 41,
   "metadata": {
    "id": "z8tp-jYqUvLT",
    "ExecuteTime": {
     "end_time": "2024-01-08T16:34:29.311614100Z",
     "start_time": "2024-01-08T16:34:28.913327Z"
    }
   },
   "outputs": [],
   "source": [
    "# Split the dataset into development and test set\n",
    "X_dev, X_test, y_dev, y_test = train_test_split(X, y, test_size=18513, train_size=74048, random_state=0, shuffle=True, stratify=y)"
   ]
  },
  {
   "cell_type": "code",
   "execution_count": 42,
   "metadata": {
    "colab": {
     "base_uri": "https://localhost:8080/"
    },
    "id": "OitZhM-9TmIa",
    "outputId": "4a85acd8-2245-4fbb-c1f7-d49031ec10b1",
    "ExecuteTime": {
     "end_time": "2024-01-08T16:34:29.950804600Z",
     "start_time": "2024-01-08T16:34:29.934665900Z"
    }
   },
   "outputs": [
    {
     "name": "stdout",
     "output_type": "stream",
     "text": [
      "<class 'pandas.core.frame.DataFrame'>\n",
      "RangeIndex: 92561 entries, 0 to 92560\n",
      "Data columns (total 12 columns):\n",
      " #   Column                   Non-Null Count  Dtype  \n",
      "---  ------                   --------------  -----  \n",
      " 0   latitude                 92561 non-null  float64\n",
      " 1   longitude                92561 non-null  float64\n",
      " 2   avg_age_participants     92561 non-null  float64\n",
      " 3   males_ratio              92561 non-null  float64\n",
      " 4   povertyPercentage        92561 non-null  float64\n",
      " 5   injured_ratio            92561 non-null  float64\n",
      " 6   unharmed_ratio           92561 non-null  float64\n",
      " 7   candidate_winning_ratio  92561 non-null  float64\n",
      " 8   males_in_month_ratio     92561 non-null  float64\n",
      " 9   injured_in_month_ratio   92561 non-null  float64\n",
      " 10  unharmed_in_month_ratio  92561 non-null  float64\n",
      " 11  isKilled                 92561 non-null  int64  \n",
      "dtypes: float64(11), int64(1)\n",
      "memory usage: 8.5 MB\n"
     ]
    }
   ],
   "source": [
    "df_dataset.info()"
   ]
  },
  {
   "cell_type": "code",
   "execution_count": 43,
   "metadata": {
    "id": "hCGiObPFVXjJ",
    "ExecuteTime": {
     "end_time": "2024-01-08T16:34:30.727487200Z",
     "start_time": "2024-01-08T16:34:30.664907400Z"
    }
   },
   "outputs": [],
   "source": [
    "input_columns = [\n",
    "    'latitude', 'longitude', 'avg_age_participants', 'males_ratio', 'povertyPercentage', 'injured_ratio', 'unharmed_ratio',\n",
    "    'candidate_winning_ratio', 'males_in_month_ratio', 'injured_in_month_ratio', 'unharmed_in_month_ratio'\n",
    "]\n",
    "output_column = ['isKilled']"
   ]
  },
  {
   "cell_type": "markdown",
   "source": [
    "Save development and test set dataframes."
   ],
   "metadata": {
    "id": "DMSi_sX1qE5D"
   }
  },
  {
   "cell_type": "code",
   "execution_count": 44,
   "metadata": {
    "id": "bPRUVzb5WKkC",
    "ExecuteTime": {
     "end_time": "2024-01-08T16:34:32.341139100Z",
     "start_time": "2024-01-08T16:34:32.325585600Z"
    }
   },
   "outputs": [],
   "source": [
    "X_dev_df, y_dev_df = pd.DataFrame(X_dev, columns=input_columns), pd.DataFrame(y_dev, columns=output_column)\n",
    "X_test_df, y_test_df = pd.DataFrame(X_test, columns=input_columns), pd.DataFrame(y_test, columns=output_column)"
   ]
  },
  {
   "cell_type": "code",
   "execution_count": 45,
   "metadata": {
    "id": "MtIEiSUqWy8b",
    "ExecuteTime": {
     "end_time": "2024-01-08T16:34:33.803003200Z",
     "start_time": "2024-01-08T16:34:32.908841300Z"
    }
   },
   "outputs": [],
   "source": [
    "X_dev_df.to_csv('data/dev_dataset_input.csv', index=False)\n",
    "y_dev_df.to_csv('data/dev_dataset_output.csv', index=False)\n",
    "\n",
    "X_test_df.to_csv('data/test_dataset_input.csv', index=False)\n",
    "y_test_df.to_csv('data/test_dataset_output.csv', index=False)"
   ]
  },
  {
   "cell_type": "code",
   "source": [
    "len(y_test[y_test == 0]), len(y_test[y_test == 1])"
   ],
   "metadata": {
    "colab": {
     "base_uri": "https://localhost:8080/"
    },
    "id": "rJFcOaFtrU49",
    "outputId": "00b1290d-ae4e-445f-e27b-1c3b8f3c0a7b",
    "ExecuteTime": {
     "end_time": "2024-01-08T16:34:33.810320200Z",
     "start_time": "2024-01-08T16:34:33.803003200Z"
    }
   },
   "execution_count": 46,
   "outputs": [
    {
     "data": {
      "text/plain": "(14207, 4306)"
     },
     "execution_count": 46,
     "metadata": {},
     "output_type": "execute_result"
    }
   ]
  },
  {
   "cell_type": "markdown",
   "source": [
    "As we can see, there is an imbalance between the amount of data available for each of the two classes, and in particular we have more than $3$ examples of class `Not Killed` for each example of class `Killed`. Hence, in order to get a more accurate evaluation of the models on the test set, we take a subset of it through an `undersampling` procedure. We use `undersampling` instead of `oversampling` since we want to avoid repeated examples in the `Killed` class, as it can overestimate or underestimate the accuracy for that class."
   ],
   "metadata": {
    "id": "ywM4sI8TqOiQ"
   }
  },
  {
   "cell_type": "code",
   "execution_count": 47,
   "metadata": {
    "colab": {
     "base_uri": "https://localhost:8080/"
    },
    "id": "n_MzEOTeUN77",
    "outputId": "e91b0f6b-0263-498a-ad59-023ca160a817",
    "ExecuteTime": {
     "end_time": "2024-01-08T16:34:37.921938200Z",
     "start_time": "2024-01-08T16:34:37.906150900Z"
    }
   },
   "outputs": [
    {
     "name": "stdout",
     "output_type": "stream",
     "text": [
      "8612 4306 4306\n"
     ]
    }
   ],
   "source": [
    "# Undersampling for getting a class-balanced test set\n",
    "from imblearn.under_sampling import RandomUnderSampler\n",
    "undersample = RandomUnderSampler(sampling_strategy='majority', random_state=0)\n",
    "X_test_u, y_test_u = undersample.fit_resample(X_test, y_test)\n",
    "print(len(X_test_u), len(y_test_u[y_test_u == 0]), len(y_test_u[y_test_u == 1]))"
   ]
  },
  {
   "cell_type": "code",
   "execution_count": 48,
   "metadata": {
    "id": "cG4J3ZQFWJN0",
    "ExecuteTime": {
     "end_time": "2024-01-08T16:34:39.266732Z",
     "start_time": "2024-01-08T16:34:39.243000500Z"
    }
   },
   "outputs": [],
   "source": [
    "# Convert undersampled dataset to dataframes for saving\n",
    "X_test_u_df, y_test_u_df = pd.DataFrame(X_test_u, columns=input_columns), pd.DataFrame(y_test_u, columns=output_column)"
   ]
  },
  {
   "cell_type": "code",
   "execution_count": 49,
   "metadata": {
    "id": "diWLZ65aWUjO",
    "ExecuteTime": {
     "end_time": "2024-01-08T16:34:40.020682Z",
     "start_time": "2024-01-08T16:34:39.911451800Z"
    }
   },
   "outputs": [],
   "source": [
    "X_test_u_df.to_csv('data/test_dataset_undersampled_input.csv', index=False)\n",
    "y_test_u_df.to_csv('data/test_dataset_undersampled_output.csv', index=False)"
   ]
  },
  {
   "cell_type": "markdown",
   "source": [
    "Now we take a look at the class imbalance in the development set."
   ],
   "metadata": {
    "id": "j6tokNHCtYMZ"
   }
  },
  {
   "cell_type": "code",
   "execution_count": 50,
   "metadata": {
    "id": "P96aYOBZQDij",
    "ExecuteTime": {
     "end_time": "2024-01-08T16:34:41.827987600Z",
     "start_time": "2024-01-08T16:34:41.812305700Z"
    }
   },
   "outputs": [],
   "source": [
    "X_dev_orig, y_dev_orig, X_test_orig, y_test_orig = X_dev.copy(), y_dev.copy(), X_test_u.copy(), y_test_u.copy()"
   ]
  },
  {
   "cell_type": "code",
   "execution_count": 51,
   "metadata": {
    "colab": {
     "base_uri": "https://localhost:8080/"
    },
    "id": "z2fDXuTqIV5A",
    "outputId": "a118dd14-f48b-4af9-822b-62f78b2c4ff0",
    "ExecuteTime": {
     "end_time": "2024-01-08T16:34:43.246076Z",
     "start_time": "2024-01-08T16:34:43.211577400Z"
    }
   },
   "outputs": [
    {
     "data": {
      "text/plain": "(56823, 17225)"
     },
     "execution_count": 51,
     "metadata": {},
     "output_type": "execute_result"
    }
   ],
   "source": [
    "len(y_dev_orig[y_dev_orig == 0]), len(y_dev_orig[y_dev_orig == 1])"
   ]
  },
  {
   "cell_type": "code",
   "execution_count": 52,
   "metadata": {
    "colab": {
     "base_uri": "https://localhost:8080/"
    },
    "id": "_9jKRkHwIcXg",
    "outputId": "a075cc82-608c-4498-ef3e-87bd47470cf9",
    "ExecuteTime": {
     "end_time": "2024-01-08T16:34:43.937176800Z",
     "start_time": "2024-01-08T16:34:43.889746Z"
    }
   },
   "outputs": [
    {
     "data": {
      "text/plain": "3.298867924528302"
     },
     "execution_count": 52,
     "metadata": {},
     "output_type": "execute_result"
    }
   ],
   "source": [
    "len(y_dev_orig[y_dev_orig == 0])/len(y_dev_orig[y_dev_orig == 1])"
   ]
  },
  {
   "cell_type": "code",
   "source": [
    "len(y_test_orig[y_test_orig == 0]), len(y_test_orig[y_test_orig == 1])"
   ],
   "metadata": {
    "colab": {
     "base_uri": "https://localhost:8080/"
    },
    "id": "Tv0ZdBpzFqYx",
    "outputId": "3b90124d-2c00-47fc-b8bd-8c5983290655",
    "ExecuteTime": {
     "end_time": "2024-01-08T16:34:45.514232300Z",
     "start_time": "2024-01-08T16:34:45.448989200Z"
    }
   },
   "execution_count": 53,
   "outputs": [
    {
     "data": {
      "text/plain": "(4306, 4306)"
     },
     "execution_count": 53,
     "metadata": {},
     "output_type": "execute_result"
    }
   ]
  },
  {
   "cell_type": "markdown",
   "metadata": {
    "id": "e3Zpco0Z_9aG"
   },
   "source": [
    "Now visually show ratio of different classes examples in the development set."
   ]
  },
  {
   "cell_type": "code",
   "execution_count": 54,
   "metadata": {
    "colab": {
     "base_uri": "https://localhost:8080/",
     "height": 527
    },
    "id": "1MJ82JqqAC4G",
    "outputId": "c53d5282-c438-4443-f6cd-949cb068749f",
    "ExecuteTime": {
     "end_time": "2024-01-08T16:34:48.627047100Z",
     "start_time": "2024-01-08T16:34:48.561807900Z"
    }
   },
   "outputs": [
    {
     "name": "stdout",
     "output_type": "stream",
     "text": [
      "MultiIndex([(0,),\n",
      "            (1,)],\n",
      "           names=['isKilled'])\n"
     ]
    },
    {
     "data": {
      "text/plain": "<Figure size 640x480 with 1 Axes>",
      "image/png": "[encoded data removed]"
     },
     "metadata": {},
     "output_type": "display_data"
    },
    {
     "name": "stdout",
     "output_type": "stream",
     "text": [
      "isKilled\n",
      "0           56823\n",
      "1           17225\n",
      "Name: count, dtype: int64\n"
     ]
    }
   ],
   "source": [
    "killed_value_count = y_dev_df.astype(int).value_counts()\n",
    "print(killed_value_count.keys())\n",
    "# Show pie plot\n",
    "labels = ['not-killed', 'killed']\n",
    "plt.pie(killed_value_count, labels=killed_value_count.index, colors=['blue', 'red'])\n",
    "plt.show()\n",
    "print(killed_value_count)"
   ]
  },
  {
   "cell_type": "markdown",
   "metadata": {
    "id": "SpSOAXEXG0fN"
   },
   "source": [
    "### Some utils\n",
    "We now define some other utils for classification, in order to prepare training and validation set, in particular for what it concerns:\n",
    "* **Balancing**: we can use either oversampling, undersampling or avoiding any balancing;\n",
    "* **Train and Validation Size**: we default to have $80\\%$ of the development set for training;\n",
    "* **Normalization**: we employ normalization by subtracting mean and dividing by standard deviation for each separate attribute."
   ]
  },
  {
   "cell_type": "code",
   "execution_count": 55,
   "metadata": {
    "id": "QpoEltteoDMr",
    "ExecuteTime": {
     "end_time": "2024-01-08T16:34:50.038439800Z",
     "start_time": "2024-01-08T16:34:50.022400700Z"
    }
   },
   "outputs": [],
   "source": [
    "def before_classification(test_size=0.2, train_size=0.8, random_state=0, shuffle=True, normalize=True, balancing=None):\n",
    "  \"\"\"\n",
    "  Prepare dataset for training, using global variables X_dev, y_dev, X_train, y_train, X_eval, y_eval for storing\n",
    "  training and validation.\n",
    "  \"\"\"\n",
    "  global X_dev, y_dev, X_test, y_test\n",
    "  X_dev, y_dev, X_test, y_test = X_dev_orig.copy(), y_dev_orig.copy(), X_test_orig.copy(), y_test_orig.copy()\n",
    "  print(len(X_test), len(y_test[y_test == 0]), len(y_test[y_test == 1]))\n",
    "  # Balancing: None, OverSampling, UnderSampling\n",
    "  if balancing == 'oversampling':\n",
    "    oversample = RandomOverSampler(sampling_strategy='minority', random_state=0)\n",
    "    X_dev, y_dev = oversample.fit_resample(X_dev, y_dev)\n",
    "  elif balancing == 'undersampling':\n",
    "    undersample = RandomUnderSampler(sampling_strategy='majority', random_state=0)\n",
    "    X_dev, y_dev = undersample.fit_resample(X_dev, y_dev)\n",
    "  # Balancing is inherited by X_train and X_eval thanks to stratification\n",
    "  global X_train, X_eval, y_train, y_eval\n",
    "  X_train, X_eval, y_train, y_eval = train_test_split(\n",
    "      X_dev, y_dev, test_size=test_size, train_size=train_size, random_state=random_state, shuffle=shuffle, stratify=y_dev\n",
    "  )\n",
    "  if normalize:\n",
    "    scaler = StandardScaler()\n",
    "    X_dev = scaler.fit_transform(X_dev)\n",
    "    X_test = scaler.fit_transform(X_test)\n",
    "    X_train = scaler.fit_transform(X_train)\n",
    "    X_eval = scaler.fit_transform(X_eval)"
   ]
  },
  {
   "cell_type": "code",
   "execution_count": 56,
   "metadata": {
    "id": "mzCWxqV9omAs",
    "ExecuteTime": {
     "end_time": "2024-01-08T16:34:51.172560700Z",
     "start_time": "2024-01-08T16:34:51.140822Z"
    }
   },
   "outputs": [],
   "source": [
    "def evaluate_on_dataset(model, X, y):\n",
    "  \"\"\"\n",
    "  Evaluation on a dataset (e.g. development or test set).\n",
    "  \"\"\"\n",
    "  predicted = model.predict(X)\n",
    "  accuracy = tf.keras.metrics.Accuracy()\n",
    "  accuracy.update_state(y, predicted)\n",
    "  result = accuracy.result().numpy()\n",
    "  print(f\"Accuracy: {100*result:.4f}%\")\n",
    "  report_scores(y, predicted)"
   ]
  },
  {
   "cell_type": "code",
   "execution_count": 57,
   "metadata": {
    "id": "-wjsVlaSuqWq",
    "ExecuteTime": {
     "end_time": "2024-01-08T16:34:52.235531200Z",
     "start_time": "2024-01-08T16:34:52.173318200Z"
    }
   },
   "outputs": [],
   "source": [
    "# Define global variables X_train, X_eval, y_train, y_eval for usage in \"before_classification\"\n",
    "X_train, X_eval, y_train, y_eval = None, None, None, None"
   ]
  },
  {
   "cell_type": "markdown",
   "source": [
    "# Classification\n",
    "For most models we will do a `Grid Search` with `K-Fold Cross Validation` with $5$ or $6$ folds (except for SVM, for which we will use $2$ folds). We will also compare the results obtained with *oversampling*, *undersampling* and no balancing."
   ],
   "metadata": {
    "id": "n2gJ5gspw2ax"
   }
  },
  {
   "cell_type": "markdown",
   "metadata": {
    "id": "BFWgO6iqdQVd"
   },
   "source": [
    "## Classification with Decision Trees"
   ]
  },
  {
   "cell_type": "code",
   "execution_count": 37,
   "metadata": {
    "id": "ognTQwdXyC1c"
   },
   "outputs": [],
   "source": [
    "# Function that finds the best decision tree doing hyperparameter search through CV.\n",
    "# Retrains on the whole set at the end.\n",
    "from sklearn.tree import DecisionTreeClassifier\n",
    "def build_decision_tree(X, y, cv=5, print_res=True):\n",
    "    params = [{\n",
    "    'criterion': ['gini', 'entropy'],\n",
    "    'max_depth': [5, 10, None],\n",
    "    'max_features': ['sqrt', 'log2', None],\n",
    "    'min_samples_split': [2, 4, 6],\n",
    "    'min_samples_leaf': [2, 4]\n",
    "    }]\n",
    "    clf = GridSearchCV(DecisionTreeClassifier(), params, refit = True, cv=cv, scoring='accuracy', n_jobs=os.cpu_count(), verbose=10)\n",
    "    clf.fit(X, y)\n",
    "    if print_res:\n",
    "        print(\"DT - Best parameters set found:\")\n",
    "        print(clf.best_params_)\n",
    "        print(\"DT - Best accuraccy score found:\")\n",
    "        print(clf.best_score_)\n",
    "\n",
    "    return(clf.best_score_, clf.best_estimator_)"
   ]
  },
  {
   "cell_type": "markdown",
   "metadata": {
    "id": "fimOizop1s-m"
   },
   "source": [
    "We first use `oversampling`:"
   ]
  },
  {
   "cell_type": "code",
   "execution_count": 38,
   "metadata": {
    "colab": {
     "base_uri": "https://localhost:8080/"
    },
    "id": "TD5SQ8ojojMv",
    "outputId": "92ae6d67-30e3-4129-bced-f216f05c2fcc"
   },
   "outputs": [
    {
     "output_type": "stream",
     "name": "stdout",
     "text": [
      "8612 4306 4306\n",
      "Fitting 5 folds for each of 108 candidates, totalling 540 fits\n",
      "DT - Best parameters set found:\n",
      "{'criterion': 'entropy', 'max_depth': None, 'max_features': None, 'min_samples_leaf': 2, 'min_samples_split': 2}\n",
      "DT - Best accuraccy score found:\n",
      "0.9073263696543312\n"
     ]
    }
   ],
   "source": [
    "before_classification(test_size=0.2, train_size=0.8, random_state=0, shuffle=True, balancing='oversampling')\n",
    "best_score_dt, best_dt = build_decision_tree(X_dev, y_dev)"
   ]
  },
  {
   "cell_type": "code",
   "source": [
    "len(y_dev), len(y_test)"
   ],
   "metadata": {
    "colab": {
     "base_uri": "https://localhost:8080/"
    },
    "id": "QQ2BlEblGo0g",
    "outputId": "171a78a5-dff5-4ddb-e976-33973d937b54"
   },
   "execution_count": 40,
   "outputs": [
    {
     "output_type": "execute_result",
     "data": {
      "text/plain": [
       "(113646, 8612)"
      ]
     },
     "metadata": {},
     "execution_count": 40
    }
   ]
  },
  {
   "cell_type": "code",
   "execution_count": 41,
   "metadata": {
    "colab": {
     "base_uri": "https://localhost:8080/"
    },
    "id": "h-P9VPafpFrb",
    "outputId": "bd850075-2fe4-45fc-b223-810429f11d90"
   },
   "outputs": [
    {
     "output_type": "stream",
     "name": "stdout",
     "text": [
      "Accuracy: 98.8640%\n",
      "              precision    recall  f1-score   support\n",
      "\n",
      "  Not Killed       0.99      0.99      0.99     56823\n",
      "      Killed       0.99      0.99      0.99     56823\n",
      "\n",
      "    accuracy                           0.99    113646\n",
      "   macro avg       0.99      0.99      0.99    113646\n",
      "weighted avg       0.99      0.99      0.99    113646\n",
      "\n",
      "Accuracy: 70.5063%\n",
      "              precision    recall  f1-score   support\n",
      "\n",
      "  Not Killed       0.66      0.85      0.74      4306\n",
      "      Killed       0.79      0.56      0.65      4306\n",
      "\n",
      "    accuracy                           0.71      8612\n",
      "   macro avg       0.72      0.71      0.70      8612\n",
      "weighted avg       0.72      0.71      0.70      8612\n",
      "\n"
     ]
    }
   ],
   "source": [
    "evaluate_on_dataset(best_dt, X_dev, y_dev)\n",
    "evaluate_on_dataset(best_dt, X_test, y_test)"
   ]
  },
  {
   "cell_type": "markdown",
   "metadata": {
    "id": "z5meDP6E1jig"
   },
   "source": [
    "Now with `undersampling`:"
   ]
  },
  {
   "cell_type": "code",
   "execution_count": 42,
   "metadata": {
    "colab": {
     "base_uri": "https://localhost:8080/"
    },
    "id": "AiXBKXXG1hU2",
    "outputId": "c5dc9b60-d8a1-4ed7-af48-7b5e1a86de40"
   },
   "outputs": [
    {
     "output_type": "stream",
     "name": "stdout",
     "text": [
      "8612 4306 4306\n",
      "Fitting 5 folds for each of 108 candidates, totalling 540 fits\n",
      "DT - Best parameters set found:\n",
      "{'criterion': 'gini', 'max_depth': 10, 'max_features': None, 'min_samples_leaf': 2, 'min_samples_split': 6}\n",
      "DT - Best accuraccy score found:\n",
      "0.8167779390420901\n"
     ]
    }
   ],
   "source": [
    "before_classification(test_size=0.2, train_size=0.8, random_state=0, shuffle=True, balancing='undersampling')\n",
    "best_score_dt, best_dt = build_decision_tree(X_dev, y_dev)"
   ]
  },
  {
   "cell_type": "code",
   "source": [
    "len(y_dev), len(y_test)"
   ],
   "metadata": {
    "colab": {
     "base_uri": "https://localhost:8080/"
    },
    "id": "oeS5gU1TIWIL",
    "outputId": "209b2f3d-6983-42c1-f937-8a5a0d9b8b83"
   },
   "execution_count": 43,
   "outputs": [
    {
     "output_type": "execute_result",
     "data": {
      "text/plain": [
       "(34450, 8612)"
      ]
     },
     "metadata": {},
     "execution_count": 43
    }
   ]
  },
  {
   "cell_type": "code",
   "execution_count": 44,
   "metadata": {
    "colab": {
     "base_uri": "https://localhost:8080/"
    },
    "id": "InJOfU9_1hVW",
    "outputId": "82a42e52-28be-4f59-fd1d-580f19340c6e"
   },
   "outputs": [
    {
     "output_type": "stream",
     "name": "stdout",
     "text": [
      "Accuracy: 83.1205%\n",
      "              precision    recall  f1-score   support\n",
      "\n",
      "  Not Killed       0.89      0.76      0.82     17225\n",
      "      Killed       0.79      0.91      0.84     17225\n",
      "\n",
      "    accuracy                           0.83     34450\n",
      "   macro avg       0.84      0.83      0.83     34450\n",
      "weighted avg       0.84      0.83      0.83     34450\n",
      "\n",
      "Accuracy: 80.8291%\n",
      "              precision    recall  f1-score   support\n",
      "\n",
      "  Not Killed       0.86      0.73      0.79      4306\n",
      "      Killed       0.77      0.88      0.82      4306\n",
      "\n",
      "    accuracy                           0.81      8612\n",
      "   macro avg       0.82      0.81      0.81      8612\n",
      "weighted avg       0.82      0.81      0.81      8612\n",
      "\n"
     ]
    }
   ],
   "source": [
    "evaluate_on_dataset(best_dt, X_dev, y_dev)\n",
    "evaluate_on_dataset(best_dt, X_test, y_test)"
   ]
  },
  {
   "cell_type": "markdown",
   "metadata": {
    "id": "ENKJKFyPBtqL"
   },
   "source": [
    "We now make a comparison with the **unbalanced** dataset:"
   ]
  },
  {
   "cell_type": "code",
   "execution_count": 45,
   "metadata": {
    "colab": {
     "base_uri": "https://localhost:8080/"
    },
    "id": "kARhRFeiBzeF",
    "outputId": "f841d0c7-b60f-4624-fa84-1934f8d1354c"
   },
   "outputs": [
    {
     "output_type": "stream",
     "name": "stdout",
     "text": [
      "8612 4306 4306\n",
      "74048 8612\n",
      "Fitting 5 folds for each of 108 candidates, totalling 540 fits\n",
      "DT - Best parameters set found:\n",
      "{'criterion': 'entropy', 'max_depth': None, 'max_features': 'sqrt', 'min_samples_leaf': 4, 'min_samples_split': 2}\n",
      "DT - Best accuraccy score found:\n",
      "0.8284490684876056\n"
     ]
    }
   ],
   "source": [
    "before_classification(test_size=0.2, train_size=0.8, random_state=0, shuffle=True, balancing=None)\n",
    "print(len(y_dev), len(y_test))\n",
    "best_score_dt, best_dt = build_decision_tree(X_dev, y_dev)"
   ]
  },
  {
   "cell_type": "code",
   "execution_count": 46,
   "metadata": {
    "colab": {
     "base_uri": "https://localhost:8080/"
    },
    "id": "AmNf0oDjBzeM",
    "outputId": "4f35b784-33ad-465f-e45c-fdd1719032c1"
   },
   "outputs": [
    {
     "output_type": "stream",
     "name": "stdout",
     "text": [
      "Accuracy: 91.1085%\n",
      "              precision    recall  f1-score   support\n",
      "\n",
      "  Not Killed       0.93      0.96      0.94     56823\n",
      "      Killed       0.85      0.75      0.80     17225\n",
      "\n",
      "    accuracy                           0.91     74048\n",
      "   macro avg       0.89      0.86      0.87     74048\n",
      "weighted avg       0.91      0.91      0.91     74048\n",
      "\n",
      "Accuracy: 64.2592%\n",
      "              precision    recall  f1-score   support\n",
      "\n",
      "  Not Killed       0.60      0.86      0.71      4306\n",
      "      Killed       0.75      0.42      0.54      4306\n",
      "\n",
      "    accuracy                           0.64      8612\n",
      "   macro avg       0.68      0.64      0.62      8612\n",
      "weighted avg       0.68      0.64      0.62      8612\n",
      "\n"
     ]
    }
   ],
   "source": [
    "evaluate_on_dataset(best_dt, X_dev, y_dev)\n",
    "evaluate_on_dataset(best_dt, X_test, y_test)"
   ]
  },
  {
   "cell_type": "code",
   "execution_count": 47,
   "metadata": {
    "colab": {
     "base_uri": "https://localhost:8080/"
    },
    "id": "LcTrzP2GCjEy",
    "outputId": "c79489b8-056c-4344-e847-5d96abaa3cd6"
   },
   "outputs": [
    {
     "output_type": "execute_result",
     "data": {
      "text/plain": [
       "(56823, 17225)"
      ]
     },
     "metadata": {},
     "execution_count": 47
    }
   ],
   "source": [
    "len(y_dev[y_dev == 0]), len(y_dev[y_dev == 1])"
   ]
  },
  {
   "cell_type": "markdown",
   "metadata": {
    "id": "I74eFJ3NCp53"
   },
   "source": [
    "As we can see, in this case balancing has no significant effect on the performances of the Decision Trees. We got the following accuracies:\n",
    "* **OverSampling**: $91.13\\%$ on development set, $82.71\\%$ on test set;\n",
    "* **UnderSampling**: $91.29\\%$ on development set, $83.09\\%$ on test set;\n",
    "* **No Balancing**: $90.88\\%$ on development set, $83.17\\%$ on test set."
   ]
  },
  {
   "cell_type": "markdown",
   "metadata": {
    "id": "R8T2nSz3KObO"
   },
   "source": [
    "## Classification with Random Forest"
   ]
  },
  {
   "cell_type": "code",
   "execution_count": 48,
   "metadata": {
    "id": "FJfSDVpjDWjA"
   },
   "outputs": [],
   "source": [
    "# Function that finds the best random forest doing hyperparameter search through CV.\n",
    "# Retrains on the whole set at the end.\n",
    "from sklearn.ensemble import RandomForestClassifier, VotingClassifier\n",
    "def build_random_forest(X, y, cv=4, print_res=True):\n",
    "    params = [{\n",
    "    'max_depth': [5, 15, 30],\n",
    "    'max_features': ['log2', None],\n",
    "    'min_samples_leaf': [1, 2, 4],\n",
    "    'n_estimators': [32, 64]\n",
    "    }]\n",
    "    clf = GridSearchCV(RandomForestClassifier(), params, refit = True, cv=cv, scoring='accuracy', n_jobs=-1, verbose=10)\n",
    "    clf.fit(X, y)\n",
    "    if print_res:\n",
    "        print(\"RF - Best parameters set found:\")\n",
    "        print(clf.best_params_)\n",
    "        print(\"RF - Best accuraccy score found:\")\n",
    "        print(clf.best_score_)\n",
    "\n",
    "    return(clf.best_score_, clf.best_estimator_)"
   ]
  },
  {
   "cell_type": "code",
   "execution_count": 49,
   "metadata": {
    "colab": {
     "base_uri": "https://localhost:8080/"
    },
    "id": "vlWkVkQzpfo6",
    "outputId": "432855ff-b2a4-4def-d993-fd2469095d7e"
   },
   "outputs": [
    {
     "output_type": "stream",
     "name": "stdout",
     "text": [
      "8612 4306 4306\n",
      "Fitting 4 folds for each of 36 candidates, totalling 144 fits\n",
      "RF - Best parameters set found:\n",
      "{'max_depth': 30, 'max_features': 'log2', 'min_samples_leaf': 1, 'n_estimators': 64}\n",
      "RF - Best accuraccy score found:\n",
      "0.930512326758746\n"
     ]
    }
   ],
   "source": [
    "before_classification(test_size=0.2, train_size=0.8, random_state=0, shuffle=True, balancing='oversampling')\n",
    "best_score_rf, best_rf = build_random_forest(X_dev, y_dev)"
   ]
  },
  {
   "cell_type": "code",
   "source": [
    "len(y_dev), len(y_test)"
   ],
   "metadata": {
    "colab": {
     "base_uri": "https://localhost:8080/"
    },
    "id": "EriEDvBtSjWS",
    "outputId": "fc9f1b77-362b-494d-8c3f-6f94b433530d"
   },
   "execution_count": 50,
   "outputs": [
    {
     "output_type": "execute_result",
     "data": {
      "text/plain": [
       "(113646, 8612)"
      ]
     },
     "metadata": {},
     "execution_count": 50
    }
   ]
  },
  {
   "cell_type": "code",
   "execution_count": 51,
   "metadata": {
    "colab": {
     "base_uri": "https://localhost:8080/"
    },
    "id": "zmOg9a0Xm3jk",
    "outputId": "acddcb1b-b9c6-4d71-c05d-c25e26b087c2"
   },
   "outputs": [
    {
     "output_type": "stream",
     "name": "stdout",
     "text": [
      "Accuracy: 99.9050%\n",
      "              precision    recall  f1-score   support\n",
      "\n",
      "  Not Killed       1.00      1.00      1.00     56823\n",
      "      Killed       1.00      1.00      1.00     56823\n",
      "\n",
      "    accuracy                           1.00    113646\n",
      "   macro avg       1.00      1.00      1.00    113646\n",
      "weighted avg       1.00      1.00      1.00    113646\n",
      "\n",
      "Accuracy: 78.2861%\n",
      "              precision    recall  f1-score   support\n",
      "\n",
      "  Not Killed       0.73      0.89      0.80      4306\n",
      "      Killed       0.86      0.68      0.76      4306\n",
      "\n",
      "    accuracy                           0.78      8612\n",
      "   macro avg       0.80      0.78      0.78      8612\n",
      "weighted avg       0.80      0.78      0.78      8612\n",
      "\n"
     ]
    }
   ],
   "source": [
    "evaluate_on_dataset(best_rf, X_dev, y_dev)\n",
    "evaluate_on_dataset(best_rf, X_test, y_test)"
   ]
  },
  {
   "cell_type": "markdown",
   "metadata": {
    "id": "gzDQAhQ6MknZ"
   },
   "source": [
    "Now we use **undersampling**:"
   ]
  },
  {
   "cell_type": "code",
   "execution_count": 52,
   "metadata": {
    "colab": {
     "base_uri": "https://localhost:8080/"
    },
    "id": "02TTiJ7qMnVf",
    "outputId": "d2f9fa9e-e735-4c12-a459-e737339013a3"
   },
   "outputs": [
    {
     "output_type": "stream",
     "name": "stdout",
     "text": [
      "8612 4306 4306\n",
      "Fitting 4 folds for each of 36 candidates, totalling 144 fits\n",
      "RF - Best parameters set found:\n",
      "{'max_depth': 30, 'max_features': 'log2', 'min_samples_leaf': 4, 'n_estimators': 64}\n",
      "RF - Best accuraccy score found:\n",
      "0.8357908677670999\n"
     ]
    }
   ],
   "source": [
    "before_classification(test_size=0.2, train_size=0.8, random_state=0, shuffle=True, balancing='undersampling')\n",
    "best_score_rf, best_rf = build_random_forest(X_dev, y_dev)"
   ]
  },
  {
   "cell_type": "code",
   "source": [
    "len(y_dev), len(y_test)"
   ],
   "metadata": {
    "colab": {
     "base_uri": "https://localhost:8080/"
    },
    "id": "rtWqul1FSphB",
    "outputId": "d6099b0c-b150-4508-d543-1602f74ae5e2"
   },
   "execution_count": 53,
   "outputs": [
    {
     "output_type": "execute_result",
     "data": {
      "text/plain": [
       "(34450, 8612)"
      ]
     },
     "metadata": {},
     "execution_count": 53
    }
   ]
  },
  {
   "cell_type": "code",
   "execution_count": 54,
   "metadata": {
    "colab": {
     "base_uri": "https://localhost:8080/"
    },
    "id": "7v_Xn4x5MnVl",
    "outputId": "d1877fb2-b6e6-41d1-c9fa-7ab9a34967b2"
   },
   "outputs": [
    {
     "output_type": "stream",
     "name": "stdout",
     "text": [
      "Accuracy: 91.5356%\n",
      "              precision    recall  f1-score   support\n",
      "\n",
      "  Not Killed       0.95      0.87      0.91     17225\n",
      "      Killed       0.88      0.96      0.92     17225\n",
      "\n",
      "    accuracy                           0.92     34450\n",
      "   macro avg       0.92      0.92      0.92     34450\n",
      "weighted avg       0.92      0.92      0.92     34450\n",
      "\n",
      "Accuracy: 82.7915%\n",
      "              precision    recall  f1-score   support\n",
      "\n",
      "  Not Killed       0.87      0.77      0.82      4306\n",
      "      Killed       0.79      0.89      0.84      4306\n",
      "\n",
      "    accuracy                           0.83      8612\n",
      "   macro avg       0.83      0.83      0.83      8612\n",
      "weighted avg       0.83      0.83      0.83      8612\n",
      "\n"
     ]
    }
   ],
   "source": [
    "evaluate_on_dataset(best_rf, X_dev, y_dev)\n",
    "evaluate_on_dataset(best_rf, X_test, y_test)"
   ]
  },
  {
   "cell_type": "markdown",
   "metadata": {
    "id": "XwV96K0BTIG_"
   },
   "source": [
    "We do now use the **unbalanced** dataset:"
   ]
  },
  {
   "cell_type": "code",
   "execution_count": 86,
   "metadata": {
    "colab": {
     "base_uri": "https://localhost:8080/"
    },
    "id": "j3DkB7baTLF7",
    "outputId": "fc42b6d8-ca9f-45f8-9cd2-4e82c5efe6d6"
   },
   "outputs": [
    {
     "output_type": "stream",
     "name": "stdout",
     "text": [
      "8612 4306 4306\n",
      "Fitting 4 folds for each of 36 candidates, totalling 144 fits\n"
     ]
    },
    {
     "output_type": "stream",
     "name": "stderr",
     "text": [
      "/usr/local/lib/python3.10/dist-packages/sklearn/model_selection/_search.py:909: DataConversionWarning: A column-vector y was passed when a 1d array was expected. Please change the shape of y to (n_samples,), for example using ravel().\n",
      "  self.best_estimator_.fit(X, y, **fit_params)\n"
     ]
    },
    {
     "output_type": "stream",
     "name": "stdout",
     "text": [
      "RF - Best parameters set found:\n",
      "{'max_depth': 30, 'max_features': 'log2', 'min_samples_leaf': 4, 'n_estimators': 64}\n",
      "RF - Best accuraccy score found:\n",
      "0.8604823898012101\n"
     ]
    }
   ],
   "source": [
    "before_classification(test_size=0.2, train_size=0.8, random_state=0, shuffle=True, balancing=None)\n",
    "best_score_rf, best_rf = build_random_forest(X_dev, y_dev)"
   ]
  },
  {
   "cell_type": "code",
   "execution_count": 87,
   "metadata": {
    "colab": {
     "base_uri": "https://localhost:8080/"
    },
    "id": "rAjHoTdLTLF8",
    "outputId": "2911c6df-6a38-49ff-cfe6-b72ff08d7b7c"
   },
   "outputs": [
    {
     "output_type": "stream",
     "name": "stdout",
     "text": [
      "Accuracy: 93.5461%\n",
      "              precision    recall  f1-score   support\n",
      "\n",
      "  Not Killed       0.95      0.97      0.96     56823\n",
      "      Killed       0.89      0.82      0.86     17225\n",
      "\n",
      "    accuracy                           0.94     74048\n",
      "   macro avg       0.92      0.90      0.91     74048\n",
      "weighted avg       0.93      0.94      0.93     74048\n",
      "\n",
      "Accuracy: 73.5718%\n",
      "              precision    recall  f1-score   support\n",
      "\n",
      "  Not Killed       0.67      0.91      0.78      4306\n",
      "      Killed       0.86      0.56      0.68      4306\n",
      "\n",
      "    accuracy                           0.74      8612\n",
      "   macro avg       0.77      0.74      0.73      8612\n",
      "weighted avg       0.77      0.74      0.73      8612\n",
      "\n"
     ]
    }
   ],
   "source": [
    "evaluate_on_dataset(best_rf, X_dev, y_dev)\n",
    "evaluate_on_dataset(best_rf, X_test, y_test)"
   ]
  },
  {
   "cell_type": "markdown",
   "source": [
    "As for Decision Trees, we see that also in this case balancing has no significant effect on the performances of the Random Forests. We got the following accuracies:\n",
    "* **OverSampling**: $97.30\\%$ on development set, $86.31\\%$ on test set;\n",
    "* **UnderSampling**: $97.23\\%$ on development set, $86.51\\%$ on test set;\n",
    "* **No Balancing**: $97.22\\%$ on development set, $86.20\\%$ on test set."
   ],
   "metadata": {
    "id": "p-YtBqFR4LO2"
   }
  },
  {
   "cell_type": "markdown",
   "metadata": {
    "id": "h7FYXmvPKObW"
   },
   "source": [
    "## Classification with KNN"
   ]
  },
  {
   "cell_type": "code",
   "execution_count": 88,
   "metadata": {
    "id": "AY1ez7kwccMK"
   },
   "outputs": [],
   "source": [
    "from sklearn.neighbors import KNeighborsClassifier"
   ]
  },
  {
   "cell_type": "code",
   "execution_count": 89,
   "metadata": {
    "id": "2aJFbriycfkt"
   },
   "outputs": [],
   "source": [
    "def knn_search(X_train, y_train, X_eval, y_eval, k_start, k_end):\n",
    "  k_list = [x for x in range(k_start, k_end)]\n",
    "  knn_list = []\n",
    "  acc_tr_list = []\n",
    "  acc_val_list = []\n",
    "\n",
    "  for k in tqdm(k_list):\n",
    "      # Create knn model\n",
    "      knn = KNeighborsClassifier(n_neighbors=k)\n",
    "      knn.fit(X_train, y_train.ravel())\n",
    "      knn_list.append(knn)\n",
    "      # Predict for train and validation sets\n",
    "      y_pred_train = knn.predict(X_train)\n",
    "      y_pred_eval = knn.predict(X_eval)\n",
    "      # Accuracy\n",
    "      acc_tr = accuracy_score(y_train, y_pred_train)\n",
    "      acc_val = accuracy_score(y_eval, y_pred_eval)\n",
    "      acc_tr_list.append(acc_tr)\n",
    "      acc_val_list.append(acc_val)\n",
    "  return knn_list, acc_tr_list, acc_val_list"
   ]
  },
  {
   "cell_type": "markdown",
   "metadata": {
    "id": "aV4UHL1nsRxy"
   },
   "source": [
    "We first use *oversampling*:"
   ]
  },
  {
   "cell_type": "code",
   "execution_count": 90,
   "metadata": {
    "colab": {
     "base_uri": "https://localhost:8080/"
    },
    "id": "mNr8JIMrqzty",
    "outputId": "6828139e-e12d-42c5-be74-2532b61d47f1"
   },
   "outputs": [
    {
     "output_type": "stream",
     "name": "stdout",
     "text": [
      "8612 4306 4306\n"
     ]
    },
    {
     "output_type": "stream",
     "name": "stderr",
     "text": [
      "100%|██████████| 20/20 [11:07<00:00, 33.36s/it]\n"
     ]
    }
   ],
   "source": [
    "before_classification(test_size=0.2, train_size=0.8, random_state=0, shuffle=True, balancing='oversampling')\n",
    "knn_list, acc_tr_list, acc_val_list = knn_search(X_train, y_train, X_eval, y_eval, 1, 21)"
   ]
  },
  {
   "cell_type": "code",
   "source": [
    "len(y_dev), len(y_test)"
   ],
   "metadata": {
    "colab": {
     "base_uri": "https://localhost:8080/"
    },
    "id": "8oEqPqZdytAO",
    "outputId": "51e4ea12-e0d4-48ab-9b47-adcdc5fa16bf"
   },
   "execution_count": 91,
   "outputs": [
    {
     "output_type": "execute_result",
     "data": {
      "text/plain": [
       "(113646, 8612)"
      ]
     },
     "metadata": {},
     "execution_count": 91
    }
   ]
  },
  {
   "cell_type": "code",
   "execution_count": 92,
   "metadata": {
    "colab": {
     "base_uri": "https://localhost:8080/"
    },
    "id": "uiThtwKKkT5u",
    "outputId": "eabb49b6-a70e-4bc8-a59f-2680d516ffdf"
   },
   "outputs": [
    {
     "output_type": "stream",
     "name": "stdout",
     "text": [
      "K = 1\n",
      "\tTraining Accuracy: 100.0000%\n",
      "\tValidation Accuracy: 91.5750%\n",
      "\tTest Accuracy: 73.9782%\n",
      "K = 2\n",
      "\tTraining Accuracy: 98.5910%\n",
      "\tValidation Accuracy: 87.8443%\n",
      "\tTest Accuracy: 72.7706%\n",
      "K = 3\n",
      "\tTraining Accuracy: 93.3257%\n",
      "\tValidation Accuracy: 87.0744%\n",
      "\tTest Accuracy: 78.2048%\n",
      "K = 4\n",
      "\tTraining Accuracy: 92.0179%\n",
      "\tValidation Accuracy: 85.2442%\n",
      "\tTest Accuracy: 76.9275%\n",
      "K = 5\n",
      "\tTraining Accuracy: 89.8907%\n",
      "\tValidation Accuracy: 85.4553%\n",
      "\tTest Accuracy: 79.0757%\n",
      "K = 6\n",
      "\tTraining Accuracy: 89.0437%\n",
      "\tValidation Accuracy: 84.4127%\n",
      "\tTest Accuracy: 79.0060%\n",
      "K = 7\n",
      "\tTraining Accuracy: 88.0912%\n",
      "\tValidation Accuracy: 84.5974%\n",
      "\tTest Accuracy: 79.9001%\n",
      "K = 8\n",
      "\tTraining Accuracy: 87.5962%\n",
      "\tValidation Accuracy: 84.1487%\n",
      "\tTest Accuracy: 79.4821%\n",
      "K = 9\n",
      "\tTraining Accuracy: 87.0551%\n",
      "\tValidation Accuracy: 84.1267%\n",
      "\tTest Accuracy: 80.5504%\n",
      "K = 10\n",
      "\tTraining Accuracy: 86.6910%\n",
      "\tValidation Accuracy: 83.8231%\n",
      "\tTest Accuracy: 80.3065%\n",
      "K = 11\n",
      "\tTraining Accuracy: 86.3126%\n",
      "\tValidation Accuracy: 83.9243%\n",
      "\tTest Accuracy: 81.2007%\n",
      "K = 12\n",
      "\tTraining Accuracy: 85.9783%\n",
      "\tValidation Accuracy: 83.6120%\n",
      "\tTest Accuracy: 80.8175%\n",
      "K = 13\n",
      "\tTraining Accuracy: 85.6857%\n",
      "\tValidation Accuracy: 83.8099%\n",
      "\tTest Accuracy: 81.0845%\n",
      "K = 14\n",
      "\tTraining Accuracy: 85.4789%\n",
      "\tValidation Accuracy: 83.4800%\n",
      "\tTest Accuracy: 80.6433%\n",
      "K = 15\n",
      "\tTraining Accuracy: 85.2941%\n",
      "\tValidation Accuracy: 83.4888%\n",
      "\tTest Accuracy: 81.1194%\n",
      "K = 16\n",
      "\tTraining Accuracy: 85.1478%\n",
      "\tValidation Accuracy: 83.3040%\n",
      "\tTest Accuracy: 81.2239%\n",
      "K = 17\n",
      "\tTraining Accuracy: 84.9300%\n",
      "\tValidation Accuracy: 83.4228%\n",
      "\tTest Accuracy: 81.3632%\n",
      "K = 18\n",
      "\tTraining Accuracy: 84.7354%\n",
      "\tValidation Accuracy: 83.2952%\n",
      "\tTest Accuracy: 81.2587%\n",
      "K = 19\n",
      "\tTraining Accuracy: 84.6232%\n",
      "\tValidation Accuracy: 83.3304%\n",
      "\tTest Accuracy: 81.5606%\n",
      "K = 20\n",
      "\tTraining Accuracy: 84.4824%\n",
      "\tValidation Accuracy: 83.0180%\n",
      "\tTest Accuracy: 81.4793%\n"
     ]
    }
   ],
   "source": [
    "acc_test_list = []\n",
    "for k in range(1, 21):\n",
    "  print(f\"K = {k}\")\n",
    "  print(f\"\\tTraining Accuracy: {100*acc_tr_list[k-1]:.4f}%\")\n",
    "  print(f\"\\tValidation Accuracy: {100*acc_val_list[k-1]:.4f}%\")\n",
    "  y_pred_test = knn_list[k-1].predict(X_test)\n",
    "  acc = accuracy_score(y_test, y_pred_test)\n",
    "  acc_test_list.append(acc)\n",
    "  print(f\"\\tTest Accuracy: {100*acc:.4f}%\")"
   ]
  },
  {
   "cell_type": "code",
   "source": [
    "k_values = list(range(1, 21))  # K values from 1 to 20\n",
    "\n",
    "# Plotting the accuracy values for training, validation, and test sets\n",
    "plt.figure(figsize=(10, 6))\n",
    "plt.plot(k_values, [100*item for item in acc_tr_list], marker='o', label='Training Accuracy')\n",
    "plt.plot(k_values, [100*item for item in acc_val_list], marker='o', label='Validation Accuracy')\n",
    "plt.plot(k_values, [100*item for item in acc_test_list], marker='o', label='Test Accuracy')\n",
    "plt.xlabel('K')\n",
    "plt.ylabel('Accuracy (%)')\n",
    "plt.title('Accuracy for Different Values of K')\n",
    "plt.xticks(k_values)\n",
    "plt.legend()\n",
    "plt.grid(True)\n",
    "plt.show()"
   ],
   "metadata": {
    "colab": {
     "base_uri": "https://localhost:8080/",
     "height": 564
    },
    "id": "F5sjTDqwYVFK",
    "outputId": "b64ff832-23ba-4cd2-d97e-a4334a1d9be2"
   },
   "execution_count": 93,
   "outputs": [
    {
     "output_type": "display_data",
     "data": {
      "text/plain": [
       "<Figure size 1000x600 with 1 Axes>"
      ],
      "image/png": "[encoded data removed]"
     },
     "metadata": {}
    }
   ]
  },
  {
   "cell_type": "markdown",
   "metadata": {
    "id": "W3pePy73sWtW"
   },
   "source": [
    "We now take a look at the *undersampling* case:"
   ]
  },
  {
   "cell_type": "code",
   "execution_count": 94,
   "metadata": {
    "colab": {
     "base_uri": "https://localhost:8080/"
    },
    "id": "il6f8S3BsYVQ",
    "outputId": "7fe95d28-3a0b-43a1-b111-35bdb2223175"
   },
   "outputs": [
    {
     "output_type": "stream",
     "name": "stdout",
     "text": [
      "8612 4306 4306\n"
     ]
    },
    {
     "output_type": "stream",
     "name": "stderr",
     "text": [
      "100%|██████████| 20/20 [02:02<00:00,  6.11s/it]\n"
     ]
    }
   ],
   "source": [
    "before_classification(test_size=0.2, train_size=0.8, random_state=0, shuffle=True, balancing='undersampling')\n",
    "knn_list, acc_tr_list, acc_val_list = knn_search(X_train, y_train, X_eval, y_eval, 1, 21)"
   ]
  },
  {
   "cell_type": "code",
   "execution_count": 95,
   "metadata": {
    "colab": {
     "base_uri": "https://localhost:8080/"
    },
    "id": "bPIyojGWsYVV",
    "outputId": "f195473d-3d4b-49a0-bee7-d51020081b55"
   },
   "outputs": [
    {
     "output_type": "stream",
     "name": "stdout",
     "text": [
      "K = 1\n",
      "\tTraining Accuracy: 100.0000%\n",
      "\tValidation Accuracy: 76.5893%\n",
      "\tTest Accuracy: 76.8927%\n",
      "K = 2\n",
      "\tTraining Accuracy: 88.4144%\n",
      "\tValidation Accuracy: 74.6299%\n",
      "\tTest Accuracy: 74.5123%\n",
      "K = 3\n",
      "\tTraining Accuracy: 88.6684%\n",
      "\tValidation Accuracy: 79.3469%\n",
      "\tTest Accuracy: 79.4589%\n",
      "K = 4\n",
      "\tTraining Accuracy: 86.4768%\n",
      "\tValidation Accuracy: 78.3745%\n",
      "\tTest Accuracy: 78.2513%\n",
      "K = 5\n",
      "\tTraining Accuracy: 86.1756%\n",
      "\tValidation Accuracy: 79.9710%\n",
      "\tTest Accuracy: 80.2833%\n",
      "K = 6\n",
      "\tTraining Accuracy: 85.1814%\n",
      "\tValidation Accuracy: 79.3614%\n",
      "\tTest Accuracy: 79.7724%\n",
      "K = 7\n",
      "\tTraining Accuracy: 85.1234%\n",
      "\tValidation Accuracy: 80.6676%\n",
      "\tTest Accuracy: 81.1426%\n",
      "K = 8\n",
      "\tTraining Accuracy: 84.4594%\n",
      "\tValidation Accuracy: 80.2322%\n",
      "\tTest Accuracy: 80.2601%\n",
      "K = 9\n",
      "\tTraining Accuracy: 84.4448%\n",
      "\tValidation Accuracy: 81.0885%\n",
      "\tTest Accuracy: 81.2007%\n",
      "K = 10\n",
      "\tTraining Accuracy: 84.1509%\n",
      "\tValidation Accuracy: 80.6386%\n",
      "\tTest Accuracy: 80.7826%\n",
      "K = 11\n",
      "\tTraining Accuracy: 83.9514%\n",
      "\tValidation Accuracy: 81.4514%\n",
      "\tTest Accuracy: 81.2935%\n",
      "K = 12\n",
      "\tTraining Accuracy: 83.6974%\n",
      "\tValidation Accuracy: 81.3353%\n",
      "\tTest Accuracy: 80.8059%\n",
      "K = 13\n",
      "\tTraining Accuracy: 83.7155%\n",
      "\tValidation Accuracy: 81.4949%\n",
      "\tTest Accuracy: 81.3284%\n",
      "K = 14\n",
      "\tTraining Accuracy: 83.5196%\n",
      "\tValidation Accuracy: 81.1466%\n",
      "\tTest Accuracy: 81.1194%\n",
      "K = 15\n",
      "\tTraining Accuracy: 83.4833%\n",
      "\tValidation Accuracy: 81.4369%\n",
      "\tTest Accuracy: 81.4793%\n",
      "K = 16\n",
      "\tTraining Accuracy: 83.3345%\n",
      "\tValidation Accuracy: 81.2917%\n",
      "\tTest Accuracy: 81.1658%\n",
      "K = 17\n",
      "\tTraining Accuracy: 83.1713%\n",
      "\tValidation Accuracy: 81.3933%\n",
      "\tTest Accuracy: 81.3980%\n",
      "K = 18\n",
      "\tTraining Accuracy: 83.1350%\n",
      "\tValidation Accuracy: 81.3062%\n",
      "\tTest Accuracy: 81.2935%\n",
      "K = 19\n",
      "\tTraining Accuracy: 83.0914%\n",
      "\tValidation Accuracy: 81.2627%\n",
      "\tTest Accuracy: 81.4561%\n",
      "K = 20\n",
      "\tTraining Accuracy: 82.9935%\n",
      "\tValidation Accuracy: 81.1611%\n",
      "\tTest Accuracy: 81.1774%\n"
     ]
    }
   ],
   "source": [
    "acc_test_list = []\n",
    "for k in range(1, 21):\n",
    "  print(f\"K = {k}\")\n",
    "  print(f\"\\tTraining Accuracy: {100*acc_tr_list[k-1]:.4f}%\")\n",
    "  print(f\"\\tValidation Accuracy: {100*acc_val_list[k-1]:.4f}%\")\n",
    "  y_pred_test = knn_list[k-1].predict(X_test)\n",
    "  acc = accuracy_score(y_test, y_pred_test)\n",
    "  acc_test_list.append(acc)\n",
    "  print(f\"\\tTest Accuracy: {100*acc:.4f}%\")"
   ]
  },
  {
   "cell_type": "code",
   "source": [
    "k_values = list(range(1, 21))  # K values from 1 to 20\n",
    "\n",
    "# Plotting the accuracy values for training, validation, and test sets\n",
    "plt.figure(figsize=(10, 6))\n",
    "plt.plot(k_values, [100*item for item in acc_tr_list], marker='o', label='Training Accuracy')\n",
    "plt.plot(k_values, [100*item for item in acc_val_list], marker='o', label='Validation Accuracy')\n",
    "plt.plot(k_values, [100*item for item in acc_test_list], marker='o', label='Test Accuracy')\n",
    "plt.xlabel('K')\n",
    "plt.ylabel('Accuracy (%)')\n",
    "plt.title('Accuracy for Different Values of K')\n",
    "plt.xticks(k_values)\n",
    "plt.legend()\n",
    "plt.grid(True)\n",
    "plt.show()"
   ],
   "metadata": {
    "colab": {
     "base_uri": "https://localhost:8080/",
     "height": 564
    },
    "id": "oZuBSmH_bKBH",
    "outputId": "1c0f862b-1173-4c8f-e3b4-6c43c873e50b"
   },
   "execution_count": 96,
   "outputs": [
    {
     "output_type": "display_data",
     "data": {
      "text/plain": [
       "<Figure size 1000x600 with 1 Axes>"
      ],
      "image/png": "[encoded data removed]"
     },
     "metadata": {}
    }
   ]
  },
  {
   "cell_type": "markdown",
   "metadata": {
    "id": "FJVvJd6exeNB"
   },
   "source": [
    "Finally, we consider the case with *no balancing* of the development set:"
   ]
  },
  {
   "cell_type": "code",
   "execution_count": 97,
   "metadata": {
    "colab": {
     "base_uri": "https://localhost:8080/"
    },
    "id": "ZeOGRS0Vxe4u",
    "outputId": "45935690-0632-4e3d-c1a6-110b6fb34e14"
   },
   "outputs": [
    {
     "output_type": "stream",
     "name": "stdout",
     "text": [
      "8612 4306 4306\n"
     ]
    },
    {
     "output_type": "stream",
     "name": "stderr",
     "text": [
      "100%|██████████| 20/20 [06:14<00:00, 18.70s/it]\n"
     ]
    }
   ],
   "source": [
    "before_classification(test_size=0.2, train_size=0.8, random_state=0, shuffle=True, balancing=None)\n",
    "knn_list, acc_tr_list, acc_val_list = knn_search(X_train, y_train, X_eval, y_eval, 1, 21)"
   ]
  },
  {
   "cell_type": "code",
   "execution_count": 98,
   "metadata": {
    "colab": {
     "base_uri": "https://localhost:8080/"
    },
    "id": "xqBulRz4xe40",
    "outputId": "9b4d15a4-dccb-45e3-ae86-d8187cb98c74"
   },
   "outputs": [
    {
     "output_type": "stream",
     "name": "stdout",
     "text": [
      "K = 1\n",
      "\tTraining Accuracy: 100.0000%\n",
      "\tValidation Accuracy: 80.9926%\n",
      "\tTest Accuracy: 72.7473%\n",
      "K = 2\n",
      "\tTraining Accuracy: 90.0807%\n",
      "\tValidation Accuracy: 81.6948%\n",
      "\tTest Accuracy: 65.8964%\n",
      "K = 3\n",
      "\tTraining Accuracy: 90.3474%\n",
      "\tValidation Accuracy: 82.5996%\n",
      "\tTest Accuracy: 73.0608%\n",
      "K = 4\n",
      "\tTraining Accuracy: 87.9739%\n",
      "\tValidation Accuracy: 82.7684%\n",
      "\tTest Accuracy: 68.8458%\n",
      "K = 5\n",
      "\tTraining Accuracy: 88.0769%\n",
      "\tValidation Accuracy: 83.2816%\n",
      "\tTest Accuracy: 73.9201%\n",
      "K = 6\n",
      "\tTraining Accuracy: 87.1113%\n",
      "\tValidation Accuracy: 83.0182%\n",
      "\tTest Accuracy: 70.2740%\n",
      "K = 7\n",
      "\tTraining Accuracy: 87.2481%\n",
      "\tValidation Accuracy: 83.2208%\n",
      "\tTest Accuracy: 73.6182%\n",
      "K = 8\n",
      "\tTraining Accuracy: 86.5255%\n",
      "\tValidation Accuracy: 83.2343%\n",
      "\tTest Accuracy: 70.9359%\n",
      "K = 9\n",
      "\tTraining Accuracy: 86.5812%\n",
      "\tValidation Accuracy: 83.1735%\n",
      "\tTest Accuracy: 73.5834%\n",
      "K = 10\n",
      "\tTraining Accuracy: 86.0512%\n",
      "\tValidation Accuracy: 83.0182%\n",
      "\tTest Accuracy: 71.5281%\n",
      "K = 11\n",
      "\tTraining Accuracy: 86.1761%\n",
      "\tValidation Accuracy: 83.1735%\n",
      "\tTest Accuracy: 73.3744%\n",
      "K = 12\n",
      "\tTraining Accuracy: 85.8199%\n",
      "\tValidation Accuracy: 83.1803%\n",
      "\tTest Accuracy: 71.5629%\n",
      "K = 13\n",
      "\tTraining Accuracy: 85.8132%\n",
      "\tValidation Accuracy: 83.0520%\n",
      "\tTest Accuracy: 73.5137%\n",
      "K = 14\n",
      "\tTraining Accuracy: 85.5262%\n",
      "\tValidation Accuracy: 83.0858%\n",
      "\tTest Accuracy: 71.4004%\n",
      "K = 15\n",
      "\tTraining Accuracy: 85.5059%\n",
      "\tValidation Accuracy: 83.1398%\n",
      "\tTest Accuracy: 73.2815%\n",
      "K = 16\n",
      "\tTraining Accuracy: 85.2915%\n",
      "\tValidation Accuracy: 83.0317%\n",
      "\tTest Accuracy: 71.5862%\n",
      "K = 17\n",
      "\tTraining Accuracy: 85.3304%\n",
      "\tValidation Accuracy: 83.2343%\n",
      "\tTest Accuracy: 73.2815%\n",
      "K = 18\n",
      "\tTraining Accuracy: 85.1092%\n",
      "\tValidation Accuracy: 83.3558%\n",
      "\tTest Accuracy: 71.6094%\n",
      "K = 19\n",
      "\tTraining Accuracy: 85.0400%\n",
      "\tValidation Accuracy: 83.1060%\n",
      "\tTest Accuracy: 73.1537%\n",
      "K = 20\n",
      "\tTraining Accuracy: 84.8594%\n",
      "\tValidation Accuracy: 83.0385%\n",
      "\tTest Accuracy: 71.7023%\n"
     ]
    }
   ],
   "source": [
    "acc_test_list = []\n",
    "for k in range(1, 21):\n",
    "  print(f\"K = {k}\")\n",
    "  print(f\"\\tTraining Accuracy: {100*acc_tr_list[k-1]:.4f}%\")\n",
    "  print(f\"\\tValidation Accuracy: {100*acc_val_list[k-1]:.4f}%\")\n",
    "  y_pred_test = knn_list[k-1].predict(X_test)\n",
    "  acc = accuracy_score(y_test, y_pred_test)\n",
    "  acc_test_list.append(acc)\n",
    "  print(f\"\\tTest Accuracy: {100*acc:.4f}%\")"
   ]
  },
  {
   "cell_type": "code",
   "source": [
    "k_values = list(range(1, 21))  # K values from 1 to 20\n",
    "\n",
    "# Plotting the accuracy values for training, validation, and test sets\n",
    "plt.figure(figsize=(10, 6))\n",
    "plt.plot(k_values, [100*item for item in acc_tr_list], marker='o', label='Training Accuracy')\n",
    "plt.plot(k_values, [100*item for item in acc_val_list], marker='o', label='Validation Accuracy')\n",
    "plt.plot(k_values, [100*item for item in acc_test_list], marker='o', label='Test Accuracy')\n",
    "plt.xlabel('K')\n",
    "plt.ylabel('Accuracy (%)')\n",
    "plt.title('Accuracy for Different Values of K')\n",
    "plt.xticks(k_values)\n",
    "plt.legend()\n",
    "plt.grid(True)\n",
    "plt.show()"
   ],
   "metadata": {
    "colab": {
     "base_uri": "https://localhost:8080/",
     "height": 564
    },
    "id": "kt2wqgBMdkg2",
    "outputId": "28c2cdc6-9f31-400e-efd5-491d44ea4d08"
   },
   "execution_count": 99,
   "outputs": [
    {
     "output_type": "display_data",
     "data": {
      "text/plain": [
       "<Figure size 1000x600 with 1 Axes>"
      ],
      "image/png": "[encoded data removed]"
     },
     "metadata": {}
    }
   ]
  },
  {
   "cell_type": "markdown",
   "source": [
    "In these cases, we see how actually by increasing $K$ the accuracy on training set descreases. We start from $100\\%$ with $K = 1$ since we are fitting each point in the training set with itself by definition, and then we observe a decreasing trend.\n",
    "\n",
    "We also observe that the accuracy on test set is constant to $76.7407\\%$, except for the undersampling case, for which we see a steep decline for increasing values of $K$."
   ],
   "metadata": {
    "id": "bg6eJv3igQoP"
   }
  },
  {
   "cell_type": "markdown",
   "metadata": {
    "id": "x1_tkaHwKWqy"
   },
   "source": [
    "## Classification with Naive Bayes"
   ]
  },
  {
   "cell_type": "code",
   "execution_count": 100,
   "metadata": {
    "id": "Zwt6yGWP1raa"
   },
   "outputs": [],
   "source": [
    "from sklearn.naive_bayes import GaussianNB, BernoulliNB"
   ]
  },
  {
   "cell_type": "markdown",
   "source": [
    "We start as usual with *oversampling*:"
   ],
   "metadata": {
    "id": "5e_-VnK5nCB6"
   }
  },
  {
   "cell_type": "code",
   "execution_count": 101,
   "metadata": {
    "id": "o0sZaPOJpR2U",
    "colab": {
     "base_uri": "https://localhost:8080/"
    },
    "outputId": "e587075f-7ddc-4fed-d2d6-eeb391244d10"
   },
   "outputs": [
    {
     "output_type": "stream",
     "name": "stdout",
     "text": [
      "8612 4306 4306\n"
     ]
    }
   ],
   "source": [
    "before_classification(test_size=0.2, train_size=0.8, random_state=0, shuffle=True, balancing='oversampling')"
   ]
  },
  {
   "cell_type": "code",
   "execution_count": 102,
   "metadata": {
    "colab": {
     "base_uri": "https://localhost:8080/"
    },
    "id": "eUj8n0XGM3Zi",
    "outputId": "2e9e1681-ceb8-4e89-f986-5bb80854f530"
   },
   "outputs": [
    {
     "output_type": "stream",
     "name": "stdout",
     "text": [
      "Accuracy: 77.3735%\n",
      "              precision    recall  f1-score   support\n",
      "\n",
      "  Not Killed       0.84      0.68      0.75     11365\n",
      "      Killed       0.73      0.87      0.79     11365\n",
      "\n",
      "    accuracy                           0.77     22730\n",
      "   macro avg       0.78      0.77      0.77     22730\n",
      "weighted avg       0.78      0.77      0.77     22730\n",
      "\n",
      "Accuracy: 77.0437%\n",
      "              precision    recall  f1-score   support\n",
      "\n",
      "  Not Killed       0.83      0.68      0.75      4306\n",
      "      Killed       0.73      0.86      0.79      4306\n",
      "\n",
      "    accuracy                           0.77      8612\n",
      "   macro avg       0.78      0.77      0.77      8612\n",
      "weighted avg       0.78      0.77      0.77      8612\n",
      "\n"
     ]
    }
   ],
   "source": [
    "gnb = GaussianNB()\n",
    "gnb.fit(X_train, y_train.ravel())\n",
    "evaluate_on_dataset(gnb, X_eval, y_eval)\n",
    "evaluate_on_dataset(gnb, X_test, y_test)"
   ]
  },
  {
   "cell_type": "code",
   "execution_count": 103,
   "metadata": {
    "colab": {
     "base_uri": "https://localhost:8080/"
    },
    "id": "vb6JJlwbmwZM",
    "outputId": "0f4aef53-2910-4988-bd80-e2e3a2897c9f"
   },
   "outputs": [
    {
     "output_type": "stream",
     "name": "stdout",
     "text": [
      "Accuracy: 77.3735%\n",
      "              precision    recall  f1-score   support\n",
      "\n",
      "  Not Killed       0.84      0.68      0.75     11365\n",
      "      Killed       0.73      0.87      0.79     11365\n",
      "\n",
      "    accuracy                           0.77     22730\n",
      "   macro avg       0.78      0.77      0.77     22730\n",
      "weighted avg       0.78      0.77      0.77     22730\n",
      "\n",
      "Accuracy: 77.0437%\n",
      "              precision    recall  f1-score   support\n",
      "\n",
      "  Not Killed       0.83      0.68      0.75      4306\n",
      "      Killed       0.73      0.86      0.79      4306\n",
      "\n",
      "    accuracy                           0.77      8612\n",
      "   macro avg       0.78      0.77      0.77      8612\n",
      "weighted avg       0.78      0.77      0.77      8612\n",
      "\n"
     ]
    }
   ],
   "source": [
    "bnb = BernoulliNB()\n",
    "bnb.fit(X_train, y_train.ravel())\n",
    "evaluate_on_dataset(gnb, X_eval, y_eval.ravel())\n",
    "evaluate_on_dataset(gnb, X_test, y_test.ravel())"
   ]
  },
  {
   "cell_type": "markdown",
   "source": [
    "We see that we got same accuracy on both development and test set for both models ($77.3735\\%$ and $76.7407\\%$)."
   ],
   "metadata": {
    "id": "Ln_L0o51nbaZ"
   }
  },
  {
   "cell_type": "markdown",
   "metadata": {
    "id": "-J-x2Cdu3OT3"
   },
   "source": [
    "Now with undersampling:"
   ]
  },
  {
   "cell_type": "code",
   "execution_count": 104,
   "metadata": {
    "id": "il5Gh5q13Lot",
    "colab": {
     "base_uri": "https://localhost:8080/"
    },
    "outputId": "afe4e49e-4286-42e7-ff1c-a3143322dd94"
   },
   "outputs": [
    {
     "output_type": "stream",
     "name": "stdout",
     "text": [
      "8612 4306 4306\n"
     ]
    }
   ],
   "source": [
    "before_classification(test_size=0.2, train_size=0.8, random_state=0, shuffle=True, balancing='undersampling')"
   ]
  },
  {
   "cell_type": "code",
   "execution_count": 105,
   "metadata": {
    "colab": {
     "base_uri": "https://localhost:8080/"
    },
    "id": "BYw38MWY3LpM",
    "outputId": "16c08a7b-8fe2-4d80-9bfb-506366ac0eb9"
   },
   "outputs": [
    {
     "output_type": "stream",
     "name": "stdout",
     "text": [
      "Accuracy: 77.4456%\n",
      "              precision    recall  f1-score   support\n",
      "\n",
      "  Not Killed       0.84      0.68      0.75      3445\n",
      "      Killed       0.73      0.87      0.79      3445\n",
      "\n",
      "    accuracy                           0.77      6890\n",
      "   macro avg       0.78      0.77      0.77      6890\n",
      "weighted avg       0.78      0.77      0.77      6890\n",
      "\n",
      "Accuracy: 76.8463%\n",
      "              precision    recall  f1-score   support\n",
      "\n",
      "  Not Killed       0.83      0.67      0.74      4306\n",
      "      Killed       0.73      0.86      0.79      4306\n",
      "\n",
      "    accuracy                           0.77      8612\n",
      "   macro avg       0.78      0.77      0.77      8612\n",
      "weighted avg       0.78      0.77      0.77      8612\n",
      "\n"
     ]
    }
   ],
   "source": [
    "gnb = GaussianNB()\n",
    "gnb.fit(X_train, y_train.ravel())\n",
    "evaluate_on_dataset(gnb, X_eval, y_eval)\n",
    "evaluate_on_dataset(gnb, X_test, y_test)"
   ]
  },
  {
   "cell_type": "code",
   "execution_count": 106,
   "metadata": {
    "colab": {
     "base_uri": "https://localhost:8080/"
    },
    "id": "-gbmFJ933LpN",
    "outputId": "b1569f6d-5613-4e3e-800a-eb701ed5f7b3"
   },
   "outputs": [
    {
     "output_type": "stream",
     "name": "stdout",
     "text": [
      "Accuracy: 77.4456%\n",
      "              precision    recall  f1-score   support\n",
      "\n",
      "  Not Killed       0.84      0.68      0.75      3445\n",
      "      Killed       0.73      0.87      0.79      3445\n",
      "\n",
      "    accuracy                           0.77      6890\n",
      "   macro avg       0.78      0.77      0.77      6890\n",
      "weighted avg       0.78      0.77      0.77      6890\n",
      "\n",
      "Accuracy: 76.8463%\n",
      "              precision    recall  f1-score   support\n",
      "\n",
      "  Not Killed       0.83      0.67      0.74      4306\n",
      "      Killed       0.73      0.86      0.79      4306\n",
      "\n",
      "    accuracy                           0.77      8612\n",
      "   macro avg       0.78      0.77      0.77      8612\n",
      "weighted avg       0.78      0.77      0.77      8612\n",
      "\n"
     ]
    }
   ],
   "source": [
    "bnb = BernoulliNB()\n",
    "bnb.fit(X_train, y_train.ravel())\n",
    "evaluate_on_dataset(gnb, X_eval, y_eval.ravel())\n",
    "evaluate_on_dataset(gnb, X_test, y_test.ravel())"
   ]
  },
  {
   "cell_type": "markdown",
   "metadata": {
    "id": "DuRK-omN3XTM"
   },
   "source": [
    "Now without balancing:"
   ]
  },
  {
   "cell_type": "code",
   "execution_count": 107,
   "metadata": {
    "id": "tttOIV2j3V7I",
    "colab": {
     "base_uri": "https://localhost:8080/"
    },
    "outputId": "2af08447-8c4b-4600-cb38-283b9c297392"
   },
   "outputs": [
    {
     "output_type": "stream",
     "name": "stdout",
     "text": [
      "8612 4306 4306\n"
     ]
    }
   ],
   "source": [
    "before_classification(test_size=0.2, train_size=0.8, random_state=0, shuffle=True, balancing=None)"
   ]
  },
  {
   "cell_type": "code",
   "execution_count": 108,
   "metadata": {
    "colab": {
     "base_uri": "https://localhost:8080/"
    },
    "id": "hwq_gwCU3V7X",
    "outputId": "760b71be-02e6-4e8a-9a31-6cfe336dbbb5"
   },
   "outputs": [
    {
     "output_type": "stream",
     "name": "stdout",
     "text": [
      "Accuracy: 72.7346%\n",
      "              precision    recall  f1-score   support\n",
      "\n",
      "  Not Killed       0.93      0.70      0.80     11365\n",
      "      Killed       0.45      0.82      0.58      3445\n",
      "\n",
      "    accuracy                           0.73     14810\n",
      "   macro avg       0.69      0.76      0.69     14810\n",
      "weighted avg       0.82      0.73      0.75     14810\n",
      "\n",
      "Accuracy: 75.2787%\n",
      "              precision    recall  f1-score   support\n",
      "\n",
      "  Not Killed       0.78      0.71      0.74      4306\n",
      "      Killed       0.73      0.80      0.76      4306\n",
      "\n",
      "    accuracy                           0.75      8612\n",
      "   macro avg       0.75      0.75      0.75      8612\n",
      "weighted avg       0.75      0.75      0.75      8612\n",
      "\n"
     ]
    }
   ],
   "source": [
    "gnb = GaussianNB()\n",
    "gnb.fit(X_train, y_train.ravel())\n",
    "evaluate_on_dataset(gnb, X_eval, y_eval)\n",
    "evaluate_on_dataset(gnb, X_test, y_test)"
   ]
  },
  {
   "cell_type": "code",
   "execution_count": 109,
   "metadata": {
    "colab": {
     "base_uri": "https://localhost:8080/"
    },
    "id": "FO3yhb1q3V7X",
    "outputId": "40afde49-d648-4f36-a016-1cf591b9c8c4"
   },
   "outputs": [
    {
     "output_type": "stream",
     "name": "stdout",
     "text": [
      "Accuracy: 72.7346%\n",
      "              precision    recall  f1-score   support\n",
      "\n",
      "  Not Killed       0.93      0.70      0.80     11365\n",
      "      Killed       0.45      0.82      0.58      3445\n",
      "\n",
      "    accuracy                           0.73     14810\n",
      "   macro avg       0.69      0.76      0.69     14810\n",
      "weighted avg       0.82      0.73      0.75     14810\n",
      "\n",
      "Accuracy: 75.2787%\n",
      "              precision    recall  f1-score   support\n",
      "\n",
      "  Not Killed       0.78      0.71      0.74      4306\n",
      "      Killed       0.73      0.80      0.76      4306\n",
      "\n",
      "    accuracy                           0.75      8612\n",
      "   macro avg       0.75      0.75      0.75      8612\n",
      "weighted avg       0.75      0.75      0.75      8612\n",
      "\n"
     ]
    }
   ],
   "source": [
    "bnb = BernoulliNB()\n",
    "bnb.fit(X_train, y_train.ravel())\n",
    "evaluate_on_dataset(gnb, X_eval, y_eval.ravel())\n",
    "evaluate_on_dataset(gnb, X_test, y_test.ravel())"
   ]
  },
  {
   "cell_type": "markdown",
   "source": [],
   "metadata": {
    "id": "XnuhA2q2nq_n"
   }
  },
  {
   "cell_type": "markdown",
   "metadata": {
    "id": "G4Q5GiNwru0M"
   },
   "source": [
    "## Classification with SVM"
   ]
  },
  {
   "cell_type": "code",
   "execution_count": 76,
   "metadata": {
    "id": "sxae0Ej33wiL",
    "ExecuteTime": {
     "end_time": "2024-01-08T17:03:31.346084800Z",
     "start_time": "2024-01-08T17:03:31.314363500Z"
    }
   },
   "outputs": [],
   "source": [
    "from sklearn.svm import SVC\n",
    "# Function that finds the best random forest doing hyperparameter search through CV.\n",
    "# Retrains on the whole set at the end.\n",
    "def build_SVM(X, y, cv=2, print_res=True):\n",
    "    params = [\n",
    "      {\"kernel\": [\"rbf\", \"linear\", \"sigmoid\"], \"gamma\": [\"scale\", \"auto\"], \"C\": [0.1, 1, 10]},\n",
    "      {\"kernel\": [\"poly\"], \"degree\": [2,3], \"gamma\": [\"scale\", \"auto\"], \"C\": [0.1, 1, 10]},\n",
    "    ]\n",
    "    clf = GridSearchCV(SVC(), params, refit = True, cv=cv, scoring='accuracy', n_jobs=8, verbose=10)\n",
    "    clf.fit(X, y)\n",
    "    if print_res:\n",
    "        print(\"SVM - Best parameters set found:\")\n",
    "        print(clf.best_params_)\n",
    "        print(\"SVM - Best accuracy score found:\")\n",
    "        print(clf.best_score_)\n",
    "    return clf.best_score_, clf.best_estimator_"
   ]
  },
  {
   "cell_type": "markdown",
   "source": [],
   "metadata": {
    "id": "na1ibKHN4PqE"
   }
  },
  {
   "cell_type": "code",
   "execution_count": 77,
   "metadata": {
    "colab": {
     "background_save": true,
     "base_uri": "https://localhost:8080/"
    },
    "outputId": "533fac80-a357-4969-821d-86a77fbbb392",
    "id": "sf2evISQ4Qqc",
    "ExecuteTime": {
     "end_time": "2024-01-08T17:08:15.653619300Z",
     "start_time": "2024-01-08T17:03:33.363782900Z"
    }
   },
   "outputs": [
    {
     "name": "stdout",
     "output_type": "stream",
     "text": [
      "8612 4306 4306\n",
      "Fitting 2 folds for each of 30 candidates, totalling 60 fits\n",
      "SVM - Best parameters set found:\n",
      "{'C': 10, 'gamma': 'scale', 'kernel': 'rbf'}\n",
      "SVM - Best accuracy score found:\n",
      "0.8151814223512337\n"
     ]
    }
   ],
   "source": [
    "before_classification(test_size=0.2, train_size=0.8, random_state=0, shuffle=True, balancing='undersampling')\n",
    "best_score_svm, best_svm = build_SVM(X_dev, y_dev)"
   ]
  },
  {
   "cell_type": "code",
   "execution_count": 78,
   "metadata": {
    "outputId": "d3866185-3723-4e54-8c73-2b5703177502",
    "id": "CKgaJziF4Qqc",
    "ExecuteTime": {
     "end_time": "2024-01-08T17:38:37.308857900Z",
     "start_time": "2024-01-08T17:37:53.312928300Z"
    }
   },
   "outputs": [
    {
     "name": "stdout",
     "output_type": "stream",
     "text": [
      "Accuracy: 82.9811%\n",
      "              precision    recall  f1-score   support\n",
      "\n",
      "  Not Killed       0.91      0.73      0.81     17225\n",
      "      Killed       0.78      0.93      0.84     17225\n",
      "\n",
      "    accuracy                           0.83     34450\n",
      "   macro avg       0.84      0.83      0.83     34450\n",
      "weighted avg       0.84      0.83      0.83     34450\n",
      "\n",
      "Accuracy: 81.6303%\n",
      "              precision    recall  f1-score   support\n",
      "\n",
      "  Not Killed       0.89      0.72      0.80      4306\n",
      "      Killed       0.77      0.91      0.83      4306\n",
      "\n",
      "    accuracy                           0.82      8612\n",
      "   macro avg       0.83      0.82      0.81      8612\n",
      "weighted avg       0.83      0.82      0.81      8612\n",
      "\n"
     ]
    }
   ],
   "source": [
    "evaluate_on_dataset(best_svm, X_dev, y_dev.ravel())\n",
    "evaluate_on_dataset(best_svm, X_test, y_test.ravel())"
   ]
  },
  {
   "cell_type": "markdown",
   "source": [],
   "metadata": {
    "id": "_zN8RcRS4QC5"
   }
  },
  {
   "cell_type": "code",
   "execution_count": null,
   "metadata": {
    "colab": {
     "background_save": true,
     "base_uri": "https://localhost:8080/"
    },
    "id": "BZTb6bD6sCb4",
    "outputId": "533fac80-a357-4969-821d-86a77fbbb392",
    "ExecuteTime": {
     "end_time": "2024-01-02T18:06:58.616903900Z",
     "start_time": "2024-01-02T15:54:00.325078Z"
    }
   },
   "outputs": [
    {
     "name": "stdout",
     "output_type": "stream",
     "text": [
      "Fitting 2 folds for each of 30 candidates, totalling 60 fits\n"
     ]
    },
    {
     "name": "stderr",
     "output_type": "stream",
     "text": [
      "C:\\Users\\Amministratore\\Desktop\\data-mining-2023-24\\venv\\Lib\\site-packages\\sklearn\\utils\\validation.py:1183: DataConversionWarning: A column-vector y was passed when a 1d array was expected. Please change the shape of y to (n_samples, ), for example using ravel().\n",
      "  y = column_or_1d(y, warn=True)\n"
     ]
    },
    {
     "name": "stdout",
     "output_type": "stream",
     "text": [
      "SVM - Best parameters set found:\n",
      "{'C': 10, 'gamma': 'auto', 'kernel': 'rbf'}\n",
      "SVM - Best accuracy score found:\n",
      "0.8129726663785652\n"
     ]
    }
   ],
   "source": [
    "before_classification(test_size=0.2, train_size=0.8, random_state=0, shuffle=True, balancing=None)\n",
    "best_score_svm, best_svm = build_SVM(X_dev, y_dev)"
   ]
  },
  {
   "cell_type": "code",
   "execution_count": null,
   "metadata": {
    "id": "NXhELUHcsFjT",
    "ExecuteTime": {
     "end_time": "2024-01-02T18:53:06.416593900Z",
     "start_time": "2024-01-02T18:49:29.534961900Z"
    },
    "outputId": "d3866185-3723-4e54-8c73-2b5703177502"
   },
   "outputs": [
    {
     "name": "stdout",
     "output_type": "stream",
     "text": [
      "Accuracy: 85.9767%\n",
      "              precision    recall  f1-score   support\n",
      "\n",
      "  Not Killed       0.89      0.93      0.91     56823\n",
      "      Killed       0.73      0.64      0.68     17225\n",
      "\n",
      "    accuracy                           0.86     74048\n",
      "   macro avg       0.81      0.78      0.79     74048\n",
      "weighted avg       0.85      0.86      0.86     74048\n",
      "\n",
      "Accuracy: 81.9640%\n",
      "              precision    recall  f1-score   support\n",
      "\n",
      "  Not Killed       0.87      0.90      0.89     14207\n",
      "      Killed       0.63      0.54      0.58      4306\n",
      "\n",
      "    accuracy                           0.82     18513\n",
      "   macro avg       0.75      0.72      0.73     18513\n",
      "weighted avg       0.81      0.82      0.81     18513\n",
      "\n"
     ]
    }
   ],
   "source": [
    "evaluate_on_dataset(best_svm, X_dev, y_dev.ravel())\n",
    "evaluate_on_dataset(best_svm, X_test, y_test.ravel())"
   ]
  },
  {
   "cell_type": "markdown",
   "metadata": {
    "id": "KaJGs3NLhOGB"
   },
   "source": [
    "## Classification with Rule-Based Classifiers"
   ]
  },
  {
   "cell_type": "code",
   "execution_count": 79,
   "metadata": {
    "id": "4WHigCaThjlO",
    "colab": {
     "base_uri": "https://localhost:8080/"
    },
    "outputId": "35656218-f678-42eb-c2de-ec4d89b9bc3a",
    "ExecuteTime": {
     "end_time": "2024-01-08T17:48:16.522303600Z",
     "start_time": "2024-01-08T17:48:11.221632500Z"
    }
   },
   "outputs": [
    {
     "name": "stdout",
     "output_type": "stream",
     "text": [
      "Collecting wittgenstein\n",
      "  Downloading wittgenstein-0.3.4-py3-none-any.whl (110 kB)\n",
      "     -------------------------------------- 110.6/110.6 kB 2.1 MB/s eta 0:00:00\n",
      "Requirement already satisfied: pandas in c:\\users\\amministratore\\desktop\\data-mining-2023-24\\venv\\lib\\site-packages (from wittgenstein) (2.1.3)\n",
      "Requirement already satisfied: numpy in c:\\users\\amministratore\\desktop\\data-mining-2023-24\\venv\\lib\\site-packages (from wittgenstein) (1.26.2)\n",
      "Requirement already satisfied: python-dateutil>=2.8.2 in c:\\users\\amministratore\\desktop\\data-mining-2023-24\\venv\\lib\\site-packages (from pandas->wittgenstein) (2.8.2)\n",
      "Requirement already satisfied: pytz>=2020.1 in c:\\users\\amministratore\\desktop\\data-mining-2023-24\\venv\\lib\\site-packages (from pandas->wittgenstein) (2023.3.post1)\n",
      "Requirement already satisfied: tzdata>=2022.1 in c:\\users\\amministratore\\desktop\\data-mining-2023-24\\venv\\lib\\site-packages (from pandas->wittgenstein) (2023.3)\n",
      "Requirement already satisfied: six>=1.5 in c:\\users\\amministratore\\desktop\\data-mining-2023-24\\venv\\lib\\site-packages (from python-dateutil>=2.8.2->pandas->wittgenstein) (1.16.0)\n",
      "Installing collected packages: wittgenstein\n",
      "Successfully installed wittgenstein-0.3.4\n"
     ]
    },
    {
     "name": "stderr",
     "output_type": "stream",
     "text": [
      "\n",
      "[notice] A new release of pip available: 22.3.1 -> 23.3.2\n",
      "[notice] To update, run: python.exe -m pip install --upgrade pip\n"
     ]
    }
   ],
   "source": [
    "!pip install wittgenstein"
   ]
  },
  {
   "cell_type": "code",
   "execution_count": 80,
   "metadata": {
    "id": "_roNfC57kWIE",
    "ExecuteTime": {
     "end_time": "2024-01-08T17:48:22.684923800Z",
     "start_time": "2024-01-08T17:48:22.629029800Z"
    }
   },
   "outputs": [
    {
     "name": "stdout",
     "output_type": "stream",
     "text": [
      "8612 4306 4306\n"
     ]
    }
   ],
   "source": [
    "before_classification(test_size=0.2, train_size=0.8, random_state=0, shuffle=True, balancing='undersampling')"
   ]
  },
  {
   "cell_type": "code",
   "execution_count": 81,
   "metadata": {
    "id": "JeuD8vTjhrVu",
    "ExecuteTime": {
     "end_time": "2024-01-08T18:44:10.451466100Z",
     "start_time": "2024-01-08T17:48:31.091541700Z"
    }
   },
   "outputs": [
    {
     "data": {
      "text/plain": "GridSearchCV(estimator=<RIPPER(prune_size=0.33, dl_allowance=64, k=2, alpha=1.0, verbosity=0, max_total_conds=None, max_rules=None, n_discretize_bins=10, max_rule_conds=None, random_state=None)>,\n             param_grid={'k': [1, 3], 'prune_size': [0.5, 0.6]})",
      "text/html": "<style>#sk-container-id-1 {color: black;}#sk-container-id-1 pre{padding: 0;}#sk-container-id-1 div.sk-toggleable {background-color: white;}#sk-container-id-1 label.sk-toggleable__label {cursor: pointer;display: block;width: 100%;margin-bottom: 0;padding: 0.3em;box-sizing: border-box;text-align: center;}#sk-container-id-1 label.sk-toggleable__label-arrow:before {content: \"▸\";float: left;margin-right: 0.25em;color: #696969;}#sk-container-id-1 label.sk-toggleable__label-arrow:hover:before {color: black;}#sk-container-id-1 div.sk-estimator:hover label.sk-toggleable__label-arrow:before {color: black;}#sk-container-id-1 div.sk-toggleable__content {max-height: 0;max-width: 0;overflow: hidden;text-align: left;background-color: #f0f8ff;}#sk-container-id-1 div.sk-toggleable__content pre {margin: 0.2em;color: black;border-radius: 0.25em;background-color: #f0f8ff;}#sk-container-id-1 input.sk-toggleable__control:checked~div.sk-toggleable__content {max-height: 200px;max-width: 100%;overflow: auto;}#sk-container-id-1 input.sk-toggleable__control:checked~label.sk-toggleable__label-arrow:before {content: \"▾\";}#sk-container-id-1 div.sk-estimator input.sk-toggleable__control:checked~label.sk-toggleable__label {background-color: #d4ebff;}#sk-container-id-1 div.sk-label input.sk-toggleable__control:checked~label.sk-toggleable__label {background-color: #d4ebff;}#sk-container-id-1 input.sk-hidden--visually {border: 0;clip: rect(1px 1px 1px 1px);clip: rect(1px, 1px, 1px, 1px);height: 1px;margin: -1px;overflow: hidden;padding: 0;position: absolute;width: 1px;}#sk-container-id-1 div.sk-estimator {font-family: monospace;background-color: #f0f8ff;border: 1px dotted black;border-radius: 0.25em;box-sizing: border-box;margin-bottom: 0.5em;}#sk-container-id-1 div.sk-estimator:hover {background-color: #d4ebff;}#sk-container-id-1 div.sk-parallel-item::after {content: \"\";width: 100%;border-bottom: 1px solid gray;flex-grow: 1;}#sk-container-id-1 div.sk-label:hover label.sk-toggleable__label {background-color: #d4ebff;}#sk-container-id-1 div.sk-serial::before {content: \"\";position: absolute;border-left: 1px solid gray;box-sizing: border-box;top: 0;bottom: 0;left: 50%;z-index: 0;}#sk-container-id-1 div.sk-serial {display: flex;flex-direction: column;align-items: center;background-color: white;padding-right: 0.2em;padding-left: 0.2em;position: relative;}#sk-container-id-1 div.sk-item {position: relative;z-index: 1;}#sk-container-id-1 div.sk-parallel {display: flex;align-items: stretch;justify-content: center;background-color: white;position: relative;}#sk-container-id-1 div.sk-item::before, #sk-container-id-1 div.sk-parallel-item::before {content: \"\";position: absolute;border-left: 1px solid gray;box-sizing: border-box;top: 0;bottom: 0;left: 50%;z-index: -1;}#sk-container-id-1 div.sk-parallel-item {display: flex;flex-direction: column;z-index: 1;position: relative;background-color: white;}#sk-container-id-1 div.sk-parallel-item:first-child::after {align-self: flex-end;width: 50%;}#sk-container-id-1 div.sk-parallel-item:last-child::after {align-self: flex-start;width: 50%;}#sk-container-id-1 div.sk-parallel-item:only-child::after {width: 0;}#sk-container-id-1 div.sk-dashed-wrapped {border: 1px dashed gray;margin: 0 0.4em 0.5em 0.4em;box-sizing: border-box;padding-bottom: 0.4em;background-color: white;}#sk-container-id-1 div.sk-label label {font-family: monospace;font-weight: bold;display: inline-block;line-height: 1.2em;}#sk-container-id-1 div.sk-label-container {text-align: center;}#sk-container-id-1 div.sk-container {/* jupyter's `normalize.less` sets `[hidden] { display: none; }` but bootstrap.min.css set `[hidden] { display: none !important; }` so we also need the `!important` here to be able to override the default hidden behavior on the sphinx rendered scikit-learn.org. See: https://github.com/scikit-learn/scikit-learn/issues/21755 */display: inline-block !important;position: relative;}#sk-container-id-1 div.sk-text-repr-fallback {display: none;}</style><div id=\"sk-container-id-1\" class=\"sk-top-container\"><div class=\"sk-text-repr-fallback\"><pre>GridSearchCV(estimator=&lt;RIPPER(prune_size=0.33, dl_allowance=64, k=2, alpha=1.0, verbosity=0, max_total_conds=None, max_rules=None, n_discretize_bins=10, max_rule_conds=None, random_state=None)&gt;,\n             param_grid={&#x27;k&#x27;: [1, 3], &#x27;prune_size&#x27;: [0.5, 0.6]})</pre><b>In a Jupyter environment, please rerun this cell to show the HTML representation or trust the notebook. <br />On GitHub, the HTML representation is unable to render, please try loading this page with nbviewer.org.</b></div><div class=\"sk-container\" hidden><div class=\"sk-item sk-dashed-wrapped\"><div class=\"sk-label-container\"><div class=\"sk-label sk-toggleable\"><input class=\"sk-toggleable__control sk-hidden--visually\" id=\"sk-estimator-id-1\" type=\"checkbox\" ><label for=\"sk-estimator-id-1\" class=\"sk-toggleable__label sk-toggleable__label-arrow\">GridSearchCV</label><div class=\"sk-toggleable__content\"><pre>GridSearchCV(estimator=&lt;RIPPER(prune_size=0.33, dl_allowance=64, k=2, alpha=1.0, verbosity=0, max_total_conds=None, max_rules=None, n_discretize_bins=10, max_rule_conds=None, random_state=None)&gt;,\n             param_grid={&#x27;k&#x27;: [1, 3], &#x27;prune_size&#x27;: [0.5, 0.6]})</pre></div></div></div><div class=\"sk-parallel\"><div class=\"sk-parallel-item\"><div class=\"sk-item\"><div class=\"sk-label-container\"><div class=\"sk-label sk-toggleable\"><input class=\"sk-toggleable__control sk-hidden--visually\" id=\"sk-estimator-id-2\" type=\"checkbox\" ><label for=\"sk-estimator-id-2\" class=\"sk-toggleable__label sk-toggleable__label-arrow\">estimator: RIPPER</label><div class=\"sk-toggleable__content\"><pre>&lt;RIPPER(prune_size=0.33, dl_allowance=64, k=2, alpha=1.0, verbosity=0, max_total_conds=None, max_rules=None, n_discretize_bins=10, max_rule_conds=None, random_state=None)&gt;</pre></div></div></div><div class=\"sk-serial\"><div class=\"sk-item\"><div class=\"sk-estimator sk-toggleable\"><input class=\"sk-toggleable__control sk-hidden--visually\" id=\"sk-estimator-id-3\" type=\"checkbox\" ><label for=\"sk-estimator-id-3\" class=\"sk-toggleable__label sk-toggleable__label-arrow\">RIPPER</label><div class=\"sk-toggleable__content\"><pre>&lt;RIPPER(prune_size=0.33, dl_allowance=64, k=2, alpha=1.0, verbosity=0, max_total_conds=None, max_rules=None, n_discretize_bins=10, max_rule_conds=None, random_state=None)&gt;</pre></div></div></div></div></div></div></div></div></div></div>"
     },
     "execution_count": 81,
     "metadata": {},
     "output_type": "execute_result"
    }
   ],
   "source": [
    "import wittgenstein as lw\n",
    "ripper = lw.RIPPER()\n",
    "param_grid = {\"prune_size\": [0.5, 0.6], \"k\": [1, 3]}\n",
    "grid_search = GridSearchCV(estimator=ripper, param_grid=param_grid)\n",
    "grid_search.fit(X_train, y_train)"
   ]
  },
  {
   "cell_type": "code",
   "execution_count": null,
   "metadata": {
    "id": "DD7isglujRq0"
   },
   "outputs": [],
   "source": [
    "print('Best parameters setting ', grid_search.cv_results_['params'][0])"
   ]
  },
  {
   "cell_type": "code",
   "execution_count": null,
   "metadata": {
    "id": "auyl0WHefuNz"
   },
   "outputs": [],
   "source": [
    "#define and fit the rule-based model\n",
    "#this function requires only one dataset with the labels.\n",
    "#To do so, we concatenate the train_set and the train_label\n",
    "import wittgenstein as lw\n",
    "ripper = lw.RIPPER(k=1, prune_size=0.50)\n",
    "datas = pd.concat([X_train, y_train], axis=1)\n",
    "ripper.fit(datas, class_feat='label_num', pos_class=1)"
   ]
  },
  {
   "cell_type": "code",
   "execution_count": null,
   "metadata": {
    "id": "JemkJeM-hNhF"
   },
   "outputs": [],
   "source": [
    "ripper.out_model()"
   ]
  },
  {
   "cell_type": "code",
   "execution_count": null,
   "metadata": {
    "id": "qgNx2bCKhR5P"
   },
   "outputs": [],
   "source": [
    "ripper.predict(test_set)"
   ]
  },
  {
   "cell_type": "code",
   "execution_count": null,
   "metadata": {
    "id": "Y79gEPVGhUmW"
   },
   "outputs": [],
   "source": [
    "from sklearn.metrics import precision_score, recall_score\n",
    "print('Accuracy ', ripper.score(test_set, test_label))\n",
    "print('Precision ', ripper.score(test_set, test_label, precision_score))\n",
    "print('Recall ', ripper.score(test_set, test_label, recall_score))"
   ]
  },
  {
   "cell_type": "code",
   "execution_count": null,
   "metadata": {
    "id": "bYnPzNJdhXAQ"
   },
   "outputs": [],
   "source": [
    "ripper.predict(test_set[:15], give_reasons=True)"
   ]
  },
  {
   "cell_type": "markdown",
   "metadata": {
    "id": "wTOHRu0gdQvM"
   },
   "source": [
    "## Classification with NN"
   ]
  },
  {
   "cell_type": "code",
   "source": [
    "# Function that builds a NN from a list configuration containing layer neurons\n",
    "def build_nn(layers_config, input_dim):\n",
    "    model = Sequential()\n",
    "\n",
    "    for i, layer_neurons in enumerate(layers_config):\n",
    "        # Add hidden layers with the current number of neurons\n",
    "        if i==0: # First layer\n",
    "            model.add(Dense(layer_neurons, activation='relu', input_dim=input_dim))\n",
    "        else:\n",
    "            model.add(Dropout(.2))\n",
    "            model.add(Dense(layer_neurons, activation='relu', input_dim=layers_config[i-1]))\n",
    "\n",
    "    # Add the output layer\n",
    "    model.add(Dense(1, activation='sigmoid'))\n",
    "\n",
    "    # Compile the model\n",
    "    model.compile(loss='binary_crossentropy', optimizer='adam', metrics=['accuracy'])\n",
    "\n",
    "    return model"
   ],
   "metadata": {
    "id": "cZloSJLTclBZ",
    "ExecuteTime": {
     "end_time": "2024-01-08T16:35:24.543473600Z",
     "start_time": "2024-01-08T16:35:24.527481300Z"
    }
   },
   "execution_count": 58,
   "outputs": []
  },
  {
   "cell_type": "code",
   "source": [
    "def train_and_evaluate(layers_config):\n",
    "  model = build_nn(layers_config, X_train.shape[-1])\n",
    "  # Add early stopping that checks val loss\n",
    "  earlystopping = tf.keras.callbacks.EarlyStopping(monitor =\"val_loss\", mode =\"min\", patience=5, restore_best_weights=True)\n",
    "  history = model.fit(X_train, y_train, epochs=20, batch_size=64, validation_data=(X_eval, y_eval))\n",
    "  test_loss, test_accuracy = model.evaluate(X_test, y_test)\n",
    "  return (history.history['accuracy'][-1], history.history['val_accuracy'][-1]), (test_loss, test_accuracy)"
   ],
   "metadata": {
    "id": "Fe3Z70IcdN7v",
    "ExecuteTime": {
     "end_time": "2024-01-08T16:35:30.733088100Z",
     "start_time": "2024-01-08T16:35:30.685309800Z"
    }
   },
   "execution_count": 59,
   "outputs": []
  },
  {
   "cell_type": "code",
   "execution_count": 60,
   "outputs": [
    {
     "name": "stdout",
     "output_type": "stream",
     "text": [
      "8612 4306 4306\n"
     ]
    }
   ],
   "source": [
    "before_classification(test_size=0.2, train_size=0.8, random_state=0, shuffle=True, balancing='oversampling')"
   ],
   "metadata": {
    "id": "ghiB-YWyGkWV",
    "colab": {
     "base_uri": "https://localhost:8080/"
    },
    "outputId": "7db156f2-69c4-4885-978e-093b4365b001",
    "ExecuteTime": {
     "end_time": "2024-01-08T16:35:33.244116800Z",
     "start_time": "2024-01-08T16:35:33.081975200Z"
    }
   }
  },
  {
   "cell_type": "code",
   "source": [
    "layers_configs = [[16, 16], [32, 16], [32, 32], [64, 32], [64, 64], [64, 64, 64]]\n",
    "nn_oversampling_raw_results = Parallel(n_jobs=os.cpu_count())(delayed(train_and_evaluate)(config) for config in layers_configs)\n",
    "\n",
    "nn_oversampling_results = [{'train_val': item[0], 'test': item[1]} for item in nn_oversampling_raw_results]\n",
    "\n",
    "for config, results in zip(layers_configs, nn_oversampling_results):\n",
    "  train_acc, eval_acc, test_acc = results['train_val'][0], results['train_val'][1], results['test'][1]\n",
    "  print(f\"Model {config}: train accuracy = {100*train_acc:.4f}%, validation accuracy = {100*eval_acc:.4f}%, test accuracy = {100*test_acc:.4f}%\")"
   ],
   "metadata": {
    "colab": {
     "base_uri": "https://localhost:8080/",
     "height": 390
    },
    "id": "uGlfn86ChfvJ",
    "outputId": "fc965ca3-596e-49ec-8548-c4277a30d782",
    "ExecuteTime": {
     "end_time": "2024-01-08T16:37:11.019622Z",
     "start_time": "2024-01-08T16:36:04.743601300Z"
    }
   },
   "execution_count": 61,
   "outputs": [
    {
     "name": "stdout",
     "output_type": "stream",
     "text": [
      "Model [16, 16]: train accuracy = 81.0264%, validation accuracy = 82.1601%, test accuracy = 81.0845%\n",
      "Model [32, 16]: train accuracy = 81.7040%, validation accuracy = 82.0590%, test accuracy = 81.3168%\n",
      "Model [32, 32]: train accuracy = 82.0824%, validation accuracy = 82.4681%, test accuracy = 81.3981%\n",
      "Model [64, 32]: train accuracy = 82.7445%, validation accuracy = 83.0136%, test accuracy = 81.6651%\n",
      "Model [64, 64]: train accuracy = 82.7291%, validation accuracy = 83.0532%, test accuracy = 81.8625%\n",
      "Model [64, 64, 64]: train accuracy = 82.6367%, validation accuracy = 82.8905%, test accuracy = 81.5722%\n"
     ]
    }
   ]
  },
  {
   "cell_type": "markdown",
   "source": [],
   "metadata": {
    "id": "l-Ge51Gn8Zg6"
   }
  },
  {
   "cell_type": "code",
   "execution_count": 62,
   "outputs": [
    {
     "name": "stdout",
     "output_type": "stream",
     "text": [
      "8612 4306 4306\n"
     ]
    }
   ],
   "source": [
    "before_classification(test_size=0.2, train_size=0.8, random_state=0, shuffle=True, balancing='undersampling')"
   ],
   "metadata": {
    "id": "2Wv3CvjA8aGt",
    "ExecuteTime": {
     "end_time": "2024-01-08T16:37:33.085420800Z",
     "start_time": "2024-01-08T16:37:33.038402700Z"
    }
   }
  },
  {
   "cell_type": "code",
   "source": [
    "layers_configs = [[16, 16], [32, 16], [32, 32], [64, 32], [64, 64], [64, 64, 64]]\n",
    "nn_undersampling_raw_results = Parallel(n_jobs=os.cpu_count())(delayed(train_and_evaluate)(config) for config in layers_configs)\n",
    "\n",
    "nn_undersampling_results = [{'train_val': item[0], 'test': item[1]} for item in nn_undersampling_raw_results]\n",
    "\n",
    "for config, results in zip(layers_configs, nn_undersampling_results):\n",
    "  train_acc, eval_acc, test_acc = results['train_val'][0], results['train_val'][1], results['test'][1]\n",
    "  print(f\"Model {config}: train accuracy = {100*train_acc:.4f}%, validation accuracy = {100*eval_acc:.4f}%, test accuracy = {100*test_acc:.4f}%\")"
   ],
   "metadata": {
    "colab": {
     "base_uri": "https://localhost:8080/"
    },
    "outputId": "b0865ad5-4d12-46c7-e566-178da1b20c1b",
    "id": "Vajjm4MI8aGt",
    "ExecuteTime": {
     "end_time": "2024-01-08T16:38:07.669768Z",
     "start_time": "2024-01-08T16:37:40.827304200Z"
    }
   },
   "execution_count": 63,
   "outputs": [
    {
     "name": "stdout",
     "output_type": "stream",
     "text": [
      "Model [16, 16]: train accuracy = 80.5515%, validation accuracy = 80.6676%, test accuracy = 80.5039%\n",
      "Model [32, 16]: train accuracy = 81.3062%, validation accuracy = 81.2192%, test accuracy = 81.2355%\n",
      "Model [32, 32]: train accuracy = 81.5566%, validation accuracy = 81.0885%, test accuracy = 81.0032%\n",
      "Model [64, 32]: train accuracy = 81.7888%, validation accuracy = 81.4514%, test accuracy = 81.1310%\n",
      "Model [64, 64]: train accuracy = 82.0029%, validation accuracy = 81.2192%, test accuracy = 81.3284%\n",
      "Model [64, 64, 64]: train accuracy = 82.0464%, validation accuracy = 81.5675%, test accuracy = 81.3864%\n"
     ]
    }
   ]
  },
  {
   "cell_type": "markdown",
   "source": [],
   "metadata": {
    "id": "N5vQVzBXE2t4"
   }
  },
  {
   "cell_type": "code",
   "execution_count": 64,
   "outputs": [
    {
     "name": "stdout",
     "output_type": "stream",
     "text": [
      "8612 4306 4306\n"
     ]
    }
   ],
   "source": [
    "before_classification(test_size=0.2, train_size=0.8, random_state=0, shuffle=True, balancing=None)"
   ],
   "metadata": {
    "id": "ja92N_qwE2-t",
    "ExecuteTime": {
     "end_time": "2024-01-08T16:38:18.782527700Z",
     "start_time": "2024-01-08T16:38:18.462301700Z"
    }
   }
  },
  {
   "cell_type": "code",
   "source": [
    "layers_configs = [[16, 16], [32, 16], [32, 32], [64, 32], [64, 64], [64, 64, 64]]\n",
    "nn_raw_results = Parallel(n_jobs=os.cpu_count())(delayed(train_and_evaluate)(config) for config in layers_configs)\n",
    "\n",
    "nn_results = [{'train_val': item[0], 'test': item[1]} for item in nn_raw_results]\n",
    "\n",
    "for config, results in zip(layers_configs, nn_results):\n",
    "  train_acc, eval_acc, test_acc = results['train_val'][0], results['train_val'][1], results['test'][1]\n",
    "  print(f\"Model {config}: train accuracy = {100*train_acc:.4f}%, validation accuracy = {100*eval_acc:.4f}%, test accuracy = {100*test_acc:.4f}%\")"
   ],
   "metadata": {
    "colab": {
     "base_uri": "https://localhost:8080/"
    },
    "outputId": "c350e246-8eed-4e71-a62a-a9e5124d4695",
    "id": "fv_1o5aBE2-u",
    "ExecuteTime": {
     "end_time": "2024-01-08T16:39:12.734774100Z",
     "start_time": "2024-01-08T16:38:20.539676300Z"
    }
   },
   "execution_count": 65,
   "outputs": [
    {
     "name": "stdout",
     "output_type": "stream",
     "text": [
      "Model [16, 16]: train accuracy = 81.7820%, validation accuracy = 81.8704%, test accuracy = 65.6250%\n",
      "Model [32, 16]: train accuracy = 82.6074%, validation accuracy = 82.7211%, test accuracy = 72.3727%\n",
      "Model [32, 32]: train accuracy = 82.2546%, validation accuracy = 82.6739%, test accuracy = 71.9676%\n",
      "Model [64, 32]: train accuracy = 83.1493%, validation accuracy = 83.2140%, test accuracy = 74.0162%\n",
      "Model [64, 64]: train accuracy = 83.4599%, validation accuracy = 83.2613%, test accuracy = 72.8125%\n",
      "Model [64, 64, 64]: train accuracy = 83.2607%, validation accuracy = 83.4234%, test accuracy = 75.3935%\n"
     ]
    }
   ]
  },
  {
   "cell_type": "markdown",
   "source": [
    "Model [64, 64]: train accuracy = 82.8479%, validation accuracy = 83.0532%, test accuracy = 76.7731%\n",
    "\n",
    "Model [64, 64]: train accuracy = 81.8505%, validation accuracy = 81.6546%, test accuracy = 76.7407%\n",
    "\n",
    "Model [64, 64]: train accuracy = 83.2709%, validation accuracy = 83.2546%, test accuracy = 76.7407%"
   ],
   "metadata": {
    "id": "RP-z1jjzTCOf"
   }
  },
  {
   "cell_type": "code",
   "source": [
    "def train_and_evaluate_on_dev(layers_config):\n",
    "  model = build_nn(layers_config, X_train.shape[-1])\n",
    "  # Add early stopping that checks val loss\n",
    "  earlystopping = tf.keras.callbacks.EarlyStopping(monitor =\"loss\", mode =\"min\", patience=2, restore_best_weights=True)\n",
    "  history = model.fit(X_dev, y_dev, epochs=20, batch_size=64)\n",
    "  test_loss, test_accuracy = model.evaluate(X_test, y_test)\n",
    "  dev_predicted = (model.predict(X_dev) >= 0.5).astype(int)\n",
    "  test_predicted = (model.predict(X_test) >= 0.5).astype(int)\n",
    "  for (labels, predicted) in zip([dev_predicted, test_predicted], [y_dev, y_test]):\n",
    "      accuracy = tf.keras.metrics.BinaryAccuracy()\n",
    "      accuracy.update_state(labels, predicted)\n",
    "      print(accuracy.result())\n",
    "  report_scores(y_dev, dev_predicted)\n",
    "  report_scores(y_test, test_predicted)\n",
    "  return history.history['accuracy'][-1], test_accuracy"
   ],
   "metadata": {
    "id": "c1cFwtXYUiNa",
    "ExecuteTime": {
     "end_time": "2024-01-08T16:54:38.471605100Z",
     "start_time": "2024-01-08T16:54:38.440298700Z"
    }
   },
   "execution_count": 72,
   "outputs": []
  },
  {
   "cell_type": "code",
   "source": [
    "before_classification(test_size=0.2, train_size=0.8, random_state=0, shuffle=True, balancing='oversampling')\n",
    "over_train_acc, over_test_acc = train_and_evaluate_on_dev([64, 64])"
   ],
   "metadata": {
    "colab": {
     "base_uri": "https://localhost:8080/"
    },
    "id": "pafb-O1fSwu7",
    "outputId": "bf27b955-812c-42a7-c075-f346a19f0dad",
    "ExecuteTime": {
     "end_time": "2024-01-08T16:55:25.939642200Z",
     "start_time": "2024-01-08T16:54:40.853143200Z"
    }
   },
   "execution_count": 73,
   "outputs": [
    {
     "name": "stdout",
     "output_type": "stream",
     "text": [
      "8612 4306 4306\n",
      "Epoch 1/20\n",
      "1776/1776 [==============================] - 3s 1ms/step - loss: 0.4396 - accuracy: 0.7932\n",
      "Epoch 2/20\n",
      "1776/1776 [==============================] - 2s 1ms/step - loss: 0.4079 - accuracy: 0.8120\n",
      "Epoch 3/20\n",
      "1776/1776 [==============================] - 2s 1ms/step - loss: 0.4014 - accuracy: 0.8153\n",
      "Epoch 4/20\n",
      "1776/1776 [==============================] - 2s 1ms/step - loss: 0.3969 - accuracy: 0.8173\n",
      "Epoch 5/20\n",
      "1776/1776 [==============================] - 2s 1ms/step - loss: 0.3939 - accuracy: 0.8194\n",
      "Epoch 6/20\n",
      "1776/1776 [==============================] - 2s 1ms/step - loss: 0.3925 - accuracy: 0.8202\n",
      "Epoch 7/20\n",
      "1776/1776 [==============================] - 2s 1ms/step - loss: 0.3913 - accuracy: 0.8204\n",
      "Epoch 8/20\n",
      "1776/1776 [==============================] - 2s 1ms/step - loss: 0.3894 - accuracy: 0.8221\n",
      "Epoch 9/20\n",
      "1776/1776 [==============================] - 2s 1ms/step - loss: 0.3878 - accuracy: 0.8235\n",
      "Epoch 10/20\n",
      "1776/1776 [==============================] - 2s 1ms/step - loss: 0.3864 - accuracy: 0.8238\n",
      "Epoch 11/20\n",
      "1776/1776 [==============================] - 2s 1ms/step - loss: 0.3846 - accuracy: 0.8245\n",
      "Epoch 12/20\n",
      "1776/1776 [==============================] - 2s 1ms/step - loss: 0.3836 - accuracy: 0.8254\n",
      "Epoch 13/20\n",
      "1776/1776 [==============================] - 2s 1ms/step - loss: 0.3825 - accuracy: 0.8254\n",
      "Epoch 14/20\n",
      "1776/1776 [==============================] - 2s 1ms/step - loss: 0.3822 - accuracy: 0.8257\n",
      "Epoch 15/20\n",
      "1776/1776 [==============================] - 2s 1ms/step - loss: 0.3808 - accuracy: 0.8270\n",
      "Epoch 16/20\n",
      "1776/1776 [==============================] - 2s 1ms/step - loss: 0.3799 - accuracy: 0.8273\n",
      "Epoch 17/20\n",
      "1776/1776 [==============================] - 2s 1ms/step - loss: 0.3794 - accuracy: 0.8275\n",
      "Epoch 18/20\n",
      "1776/1776 [==============================] - 2s 1ms/step - loss: 0.3789 - accuracy: 0.8280\n",
      "Epoch 19/20\n",
      "1776/1776 [==============================] - 2s 1ms/step - loss: 0.3781 - accuracy: 0.8281\n",
      "Epoch 20/20\n",
      "1776/1776 [==============================] - 2s 1ms/step - loss: 0.3775 - accuracy: 0.8291\n",
      "270/270 [==============================] - 0s 816us/step - loss: 0.3868 - accuracy: 0.8201\n",
      "3552/3552 [==============================] - 3s 722us/step\n",
      "270/270 [==============================] - 0s 763us/step\n",
      "tf.Tensor(0.83517236, shape=(), dtype=float32)\n",
      "tf.Tensor(0.8201347, shape=(), dtype=float32)\n",
      "              precision    recall  f1-score   support\n",
      "\n",
      "  Not Killed       0.89      0.76      0.82     56823\n",
      "      Killed       0.79      0.91      0.85     56823\n",
      "\n",
      "    accuracy                           0.84    113646\n",
      "   macro avg       0.84      0.84      0.83    113646\n",
      "weighted avg       0.84      0.84      0.83    113646\n",
      "\n",
      "              precision    recall  f1-score   support\n",
      "\n",
      "  Not Killed       0.87      0.75      0.81      4306\n",
      "      Killed       0.78      0.89      0.83      4306\n",
      "\n",
      "    accuracy                           0.82      8612\n",
      "   macro avg       0.83      0.82      0.82      8612\n",
      "weighted avg       0.83      0.82      0.82      8612\n",
      "\n"
     ]
    }
   ]
  },
  {
   "cell_type": "code",
   "source": [
    "before_classification(test_size=0.2, train_size=0.8, random_state=0, shuffle=True, balancing='undersampling')\n",
    "under_train_acc, under_test_acc = train_and_evaluate_on_dev([64, 64])"
   ],
   "metadata": {
    "colab": {
     "base_uri": "https://localhost:8080/"
    },
    "id": "mdirFlP0VTc2",
    "outputId": "659829a3-f2d3-4a3f-d669-6199a2723266",
    "ExecuteTime": {
     "end_time": "2024-01-08T16:55:40.246431400Z",
     "start_time": "2024-01-08T16:55:25.939642200Z"
    }
   },
   "execution_count": 74,
   "outputs": [
    {
     "name": "stdout",
     "output_type": "stream",
     "text": [
      "8612 4306 4306\n",
      "Epoch 1/20\n",
      "539/539 [==============================] - 1s 1ms/step - loss: 0.4760 - accuracy: 0.7750\n",
      "Epoch 2/20\n",
      "539/539 [==============================] - 1s 1ms/step - loss: 0.4338 - accuracy: 0.7950\n",
      "Epoch 3/20\n",
      "539/539 [==============================] - 1s 1ms/step - loss: 0.4214 - accuracy: 0.8014\n",
      "Epoch 4/20\n",
      "539/539 [==============================] - 1s 1ms/step - loss: 0.4160 - accuracy: 0.8066\n",
      "Epoch 5/20\n",
      "539/539 [==============================] - 1s 1ms/step - loss: 0.4104 - accuracy: 0.8098\n",
      "Epoch 6/20\n",
      "539/539 [==============================] - 1s 1ms/step - loss: 0.4077 - accuracy: 0.8109\n",
      "Epoch 7/20\n",
      "539/539 [==============================] - 1s 1ms/step - loss: 0.4061 - accuracy: 0.8113\n",
      "Epoch 8/20\n",
      "539/539 [==============================] - 1s 1ms/step - loss: 0.4016 - accuracy: 0.8139\n",
      "Epoch 9/20\n",
      "539/539 [==============================] - 1s 1ms/step - loss: 0.4021 - accuracy: 0.8140\n",
      "Epoch 10/20\n",
      "539/539 [==============================] - 1s 1ms/step - loss: 0.4000 - accuracy: 0.8161\n",
      "Epoch 11/20\n",
      "539/539 [==============================] - 1s 1ms/step - loss: 0.3979 - accuracy: 0.8150\n",
      "Epoch 12/20\n",
      "539/539 [==============================] - 1s 1ms/step - loss: 0.3968 - accuracy: 0.8161\n",
      "Epoch 13/20\n",
      "539/539 [==============================] - 1s 1ms/step - loss: 0.3978 - accuracy: 0.8167\n",
      "Epoch 14/20\n",
      "539/539 [==============================] - 1s 1ms/step - loss: 0.3957 - accuracy: 0.8170\n",
      "Epoch 15/20\n",
      "539/539 [==============================] - 1s 1ms/step - loss: 0.3948 - accuracy: 0.8176\n",
      "Epoch 16/20\n",
      "539/539 [==============================] - 1s 1ms/step - loss: 0.3949 - accuracy: 0.8165\n",
      "Epoch 17/20\n",
      "539/539 [==============================] - 1s 1ms/step - loss: 0.3935 - accuracy: 0.8181\n",
      "Epoch 18/20\n",
      "539/539 [==============================] - 1s 1ms/step - loss: 0.3924 - accuracy: 0.8206\n",
      "Epoch 19/20\n",
      "539/539 [==============================] - 1s 1ms/step - loss: 0.3928 - accuracy: 0.8198\n",
      "Epoch 20/20\n",
      "539/539 [==============================] - 1s 1ms/step - loss: 0.3919 - accuracy: 0.8197\n",
      "270/270 [==============================] - 0s 875us/step - loss: 0.3946 - accuracy: 0.8140\n",
      "1077/1077 [==============================] - 1s 730us/step\n",
      "270/270 [==============================] - 0s 743us/step\n",
      "tf.Tensor(0.82600874, shape=(), dtype=float32)\n",
      "tf.Tensor(0.8139805, shape=(), dtype=float32)\n",
      "              precision    recall  f1-score   support\n",
      "\n",
      "  Not Killed       0.90      0.73      0.81     17225\n",
      "      Killed       0.78      0.92      0.84     17225\n",
      "\n",
      "    accuracy                           0.83     34450\n",
      "   macro avg       0.84      0.83      0.82     34450\n",
      "weighted avg       0.84      0.83      0.82     34450\n",
      "\n",
      "              precision    recall  f1-score   support\n",
      "\n",
      "  Not Killed       0.89      0.72      0.79      4306\n",
      "      Killed       0.76      0.91      0.83      4306\n",
      "\n",
      "    accuracy                           0.81      8612\n",
      "   macro avg       0.83      0.81      0.81      8612\n",
      "weighted avg       0.83      0.81      0.81      8612\n",
      "\n"
     ]
    }
   ]
  },
  {
   "cell_type": "code",
   "source": [
    "before_classification(test_size=0.2, train_size=0.8, random_state=0, shuffle=True, balancing=None)\n",
    "none_train_acc, none_test_acc = train_and_evaluate_on_dev([64, 64])"
   ],
   "metadata": {
    "colab": {
     "base_uri": "https://localhost:8080/"
    },
    "id": "Up7FznS2WZ1t",
    "outputId": "5c3821f5-fe64-4cf7-98ad-374a45d38b29",
    "ExecuteTime": {
     "end_time": "2024-01-08T16:56:09.315433500Z",
     "start_time": "2024-01-08T16:55:40.249943900Z"
    }
   },
   "execution_count": 75,
   "outputs": [
    {
     "name": "stdout",
     "output_type": "stream",
     "text": [
      "8612 4306 4306\n",
      "Epoch 1/20\n",
      "1157/1157 [==============================] - 2s 1ms/step - loss: 0.3805 - accuracy: 0.8005\n",
      "Epoch 2/20\n",
      "1157/1157 [==============================] - 1s 1ms/step - loss: 0.3540 - accuracy: 0.8162\n",
      "Epoch 3/20\n",
      "1157/1157 [==============================] - 1s 1ms/step - loss: 0.3471 - accuracy: 0.8194\n",
      "Epoch 4/20\n",
      "1157/1157 [==============================] - 1s 1ms/step - loss: 0.3441 - accuracy: 0.8212\n",
      "Epoch 5/20\n",
      "1157/1157 [==============================] - 1s 1ms/step - loss: 0.3413 - accuracy: 0.8256\n",
      "Epoch 6/20\n",
      "1157/1157 [==============================] - 1s 1ms/step - loss: 0.3399 - accuracy: 0.8269\n",
      "Epoch 7/20\n",
      "1157/1157 [==============================] - 1s 1ms/step - loss: 0.3379 - accuracy: 0.8277\n",
      "Epoch 8/20\n",
      "1157/1157 [==============================] - 1s 1ms/step - loss: 0.3363 - accuracy: 0.8286\n",
      "Epoch 9/20\n",
      "1157/1157 [==============================] - 1s 1ms/step - loss: 0.3356 - accuracy: 0.8286\n",
      "Epoch 10/20\n",
      "1157/1157 [==============================] - 1s 1ms/step - loss: 0.3354 - accuracy: 0.8291\n",
      "Epoch 11/20\n",
      "1157/1157 [==============================] - 1s 1ms/step - loss: 0.3333 - accuracy: 0.8303\n",
      "Epoch 12/20\n",
      "1157/1157 [==============================] - 1s 1ms/step - loss: 0.3335 - accuracy: 0.8313\n",
      "Epoch 13/20\n",
      "1157/1157 [==============================] - 1s 1ms/step - loss: 0.3318 - accuracy: 0.8323\n",
      "Epoch 14/20\n",
      "1157/1157 [==============================] - 1s 1ms/step - loss: 0.3314 - accuracy: 0.8320\n",
      "Epoch 15/20\n",
      "1157/1157 [==============================] - 1s 1ms/step - loss: 0.3316 - accuracy: 0.8312\n",
      "Epoch 16/20\n",
      "1157/1157 [==============================] - 1s 1ms/step - loss: 0.3309 - accuracy: 0.8318\n",
      "Epoch 17/20\n",
      "1157/1157 [==============================] - 1s 1ms/step - loss: 0.3292 - accuracy: 0.8338\n",
      "Epoch 18/20\n",
      "1157/1157 [==============================] - 1s 1ms/step - loss: 0.3293 - accuracy: 0.8346\n",
      "Epoch 19/20\n",
      "1157/1157 [==============================] - 1s 1ms/step - loss: 0.3292 - accuracy: 0.8343\n",
      "Epoch 20/20\n",
      "1157/1157 [==============================] - 1s 1ms/step - loss: 0.3280 - accuracy: 0.8354\n",
      "270/270 [==============================] - 0s 884us/step - loss: 0.4902 - accuracy: 0.7498\n",
      "2314/2314 [==============================] - 2s 753us/step\n",
      "270/270 [==============================] - 0s 786us/step\n",
      "tf.Tensor(0.8406844, shape=(), dtype=float32)\n",
      "tf.Tensor(0.7497678, shape=(), dtype=float32)\n",
      "              precision    recall  f1-score   support\n",
      "\n",
      "  Not Killed       0.89      0.90      0.90     56823\n",
      "      Killed       0.66      0.65      0.66     17225\n",
      "\n",
      "    accuracy                           0.84     74048\n",
      "   macro avg       0.78      0.77      0.78     74048\n",
      "weighted avg       0.84      0.84      0.84     74048\n",
      "\n",
      "              precision    recall  f1-score   support\n",
      "\n",
      "  Not Killed       0.69      0.91      0.78      4306\n",
      "      Killed       0.86      0.59      0.70      4306\n",
      "\n",
      "    accuracy                           0.75      8612\n",
      "   macro avg       0.78      0.75      0.74      8612\n",
      "weighted avg       0.78      0.75      0.74      8612\n",
      "\n"
     ]
    }
   ]
  },
  {
   "cell_type": "code",
   "execution_count": null,
   "outputs": [],
   "source": [],
   "metadata": {
    "collapsed": false
   }
  }
 ],
 "metadata": {
  "colab": {
   "collapsed_sections": [
    "BFWgO6iqdQVd",
    "R8T2nSz3KObO"
   ],
   "provenance": [],
   "include_colab_link": true
  },
  "kernelspec": {
   "name": "python3",
   "display_name": "Python 3"
  },
  "language_info": {
   "name": "python"
  }
 },
 "nbformat": 4,
 "nbformat_minor": 0
}
