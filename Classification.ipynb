{
  "cells": [
    {
      "cell_type": "markdown",
      "metadata": {
        "id": "view-in-github",
        "colab_type": "text"
      },
      "source": [
        "<a href=\"https://colab.research.google.com/github/anasshamoon12002/data-mining-2023-24/blob/main/Classification.ipynb\" target=\"_parent\"><img src=\"https://colab.research.google.com/assets/colab-badge.svg\" alt=\"Open In Colab\"/></a>"
      ]
    },
    {
      "cell_type": "markdown",
      "metadata": {
        "collapsed": false,
        "id": "7F2R5zPG_B5T"
      },
      "source": [
        "# Data Mining Project, a.y. 2023-2024\n",
        "## Salvatore Correnti, Jonathan Ato Markin, Anas Shamoon\n",
        "## Classification Notebook"
      ]
    },
    {
      "cell_type": "markdown",
      "metadata": {
        "collapsed": false,
        "id": "leV_v6bF_B5U"
      },
      "source": [
        "# Preliminary\n",
        "These cells are for running the notebook with `Google Colab` using a `Google Drive` storage for the project repository.They can be skipped if data is available locally."
      ]
    },
    {
      "cell_type": "code",
      "execution_count": 1,
      "metadata": {
        "id": "0z0WlTD-_B5V",
        "ExecuteTime": {
          "end_time": "2024-01-02T12:04:15.348190100Z",
          "start_time": "2024-01-02T12:04:14.465146500Z"
        }
      },
      "outputs": [],
      "source": [
        "from google.colab import drive"
      ]
    },
    {
      "cell_type": "code",
      "execution_count": 2,
      "metadata": {
        "colab": {
          "base_uri": "https://localhost:8080/"
        },
        "id": "LSvDSJT6_B5W",
        "outputId": "0b9d6e05-b76c-4bf3-dad9-e1b1a1b17a7d"
      },
      "outputs": [
        {
          "output_type": "stream",
          "name": "stdout",
          "text": [
            "Mounted at /content/drive\n",
            "/content/drive/MyDrive/Colab Notebooks/data-mining-2023-24\n"
          ]
        }
      ],
      "source": [
        "drive.mount('/content/drive')\n",
        "%cd \"drive/MyDrive/Colab Notebooks/data-mining-2023-24\""
      ]
    },
    {
      "cell_type": "code",
      "execution_count": 3,
      "metadata": {
        "id": "3XzkH_u1CBsb",
        "ExecuteTime": {
          "end_time": "2024-01-02T13:20:19.123730Z",
          "start_time": "2024-01-02T13:19:51.413130400Z"
        }
      },
      "outputs": [],
      "source": [
        "import os\n",
        "import pandas as pd\n",
        "import numpy as np\n",
        "from tqdm import tqdm\n",
        "from sklearn.preprocessing import StandardScaler\n",
        "from sklearn.model_selection import train_test_split, RandomizedSearchCV, GridSearchCV, cross_val_score, KFold, StratifiedKFold, cross_validate\n",
        "from sklearn.metrics import accuracy_score, f1_score, confusion_matrix, make_scorer, balanced_accuracy_score, classification_report\n",
        "from sklearn.preprocessing import normalize\n",
        "import matplotlib.pyplot as plt\n",
        "import seaborn as sns\n",
        "import tensorflow as tf\n",
        "import imblearn\n",
        "from imblearn.over_sampling import RandomOverSampler\n",
        "from imblearn.under_sampling import RandomUnderSampler\n",
        "from joblib import Parallel, delayed\n",
        "\n",
        "from tensorflow.keras.layers import Dense, Dropout\n",
        "from tensorflow.keras.models import Sequential"
      ]
    },
    {
      "cell_type": "markdown",
      "metadata": {
        "id": "2untmNh6TEYm"
      },
      "source": [
        "# Utils"
      ]
    },
    {
      "cell_type": "code",
      "execution_count": 4,
      "metadata": {
        "id": "EXFFai76TFiV",
        "ExecuteTime": {
          "end_time": "2024-01-02T13:20:31.616143200Z",
          "start_time": "2024-01-02T13:20:31.559909200Z"
        }
      },
      "outputs": [],
      "source": [
        "def report_scores(test_label, test_pred, class_names=['Not Killed', 'Killed']):\n",
        "    print(classification_report(test_label, test_pred, target_names=class_names))"
      ]
    },
    {
      "cell_type": "markdown",
      "metadata": {
        "id": "_NI05RBhCVuO"
      },
      "source": [
        "# Dataset Preparation and Split"
      ]
    },
    {
      "cell_type": "code",
      "execution_count": 5,
      "metadata": {
        "id": "s8SYQkEYCdaf",
        "ExecuteTime": {
          "end_time": "2024-01-02T13:20:34.878266500Z",
          "start_time": "2024-01-02T13:20:34.700853Z"
        }
      },
      "outputs": [],
      "source": [
        "# Load the dataset\n",
        "df_dataset = pd.read_csv('data/df_incidents_poverty_house_data_preparation_final.csv')"
      ]
    },
    {
      "cell_type": "code",
      "execution_count": 6,
      "metadata": {
        "colab": {
          "base_uri": "https://localhost:8080/"
        },
        "id": "hrTdFYJiCj2_",
        "outputId": "a4696966-b9f1-4f48-dd0c-b91f2b2e7aea",
        "ExecuteTime": {
          "end_time": "2024-01-02T13:20:35.287732900Z",
          "start_time": "2024-01-02T13:20:35.185445300Z"
        }
      },
      "outputs": [
        {
          "output_type": "stream",
          "name": "stdout",
          "text": [
            "<class 'pandas.core.frame.DataFrame'>\n",
            "RangeIndex: 92561 entries, 0 to 92560\n",
            "Data columns (total 17 columns):\n",
            " #   Column                        Non-Null Count  Dtype  \n",
            "---  ------                        --------------  -----  \n",
            " 0   state                         92561 non-null  object \n",
            " 1   city_or_county                92561 non-null  object \n",
            " 2   latitude                      92561 non-null  float64\n",
            " 3   longitude                     92561 non-null  float64\n",
            " 4   avg_age_participants          92561 non-null  float64\n",
            " 5   datetime                      92561 non-null  object \n",
            " 6   males_ratio                   92561 non-null  float64\n",
            " 7   state_congressional_district  92561 non-null  object \n",
            " 8   povertyPercentage             92561 non-null  float64\n",
            " 9   killed_ratio                  92561 non-null  float64\n",
            " 10  injured_ratio                 92561 non-null  float64\n",
            " 11  unharmed_ratio                92561 non-null  float64\n",
            " 12  candidate_winning_ratio       92561 non-null  float64\n",
            " 13  males_in_month_ratio          92561 non-null  float64\n",
            " 14  killed_in_month_ratio         92561 non-null  float64\n",
            " 15  injured_in_month_ratio        92561 non-null  float64\n",
            " 16  unharmed_in_month_ratio       92561 non-null  float64\n",
            "dtypes: float64(13), object(4)\n",
            "memory usage: 12.0+ MB\n"
          ]
        }
      ],
      "source": [
        "df_dataset.info()"
      ]
    },
    {
      "cell_type": "code",
      "execution_count": 7,
      "metadata": {
        "id": "T3k9EKMNEEAw",
        "ExecuteTime": {
          "end_time": "2024-01-02T13:20:36.095432600Z",
          "start_time": "2024-01-02T13:20:36.079730200Z"
        }
      },
      "outputs": [],
      "source": [
        "df_dataset.drop(columns=['state', 'city_or_county', 'datetime', 'state_congressional_district', 'killed_in_month_ratio'], inplace=True)"
      ]
    },
    {
      "cell_type": "code",
      "execution_count": 8,
      "metadata": {
        "id": "eSad6C8KTDOe",
        "ExecuteTime": {
          "end_time": "2024-01-02T13:20:37.299386500Z",
          "start_time": "2024-01-02T13:20:37.260347700Z"
        }
      },
      "outputs": [],
      "source": [
        "df_dataset['isKilled'] = df_dataset['killed_ratio'].apply(lambda x: 1 if x > 0 else 0)"
      ]
    },
    {
      "cell_type": "code",
      "execution_count": 9,
      "metadata": {
        "id": "xntiK8KtTeP7",
        "ExecuteTime": {
          "end_time": "2024-01-02T13:20:37.833234700Z",
          "start_time": "2024-01-02T13:20:37.776145200Z"
        }
      },
      "outputs": [],
      "source": [
        "df_dataset.drop(columns=['killed_ratio'], inplace=True)"
      ]
    },
    {
      "cell_type": "code",
      "execution_count": 10,
      "metadata": {
        "id": "2lQyIglqTnBe",
        "ExecuteTime": {
          "end_time": "2024-01-02T13:20:39.120295800Z",
          "start_time": "2024-01-02T13:20:38.368602600Z"
        }
      },
      "outputs": [],
      "source": [
        "df_dataset.to_csv('data/unsplit_dataset.csv', index=False)"
      ]
    },
    {
      "cell_type": "code",
      "execution_count": 11,
      "metadata": {
        "id": "z1CNJYNeUghe",
        "ExecuteTime": {
          "end_time": "2024-01-02T13:20:39.121292Z",
          "start_time": "2024-01-02T13:20:39.099896100Z"
        }
      },
      "outputs": [],
      "source": [
        "numpy_dataset = df_dataset.to_numpy()"
      ]
    },
    {
      "cell_type": "code",
      "execution_count": 12,
      "metadata": {
        "colab": {
          "base_uri": "https://localhost:8080/"
        },
        "id": "D3jNDDazUuI4",
        "outputId": "b51e42e1-8089-4c13-c088-59ebdbb37124",
        "ExecuteTime": {
          "end_time": "2024-01-02T13:20:39.966281700Z",
          "start_time": "2024-01-02T13:20:39.926767800Z"
        }
      },
      "outputs": [
        {
          "output_type": "stream",
          "name": "stdout",
          "text": [
            "(92561, 11) (92561, 1)\n"
          ]
        }
      ],
      "source": [
        "X, y = numpy_dataset[:, 0:11], numpy_dataset[:, 11:]\n",
        "print(X.shape, y.shape)"
      ]
    },
    {
      "cell_type": "code",
      "execution_count": 13,
      "metadata": {
        "id": "z8tp-jYqUvLT",
        "ExecuteTime": {
          "end_time": "2024-01-02T13:20:41.773551100Z",
          "start_time": "2024-01-02T13:20:41.368943600Z"
        }
      },
      "outputs": [],
      "source": [
        "X_dev, X_test, y_dev, y_test = train_test_split(X, y, test_size=18513, train_size=74048, random_state=0, shuffle=True, stratify=y)"
      ]
    },
    {
      "cell_type": "code",
      "execution_count": 14,
      "metadata": {
        "colab": {
          "base_uri": "https://localhost:8080/"
        },
        "id": "OitZhM-9TmIa",
        "outputId": "ea08f36c-2028-421d-df7b-77fb5a901215",
        "ExecuteTime": {
          "end_time": "2024-01-02T13:20:43.249122800Z",
          "start_time": "2024-01-02T13:20:43.194119800Z"
        }
      },
      "outputs": [
        {
          "output_type": "stream",
          "name": "stdout",
          "text": [
            "<class 'pandas.core.frame.DataFrame'>\n",
            "RangeIndex: 92561 entries, 0 to 92560\n",
            "Data columns (total 12 columns):\n",
            " #   Column                   Non-Null Count  Dtype  \n",
            "---  ------                   --------------  -----  \n",
            " 0   latitude                 92561 non-null  float64\n",
            " 1   longitude                92561 non-null  float64\n",
            " 2   avg_age_participants     92561 non-null  float64\n",
            " 3   males_ratio              92561 non-null  float64\n",
            " 4   povertyPercentage        92561 non-null  float64\n",
            " 5   injured_ratio            92561 non-null  float64\n",
            " 6   unharmed_ratio           92561 non-null  float64\n",
            " 7   candidate_winning_ratio  92561 non-null  float64\n",
            " 8   males_in_month_ratio     92561 non-null  float64\n",
            " 9   injured_in_month_ratio   92561 non-null  float64\n",
            " 10  unharmed_in_month_ratio  92561 non-null  float64\n",
            " 11  isKilled                 92561 non-null  int64  \n",
            "dtypes: float64(11), int64(1)\n",
            "memory usage: 8.5 MB\n"
          ]
        }
      ],
      "source": [
        "df_dataset.info()"
      ]
    },
    {
      "cell_type": "code",
      "execution_count": 15,
      "metadata": {
        "id": "hCGiObPFVXjJ",
        "ExecuteTime": {
          "end_time": "2024-01-02T13:20:44.551872400Z",
          "start_time": "2024-01-02T13:20:44.539671300Z"
        }
      },
      "outputs": [],
      "source": [
        "input_columns = [\n",
        "    'latitude', 'longitude', 'avg_age_participants', 'males_ratio', 'povertyPercentage', 'injured_ratio', 'unharmed_ratio',\n",
        "    'candidate_winning_ratio', 'males_in_month_ratio', 'injured_in_month_ratio', 'unharmed_in_month_ratio'\n",
        "]\n",
        "output_column = ['isKilled']"
      ]
    },
    {
      "cell_type": "code",
      "execution_count": 16,
      "metadata": {
        "id": "bPRUVzb5WKkC",
        "ExecuteTime": {
          "end_time": "2024-01-02T13:20:48.677890300Z",
          "start_time": "2024-01-02T13:20:48.598377800Z"
        }
      },
      "outputs": [],
      "source": [
        "X_dev_df, y_dev_df = pd.DataFrame(X_dev, columns=input_columns), pd.DataFrame(y_dev, columns=output_column)\n",
        "X_test_df, y_test_df = pd.DataFrame(X_test, columns=input_columns), pd.DataFrame(y_test, columns=output_column)"
      ]
    },
    {
      "cell_type": "code",
      "execution_count": 17,
      "metadata": {
        "id": "MtIEiSUqWy8b",
        "ExecuteTime": {
          "end_time": "2024-01-02T13:20:51.178845800Z",
          "start_time": "2024-01-02T13:20:49.928177Z"
        }
      },
      "outputs": [],
      "source": [
        "X_dev_df.to_csv('data/dev_dataset_input.csv', index=False)\n",
        "y_dev_df.to_csv('data/dev_dataset_output.csv', index=False)\n",
        "\n",
        "X_test_df.to_csv('data/test_dataset_input.csv', index=False)\n",
        "y_test_df.to_csv('data/test_dataset_output.csv', index=False)"
      ]
    },
    {
      "cell_type": "code",
      "execution_count": 18,
      "metadata": {
        "colab": {
          "base_uri": "https://localhost:8080/"
        },
        "id": "n_MzEOTeUN77",
        "outputId": "81bdb88d-f059-454a-dce9-92102b4c4dcc",
        "ExecuteTime": {
          "end_time": "2024-01-02T13:20:51.193840800Z",
          "start_time": "2024-01-02T13:20:51.173845400Z"
        }
      },
      "outputs": [
        {
          "output_type": "stream",
          "name": "stdout",
          "text": [
            "8612 4306 4306\n"
          ]
        }
      ],
      "source": [
        "# Undersampling for test set\n",
        "from imblearn.under_sampling import RandomUnderSampler\n",
        "undersample = RandomUnderSampler(sampling_strategy='majority', random_state=0)\n",
        "X_test_u, y_test_u = undersample.fit_resample(X_test, y_test)\n",
        "print(len(X_test_u), len(y_test_u[y_test_u == 0]), len(y_test_u[y_test_u == 1]))"
      ]
    },
    {
      "cell_type": "code",
      "execution_count": 19,
      "metadata": {
        "id": "cG4J3ZQFWJN0",
        "ExecuteTime": {
          "end_time": "2024-01-02T13:22:22.655228200Z",
          "start_time": "2024-01-02T13:22:22.640961100Z"
        }
      },
      "outputs": [],
      "source": [
        "X_test_u_df, y_test_u_df = pd.DataFrame(X_test_u, columns=input_columns), pd.DataFrame(y_test_u, columns=output_column)"
      ]
    },
    {
      "cell_type": "code",
      "execution_count": 20,
      "metadata": {
        "id": "diWLZ65aWUjO",
        "ExecuteTime": {
          "end_time": "2024-01-02T13:22:25.851847400Z",
          "start_time": "2024-01-02T13:22:25.770543400Z"
        }
      },
      "outputs": [],
      "source": [
        "X_test_u_df.to_csv('data/test_dataset_undersampled_input.csv', index=False)\n",
        "y_test_u_df.to_csv('data/test_dataset_undersampled_output.csv', index=False)"
      ]
    },
    {
      "cell_type": "code",
      "execution_count": 21,
      "metadata": {
        "id": "P96aYOBZQDij",
        "ExecuteTime": {
          "end_time": "2024-01-02T13:22:29.717213200Z",
          "start_time": "2024-01-02T13:22:29.702367400Z"
        }
      },
      "outputs": [],
      "source": [
        "X_dev_orig, y_dev_orig, X_test_orig, y_test_orig = X_dev.copy(), y_dev.copy(), X_test_u.copy(), y_test_u.copy()"
      ]
    },
    {
      "cell_type": "code",
      "execution_count": 22,
      "metadata": {
        "colab": {
          "base_uri": "https://localhost:8080/"
        },
        "id": "z2fDXuTqIV5A",
        "outputId": "a035d9ad-f464-4256-be9c-4ca947df9dd1",
        "ExecuteTime": {
          "end_time": "2024-01-02T13:22:37.035481900Z",
          "start_time": "2024-01-02T13:22:37.017613500Z"
        }
      },
      "outputs": [
        {
          "output_type": "execute_result",
          "data": {
            "text/plain": [
              "(56823, 17225)"
            ]
          },
          "metadata": {},
          "execution_count": 22
        }
      ],
      "source": [
        "len(y_dev_orig[y_dev_orig == 0]), len(y_dev_orig[y_dev_orig == 1])"
      ]
    },
    {
      "cell_type": "code",
      "execution_count": 23,
      "metadata": {
        "colab": {
          "base_uri": "https://localhost:8080/"
        },
        "id": "_9jKRkHwIcXg",
        "outputId": "d65d7923-c011-445e-b75e-d149fdb7915e",
        "ExecuteTime": {
          "end_time": "2024-01-02T13:22:39.360732200Z",
          "start_time": "2024-01-02T13:22:39.242786500Z"
        }
      },
      "outputs": [
        {
          "output_type": "execute_result",
          "data": {
            "text/plain": [
              "3.298867924528302"
            ]
          },
          "metadata": {},
          "execution_count": 23
        }
      ],
      "source": [
        "len(y_dev_orig[y_dev_orig == 0])/len(y_dev_orig[y_dev_orig == 1])"
      ]
    },
    {
      "cell_type": "markdown",
      "metadata": {
        "id": "e3Zpco0Z_9aG"
      },
      "source": [
        "Now visually show ratio of different classes examples in the dataset."
      ]
    },
    {
      "cell_type": "code",
      "execution_count": 24,
      "metadata": {
        "colab": {
          "base_uri": "https://localhost:8080/",
          "height": 527
        },
        "id": "1MJ82JqqAC4G",
        "outputId": "960e67a0-2648-4f5c-8a19-ab540f6c4ad3",
        "ExecuteTime": {
          "end_time": "2024-01-02T13:22:46.638381300Z",
          "start_time": "2024-01-02T13:22:46.340827100Z"
        }
      },
      "outputs": [
        {
          "output_type": "stream",
          "name": "stdout",
          "text": [
            "MultiIndex([(0,),\n",
            "            (1,)],\n",
            "           names=['isKilled'])\n"
          ]
        },
        {
          "output_type": "display_data",
          "data": {
            "text/plain": [
              "<Figure size 640x480 with 1 Axes>"
            ],
            "image/png": "[encoded data removed]"
          },
          "metadata": {}
        },
        {
          "output_type": "stream",
          "name": "stdout",
          "text": [
            "isKilled\n",
            "0           56823\n",
            "1           17225\n",
            "dtype: int64\n"
          ]
        }
      ],
      "source": [
        "killed_value_count = y_dev_df.astype(int).value_counts()\n",
        "print(killed_value_count.keys())\n",
        "# Show pie plot\n",
        "labels = ['not-killed', 'killed']\n",
        "plt.pie(killed_value_count, labels=killed_value_count.index, colors=['blue', 'red'])\n",
        "plt.show()\n",
        "print(killed_value_count)"
      ]
    },
    {
      "cell_type": "markdown",
      "metadata": {
        "id": "SpSOAXEXG0fN"
      },
      "source": [
        "### Some utils"
      ]
    },
    {
      "cell_type": "code",
      "execution_count": 25,
      "metadata": {
        "id": "QpoEltteoDMr",
        "ExecuteTime": {
          "end_time": "2024-01-02T13:22:54.680680400Z",
          "start_time": "2024-01-02T13:22:54.652545600Z"
        }
      },
      "outputs": [],
      "source": [
        "def before_classification(test_size=0.2, train_size=0.8, random_state=0, shuffle=True, normalize=True, balancing=None):\n",
        "  X_dev, y_dev, X_test, y_test = X_dev_orig.copy(), y_dev_orig.copy(), X_test_orig.copy(), y_test_orig.copy()\n",
        "  # Balancing: None, OverSampling, UnderSampling\n",
        "  if balancing == 'oversampling':\n",
        "    oversample = RandomOverSampler(sampling_strategy='minority', random_state=0)\n",
        "    X_dev, y_dev = oversample.fit_resample(X_dev, y_dev)\n",
        "  elif balancing == 'undersampling':\n",
        "    undersample = RandomUnderSampler(sampling_strategy='majority', random_state=0)\n",
        "    X_dev, y_dev = undersample.fit_resample(X_dev, y_dev)\n",
        "  # Balancing is inherited by X_train and X_eval thanks to stratification\n",
        "  global X_train, X_eval, y_train, y_eval\n",
        "  X_train, X_eval, y_train, y_eval = train_test_split(\n",
        "      X_dev, y_dev, test_size=test_size, train_size=train_size, random_state=random_state, shuffle=shuffle, stratify=y_dev\n",
        "  )\n",
        "  if normalize:\n",
        "    scaler = StandardScaler()\n",
        "    X_dev = scaler.fit_transform(X_dev)\n",
        "    X_test = scaler.fit_transform(X_test)\n",
        "    X_train = scaler.fit_transform(X_train)\n",
        "    X_eval = scaler.fit_transform(X_eval)"
      ]
    },
    {
      "cell_type": "code",
      "execution_count": 26,
      "metadata": {
        "id": "mzCWxqV9omAs",
        "ExecuteTime": {
          "end_time": "2024-01-02T18:49:11.354937500Z",
          "start_time": "2024-01-02T18:49:11.325745100Z"
        }
      },
      "outputs": [],
      "source": [
        "def evaluate_on_dataset(model, X, y):\n",
        "  predicted = model.predict(X)\n",
        "  accuracy = tf.keras.metrics.Accuracy()\n",
        "  accuracy.update_state(y, predicted)\n",
        "  result = accuracy.result().numpy()\n",
        "  print(f\"Accuracy: {100*result:.4f}%\")\n",
        "  report_scores(y, predicted)"
      ]
    },
    {
      "cell_type": "code",
      "execution_count": 27,
      "metadata": {
        "id": "-wjsVlaSuqWq",
        "ExecuteTime": {
          "end_time": "2024-01-02T13:22:57.808134900Z",
          "start_time": "2024-01-02T13:22:57.776261500Z"
        }
      },
      "outputs": [],
      "source": [
        "X_train, X_eval, y_train, y_eval = None, None, None, None"
      ]
    },
    {
      "cell_type": "markdown",
      "metadata": {
        "id": "BFWgO6iqdQVd"
      },
      "source": [
        "## Classification with Decision Trees"
      ]
    },
    {
      "cell_type": "code",
      "execution_count": null,
      "metadata": {
        "id": "ognTQwdXyC1c"
      },
      "outputs": [],
      "source": [
        "# Function that finds the best decision tree doing hyperparameter search through CV.\n",
        "# Retrains on the whole set at the end.\n",
        "from sklearn.tree import DecisionTreeClassifier\n",
        "def build_decision_tree(X, y, cv=5, print_res=True):\n",
        "    params = [{\n",
        "    'criterion': ['gini', 'entropy'],\n",
        "    'max_depth': [5, 10, None],\n",
        "    'max_features': ['sqrt', 'log2', None],\n",
        "    'min_samples_split': [2, 4, 6],\n",
        "    'min_samples_leaf': [2, 4]\n",
        "    }]\n",
        "    clf = GridSearchCV(DecisionTreeClassifier(), params, refit = True, cv=cv, scoring='accuracy', n_jobs=os.cpu_count(), verbose=10)\n",
        "    clf.fit(X, y)\n",
        "    if print_res:\n",
        "        print(\"DT - Best parameters set found:\")\n",
        "        print(clf.best_params_)\n",
        "        print(\"DT - Best accuraccy score found:\")\n",
        "        print(clf.best_score_)\n",
        "\n",
        "    return(clf.best_score_, clf.best_estimator_)"
      ]
    },
    {
      "cell_type": "markdown",
      "metadata": {
        "id": "fimOizop1s-m"
      },
      "source": [
        "We first use `oversampling`:"
      ]
    },
    {
      "cell_type": "code",
      "execution_count": null,
      "metadata": {
        "colab": {
          "base_uri": "https://localhost:8080/"
        },
        "id": "TD5SQ8ojojMv",
        "outputId": "d8db314f-bbdc-48af-ad4f-d4a74061630d"
      },
      "outputs": [
        {
          "name": "stdout",
          "output_type": "stream",
          "text": [
            "Fitting 5 folds for each of 108 candidates, totalling 540 fits\n",
            "DT - Best parameters set found:\n",
            "{'criterion': 'gini', 'max_depth': None, 'max_features': 'sqrt', 'min_samples_leaf': 4, 'min_samples_split': 4}\n",
            "DT - Best accuraccy score found:\n",
            "0.8311230414521089\n"
          ]
        }
      ],
      "source": [
        "before_classification(test_size=0.2, train_size=0.8, random_state=0, shuffle=True, balancing='oversampling')\n",
        "best_score_dt, best_dt = build_decision_tree(X_dev, y_dev)"
      ]
    },
    {
      "cell_type": "code",
      "execution_count": null,
      "metadata": {
        "colab": {
          "base_uri": "https://localhost:8080/"
        },
        "id": "h-P9VPafpFrb",
        "outputId": "9d90974d-25fa-47e9-dee1-e1e2b5bc4fdf"
      },
      "outputs": [
        {
          "name": "stdout",
          "output_type": "stream",
          "text": [
            "Accuracy: 91.1328%\n",
            "              precision    recall  f1-score   support\n",
            "\n",
            "  Not Killed       0.93      0.96      0.94     56823\n",
            "      Killed       0.85      0.75      0.80     17225\n",
            "\n",
            "    accuracy                           0.91     74048\n",
            "   macro avg       0.89      0.85      0.87     74048\n",
            "weighted avg       0.91      0.91      0.91     74048\n",
            "\n",
            "Accuracy: 82.7094%\n",
            "              precision    recall  f1-score   support\n",
            "\n",
            "  Not Killed       0.87      0.91      0.89     14207\n",
            "      Killed       0.65      0.57      0.60      4306\n",
            "\n",
            "    accuracy                           0.83     18513\n",
            "   macro avg       0.76      0.74      0.75     18513\n",
            "weighted avg       0.82      0.83      0.82     18513\n",
            "\n"
          ]
        }
      ],
      "source": [
        "evaluate_on_dataset(best_dt, X_dev, y_dev)\n",
        "evaluate_on_dataset(best_dt, X_test, y_test)"
      ]
    },
    {
      "cell_type": "markdown",
      "metadata": {
        "id": "z5meDP6E1jig"
      },
      "source": [
        "Now with `undersampling`:"
      ]
    },
    {
      "cell_type": "code",
      "execution_count": null,
      "metadata": {
        "colab": {
          "base_uri": "https://localhost:8080/"
        },
        "id": "AiXBKXXG1hU2",
        "outputId": "334288d6-3efe-4ad5-87cd-66777b883997"
      },
      "outputs": [
        {
          "name": "stdout",
          "output_type": "stream",
          "text": [
            "Fitting 5 folds for each of 108 candidates, totalling 540 fits\n",
            "DT - Best parameters set found:\n",
            "{'criterion': 'gini', 'max_depth': None, 'max_features': 'sqrt', 'min_samples_leaf': 4, 'min_samples_split': 2}\n",
            "DT - Best accuraccy score found:\n",
            "0.8296915032735764\n"
          ]
        }
      ],
      "source": [
        "before_classification(test_size=0.2, train_size=0.8, random_state=0, shuffle=True, balancing='undersampling')\n",
        "best_score_dt, best_dt = build_decision_tree(X_dev, y_dev)"
      ]
    },
    {
      "cell_type": "code",
      "execution_count": null,
      "metadata": {
        "colab": {
          "base_uri": "https://localhost:8080/"
        },
        "id": "InJOfU9_1hVW",
        "outputId": "e628e5ed-47de-4b0c-bff9-c559151f4e1c"
      },
      "outputs": [
        {
          "name": "stdout",
          "output_type": "stream",
          "text": [
            "Accuracy: 91.2894%\n",
            "              precision    recall  f1-score   support\n",
            "\n",
            "  Not Killed       0.93      0.96      0.94     56823\n",
            "      Killed       0.85      0.76      0.80     17225\n",
            "\n",
            "    accuracy                           0.91     74048\n",
            "   macro avg       0.89      0.86      0.87     74048\n",
            "weighted avg       0.91      0.91      0.91     74048\n",
            "\n",
            "Accuracy: 83.0876%\n",
            "              precision    recall  f1-score   support\n",
            "\n",
            "  Not Killed       0.88      0.91      0.89     14207\n",
            "      Killed       0.65      0.58      0.62      4306\n",
            "\n",
            "    accuracy                           0.83     18513\n",
            "   macro avg       0.77      0.74      0.75     18513\n",
            "weighted avg       0.83      0.83      0.83     18513\n",
            "\n"
          ]
        }
      ],
      "source": [
        "evaluate_on_dataset(best_dt, X_dev, y_dev)\n",
        "evaluate_on_dataset(best_dt, X_test, y_test)"
      ]
    },
    {
      "cell_type": "markdown",
      "metadata": {
        "id": "ENKJKFyPBtqL"
      },
      "source": [
        "We now make a comparison with the **unbalanced** dataset:"
      ]
    },
    {
      "cell_type": "code",
      "execution_count": null,
      "metadata": {
        "colab": {
          "base_uri": "https://localhost:8080/"
        },
        "id": "kARhRFeiBzeF",
        "outputId": "3f479a85-044b-4c33-facc-646f2547f02f"
      },
      "outputs": [
        {
          "name": "stdout",
          "output_type": "stream",
          "text": [
            "Fitting 5 folds for each of 108 candidates, totalling 540 fits\n",
            "DT - Best parameters set found:\n",
            "{'criterion': 'gini', 'max_depth': None, 'max_features': 'log2', 'min_samples_leaf': 4, 'min_samples_split': 4}\n",
            "DT - Best accuraccy score found:\n",
            "0.8286381746158797\n"
          ]
        }
      ],
      "source": [
        "before_classification(test_size=0.2, train_size=0.8, random_state=0, shuffle=True, balancing=None)\n",
        "best_score_dt, best_dt = build_decision_tree(X_dev, y_dev)"
      ]
    },
    {
      "cell_type": "code",
      "execution_count": null,
      "metadata": {
        "colab": {
          "base_uri": "https://localhost:8080/"
        },
        "id": "AmNf0oDjBzeM",
        "outputId": "45b8bdfa-fbd3-4d70-f924-c43edd86b356"
      },
      "outputs": [
        {
          "name": "stdout",
          "output_type": "stream",
          "text": [
            "Accuracy: 90.8829%\n",
            "              precision    recall  f1-score   support\n",
            "\n",
            "  Not Killed       0.93      0.96      0.94     56823\n",
            "      Killed       0.84      0.75      0.79     17225\n",
            "\n",
            "    accuracy                           0.91     74048\n",
            "   macro avg       0.88      0.85      0.87     74048\n",
            "weighted avg       0.91      0.91      0.91     74048\n",
            "\n",
            "Accuracy: 83.1740%\n",
            "              precision    recall  f1-score   support\n",
            "\n",
            "  Not Killed       0.88      0.91      0.89     14207\n",
            "      Killed       0.66      0.57      0.61      4306\n",
            "\n",
            "    accuracy                           0.83     18513\n",
            "   macro avg       0.77      0.74      0.75     18513\n",
            "weighted avg       0.83      0.83      0.83     18513\n",
            "\n"
          ]
        }
      ],
      "source": [
        "evaluate_on_dataset(best_dt, X_dev, y_dev)\n",
        "evaluate_on_dataset(best_dt, X_test, y_test)"
      ]
    },
    {
      "cell_type": "code",
      "execution_count": null,
      "metadata": {
        "colab": {
          "base_uri": "https://localhost:8080/"
        },
        "id": "LcTrzP2GCjEy",
        "outputId": "06cab1aa-d671-433b-cab4-a026e7ab6f7f"
      },
      "outputs": [
        {
          "data": {
            "text/plain": [
              "(56823, 17225)"
            ]
          },
          "execution_count": 37,
          "metadata": {},
          "output_type": "execute_result"
        }
      ],
      "source": [
        "len(y_dev[y_dev == 0]), len(y_dev[y_dev == 1])"
      ]
    },
    {
      "cell_type": "markdown",
      "metadata": {
        "id": "I74eFJ3NCp53"
      },
      "source": [
        "As we can see, in this case balancing has no significant effect on the performances of the Decision Trees."
      ]
    },
    {
      "cell_type": "markdown",
      "metadata": {
        "id": "R8T2nSz3KObO"
      },
      "source": [
        "## Classification with Random Forest"
      ]
    },
    {
      "cell_type": "code",
      "execution_count": null,
      "metadata": {
        "id": "FJfSDVpjDWjA"
      },
      "outputs": [],
      "source": [
        "# Function that finds the best random forest doing hyperparameter search through CV.\n",
        "# Retrains on the whole set at the end.\n",
        "from sklearn.ensemble import RandomForestClassifier, VotingClassifier\n",
        "def build_random_forest(X, y, cv=4, print_res=True):\n",
        "    params = [{\n",
        "    'max_depth': [5, 15, 30],\n",
        "    'max_features': ['log2', None],\n",
        "    'min_samples_leaf': [1, 2, 4],\n",
        "    'n_estimators': [32, 64]\n",
        "    }]\n",
        "    clf = GridSearchCV(RandomForestClassifier(), params, refit = True, cv=cv, scoring='accuracy', n_jobs=-1, verbose=10)\n",
        "    clf.fit(X, y)\n",
        "    if print_res:\n",
        "        print(\"RF - Best parameters set found:\")\n",
        "        print(clf.best_params_)\n",
        "        print(\"RF - Best accuraccy score found:\")\n",
        "        print(clf.best_score_)\n",
        "\n",
        "    return(clf.best_score_, clf.best_estimator_)"
      ]
    },
    {
      "cell_type": "code",
      "execution_count": null,
      "metadata": {
        "colab": {
          "base_uri": "https://localhost:8080/"
        },
        "id": "vlWkVkQzpfo6",
        "outputId": "bc575fed-d069-43e6-eca3-bb31a5882195"
      },
      "outputs": [
        {
          "name": "stdout",
          "output_type": "stream",
          "text": [
            "Fitting 4 folds for each of 36 candidates, totalling 144 fits\n"
          ]
        },
        {
          "name": "stderr",
          "output_type": "stream",
          "text": [
            "/usr/local/lib/python3.10/dist-packages/sklearn/model_selection/_search.py:909: DataConversionWarning: A column-vector y was passed when a 1d array was expected. Please change the shape of y to (n_samples,), for example using ravel().\n",
            "  self.best_estimator_.fit(X, y, **fit_params)\n"
          ]
        },
        {
          "name": "stdout",
          "output_type": "stream",
          "text": [
            "RF - Best parameters set found:\n",
            "{'max_depth': 30, 'max_features': 'log2', 'min_samples_leaf': 2, 'n_estimators': 64}\n",
            "RF - Best accuraccy score found:\n",
            "0.860901037165082\n"
          ]
        }
      ],
      "source": [
        "before_classification(test_size=0.2, train_size=0.8, random_state=0, shuffle=True, balancing='oversampling')\n",
        "best_score_rf, best_rf = build_random_forest(X_dev, y_dev)"
      ]
    },
    {
      "cell_type": "code",
      "execution_count": null,
      "metadata": {
        "colab": {
          "base_uri": "https://localhost:8080/"
        },
        "id": "zmOg9a0Xm3jk",
        "outputId": "117331f4-2143-4844-c1c3-47a2c52d7763"
      },
      "outputs": [
        {
          "name": "stdout",
          "output_type": "stream",
          "text": [
            "Accuracy: 97.3018%\n",
            "              precision    recall  f1-score   support\n",
            "\n",
            "  Not Killed       0.98      0.99      0.98     56823\n",
            "      Killed       0.96      0.92      0.94     17225\n",
            "\n",
            "    accuracy                           0.97     74048\n",
            "   macro avg       0.97      0.95      0.96     74048\n",
            "weighted avg       0.97      0.97      0.97     74048\n",
            "\n",
            "Accuracy: 86.3123%\n",
            "              precision    recall  f1-score   support\n",
            "\n",
            "  Not Killed       0.90      0.92      0.91     14207\n",
            "      Killed       0.73      0.66      0.69      4306\n",
            "\n",
            "    accuracy                           0.86     18513\n",
            "   macro avg       0.81      0.79      0.80     18513\n",
            "weighted avg       0.86      0.86      0.86     18513\n",
            "\n"
          ]
        }
      ],
      "source": [
        "evaluate_on_dataset(best_rf, X_dev, y_dev)\n",
        "evaluate_on_dataset(best_rf, X_test, y_test)"
      ]
    },
    {
      "cell_type": "markdown",
      "metadata": {
        "id": "gzDQAhQ6MknZ"
      },
      "source": [
        "Now we use **undersampling**:"
      ]
    },
    {
      "cell_type": "code",
      "execution_count": null,
      "metadata": {
        "colab": {
          "base_uri": "https://localhost:8080/"
        },
        "id": "02TTiJ7qMnVf",
        "outputId": "de827ac4-dcf0-496e-89fb-ed1df9f91ddf"
      },
      "outputs": [
        {
          "name": "stdout",
          "output_type": "stream",
          "text": [
            "Fitting 4 folds for each of 36 candidates, totalling 144 fits\n"
          ]
        },
        {
          "name": "stderr",
          "output_type": "stream",
          "text": [
            "/usr/local/lib/python3.10/dist-packages/sklearn/model_selection/_search.py:909: DataConversionWarning: A column-vector y was passed when a 1d array was expected. Please change the shape of y to (n_samples,), for example using ravel().\n",
            "  self.best_estimator_.fit(X, y, **fit_params)\n"
          ]
        },
        {
          "name": "stdout",
          "output_type": "stream",
          "text": [
            "RF - Best parameters set found:\n",
            "{'max_depth': 30, 'max_features': 'log2', 'min_samples_leaf': 2, 'n_estimators': 64}\n",
            "RF - Best accuraccy score found:\n",
            "0.8601717804667244\n"
          ]
        }
      ],
      "source": [
        "before_classification(test_size=0.2, train_size=0.8, random_state=0, shuffle=True, balancing='undersampling')\n",
        "best_score_rf, best_rf = build_random_forest(X_dev, y_dev)"
      ]
    },
    {
      "cell_type": "code",
      "execution_count": null,
      "metadata": {
        "colab": {
          "base_uri": "https://localhost:8080/"
        },
        "id": "7v_Xn4x5MnVl",
        "outputId": "1144bcc3-123f-4172-c388-108dcfa0bd65"
      },
      "outputs": [
        {
          "name": "stdout",
          "output_type": "stream",
          "text": [
            "Accuracy: 97.2302%\n",
            "              precision    recall  f1-score   support\n",
            "\n",
            "  Not Killed       0.98      0.99      0.98     56823\n",
            "      Killed       0.96      0.92      0.94     17225\n",
            "\n",
            "    accuracy                           0.97     74048\n",
            "   macro avg       0.97      0.95      0.96     74048\n",
            "weighted avg       0.97      0.97      0.97     74048\n",
            "\n",
            "Accuracy: 86.5122%\n",
            "              precision    recall  f1-score   support\n",
            "\n",
            "  Not Killed       0.90      0.93      0.91     14207\n",
            "      Killed       0.73      0.66      0.70      4306\n",
            "\n",
            "    accuracy                           0.87     18513\n",
            "   macro avg       0.82      0.79      0.80     18513\n",
            "weighted avg       0.86      0.87      0.86     18513\n",
            "\n"
          ]
        }
      ],
      "source": [
        "evaluate_on_dataset(best_rf, X_dev, y_dev)\n",
        "evaluate_on_dataset(best_rf, X_test, y_test)"
      ]
    },
    {
      "cell_type": "markdown",
      "metadata": {
        "id": "XwV96K0BTIG_"
      },
      "source": [
        "We do now use the **unbalanced** dataset:"
      ]
    },
    {
      "cell_type": "code",
      "execution_count": null,
      "metadata": {
        "colab": {
          "base_uri": "https://localhost:8080/"
        },
        "id": "j3DkB7baTLF7",
        "outputId": "08efe8f6-2674-4308-aa94-f54ebf6ee622"
      },
      "outputs": [
        {
          "name": "stdout",
          "output_type": "stream",
          "text": [
            "Fitting 4 folds for each of 36 candidates, totalling 144 fits\n"
          ]
        },
        {
          "name": "stderr",
          "output_type": "stream",
          "text": [
            "/usr/local/lib/python3.10/dist-packages/sklearn/model_selection/_search.py:909: DataConversionWarning: A column-vector y was passed when a 1d array was expected. Please change the shape of y to (n_samples,), for example using ravel().\n",
            "  self.best_estimator_.fit(X, y, **fit_params)\n"
          ]
        },
        {
          "name": "stdout",
          "output_type": "stream",
          "text": [
            "RF - Best parameters set found:\n",
            "{'max_depth': 30, 'max_features': 'log2', 'min_samples_leaf': 2, 'n_estimators': 64}\n",
            "RF - Best accuraccy score found:\n",
            "0.8606579515989629\n"
          ]
        }
      ],
      "source": [
        "before_classification(test_size=0.2, train_size=0.8, random_state=0, shuffle=True, balancing=None)\n",
        "best_score_rf, best_rf = build_random_forest(X_dev, y_dev)"
      ]
    },
    {
      "cell_type": "code",
      "execution_count": null,
      "metadata": {
        "colab": {
          "base_uri": "https://localhost:8080/"
        },
        "id": "rAjHoTdLTLF8",
        "outputId": "04d0207e-8e63-4599-c979-231b4bdd14c8"
      },
      "outputs": [
        {
          "name": "stdout",
          "output_type": "stream",
          "text": [
            "Accuracy: 97.2153%\n",
            "              precision    recall  f1-score   support\n",
            "\n",
            "  Not Killed       0.98      0.99      0.98     56823\n",
            "      Killed       0.96      0.92      0.94     17225\n",
            "\n",
            "    accuracy                           0.97     74048\n",
            "   macro avg       0.97      0.95      0.96     74048\n",
            "weighted avg       0.97      0.97      0.97     74048\n",
            "\n",
            "Accuracy: 86.1989%\n",
            "              precision    recall  f1-score   support\n",
            "\n",
            "  Not Killed       0.90      0.92      0.91     14207\n",
            "      Killed       0.72      0.66      0.69      4306\n",
            "\n",
            "    accuracy                           0.86     18513\n",
            "   macro avg       0.81      0.79      0.80     18513\n",
            "weighted avg       0.86      0.86      0.86     18513\n",
            "\n"
          ]
        }
      ],
      "source": [
        "evaluate_on_dataset(best_rf, X_dev, y_dev)\n",
        "evaluate_on_dataset(best_rf, X_test, y_test)"
      ]
    },
    {
      "cell_type": "markdown",
      "metadata": {
        "id": "h7FYXmvPKObW"
      },
      "source": [
        "## Classification with KNN"
      ]
    },
    {
      "cell_type": "code",
      "execution_count": null,
      "metadata": {
        "id": "AY1ez7kwccMK"
      },
      "outputs": [],
      "source": [
        "from sklearn.neighbors import KNeighborsClassifier"
      ]
    },
    {
      "cell_type": "code",
      "execution_count": null,
      "metadata": {
        "id": "2aJFbriycfkt"
      },
      "outputs": [],
      "source": [
        "def knn_search(X_train, y_train, X_eval, y_eval, k_start, k_end):\n",
        "  k_list = [x for x in range(k_start, k_end)]\n",
        "  knn_list = []\n",
        "  acc_tr_list = []\n",
        "  acc_val_list = []\n",
        "\n",
        "  for k in tqdm(k_list):\n",
        "      # Create knn model\n",
        "      knn = KNeighborsClassifier(n_neighbors=k)\n",
        "      knn.fit(X_train, y_train.ravel())\n",
        "      knn_list.append(knn)\n",
        "      # Predict for train and validation sets\n",
        "      y_pred_train = knn.predict(X_train)\n",
        "      y_pred_eval = knn.predict(X_eval)\n",
        "      # Accuracy\n",
        "      acc_tr = accuracy_score(y_train, y_pred_train)\n",
        "      acc_val = accuracy_score(y_eval, y_pred_eval)\n",
        "      acc_tr_list.append(acc_tr)\n",
        "      acc_val_list.append(acc_val)\n",
        "  return knn_list, acc_tr_list, acc_val_list"
      ]
    },
    {
      "cell_type": "markdown",
      "metadata": {
        "id": "aV4UHL1nsRxy"
      },
      "source": [
        "Oversampling"
      ]
    },
    {
      "cell_type": "code",
      "execution_count": null,
      "metadata": {
        "colab": {
          "base_uri": "https://localhost:8080/"
        },
        "id": "mNr8JIMrqzty",
        "outputId": "c00f3c03-a157-42bc-aacb-ba1d2cac54ab"
      },
      "outputs": [
        {
          "name": "stderr",
          "output_type": "stream",
          "text": [
            "100%|██████████| 20/20 [10:25<00:00, 31.30s/it]\n"
          ]
        }
      ],
      "source": [
        "before_classification(test_size=0.2, train_size=0.8, random_state=0, shuffle=True, balancing='oversampling')\n",
        "knn_list, acc_tr_list, acc_val_list = knn_search(X_train, y_train, X_eval, y_eval, 1, 21)"
      ]
    },
    {
      "cell_type": "code",
      "execution_count": null,
      "metadata": {
        "colab": {
          "base_uri": "https://localhost:8080/"
        },
        "id": "uiThtwKKkT5u",
        "outputId": "4e8fd8fb-15db-46f0-c64f-0861f4dd6914"
      },
      "outputs": [
        {
          "name": "stdout",
          "output_type": "stream",
          "text": [
            "K = 1\n",
            "\tTraining Accuracy: 100.0000%\n",
            "\tValidation Accuracy: 100.0000%\n",
            "\tTest Accuracy: 76.7407%\n",
            "K = 2\n",
            "\tTraining Accuracy: 98.5910%\n",
            "\tValidation Accuracy: 98.5910%\n",
            "\tTest Accuracy: 76.7407%\n",
            "K = 3\n",
            "\tTraining Accuracy: 93.3257%\n",
            "\tValidation Accuracy: 93.3257%\n",
            "\tTest Accuracy: 76.7407%\n",
            "K = 4\n",
            "\tTraining Accuracy: 92.0179%\n",
            "\tValidation Accuracy: 92.0179%\n",
            "\tTest Accuracy: 76.7407%\n",
            "K = 5\n",
            "\tTraining Accuracy: 89.8907%\n",
            "\tValidation Accuracy: 89.8907%\n",
            "\tTest Accuracy: 76.7407%\n",
            "K = 6\n",
            "\tTraining Accuracy: 89.0437%\n",
            "\tValidation Accuracy: 89.0437%\n",
            "\tTest Accuracy: 76.7407%\n",
            "K = 7\n",
            "\tTraining Accuracy: 88.0912%\n",
            "\tValidation Accuracy: 88.0912%\n",
            "\tTest Accuracy: 76.7407%\n",
            "K = 8\n",
            "\tTraining Accuracy: 87.5962%\n",
            "\tValidation Accuracy: 87.5962%\n",
            "\tTest Accuracy: 76.7407%\n",
            "K = 9\n",
            "\tTraining Accuracy: 87.0551%\n",
            "\tValidation Accuracy: 87.0551%\n",
            "\tTest Accuracy: 76.7407%\n",
            "K = 10\n",
            "\tTraining Accuracy: 86.6910%\n",
            "\tValidation Accuracy: 86.6910%\n",
            "\tTest Accuracy: 76.7407%\n",
            "K = 11\n",
            "\tTraining Accuracy: 86.3126%\n",
            "\tValidation Accuracy: 86.3126%\n",
            "\tTest Accuracy: 76.7407%\n",
            "K = 12\n",
            "\tTraining Accuracy: 85.9783%\n",
            "\tValidation Accuracy: 85.9783%\n",
            "\tTest Accuracy: 76.7407%\n",
            "K = 13\n",
            "\tTraining Accuracy: 85.6857%\n",
            "\tValidation Accuracy: 85.6857%\n",
            "\tTest Accuracy: 76.7407%\n",
            "K = 14\n",
            "\tTraining Accuracy: 85.4789%\n",
            "\tValidation Accuracy: 85.4789%\n",
            "\tTest Accuracy: 76.7407%\n",
            "K = 15\n",
            "\tTraining Accuracy: 85.2941%\n",
            "\tValidation Accuracy: 85.2941%\n",
            "\tTest Accuracy: 76.7407%\n",
            "K = 16\n",
            "\tTraining Accuracy: 85.1478%\n",
            "\tValidation Accuracy: 85.1478%\n",
            "\tTest Accuracy: 76.7407%\n",
            "K = 17\n",
            "\tTraining Accuracy: 84.9300%\n",
            "\tValidation Accuracy: 84.9300%\n",
            "\tTest Accuracy: 76.7407%\n",
            "K = 18\n",
            "\tTraining Accuracy: 84.7354%\n",
            "\tValidation Accuracy: 84.7354%\n",
            "\tTest Accuracy: 76.7407%\n",
            "K = 19\n",
            "\tTraining Accuracy: 84.6232%\n",
            "\tValidation Accuracy: 84.6232%\n",
            "\tTest Accuracy: 76.7407%\n",
            "K = 20\n",
            "\tTraining Accuracy: 84.4824%\n",
            "\tValidation Accuracy: 84.4824%\n",
            "\tTest Accuracy: 76.7407%\n"
          ]
        }
      ],
      "source": [
        "for k in range(1, 21):\n",
        "  print(f\"K = {k}\")\n",
        "  print(f\"\\tTraining Accuracy: {100*acc_tr_list[k-1]:.4f}%\")\n",
        "  print(f\"\\tValidation Accuracy: {100*acc_tr_list[k-1]:.4f}%\")\n",
        "  y_pred_test = knn_list[k-1].predict(X_test)\n",
        "  acc = accuracy_score(y_test, y_pred_test)\n",
        "  print(f\"\\tTest Accuracy: {100*acc:.4f}%\")"
      ]
    },
    {
      "cell_type": "markdown",
      "metadata": {
        "id": "W3pePy73sWtW"
      },
      "source": []
    },
    {
      "cell_type": "code",
      "execution_count": null,
      "metadata": {
        "colab": {
          "base_uri": "https://localhost:8080/"
        },
        "id": "il6f8S3BsYVQ",
        "outputId": "3a0624e2-8986-4dd3-d267-5801bbbde14f"
      },
      "outputs": [
        {
          "name": "stderr",
          "output_type": "stream",
          "text": [
            "100%|██████████| 20/20 [02:05<00:00,  6.28s/it]\n"
          ]
        }
      ],
      "source": [
        "before_classification(test_size=0.2, train_size=0.8, random_state=0, shuffle=True, balancing='undersampling')\n",
        "knn_list, acc_tr_list, acc_val_list = knn_search(X_train, y_train, X_eval, y_eval, 1, 21)"
      ]
    },
    {
      "cell_type": "code",
      "execution_count": null,
      "metadata": {
        "colab": {
          "base_uri": "https://localhost:8080/"
        },
        "id": "bPIyojGWsYVV",
        "outputId": "ce1a4bae-7fc5-4d82-88e0-b4b00ffdf238"
      },
      "outputs": [
        {
          "name": "stdout",
          "output_type": "stream",
          "text": [
            "K = 1\n",
            "\tTraining Accuracy: 100.0000%\n",
            "\tValidation Accuracy: 100.0000%\n",
            "\tTest Accuracy: 76.7407%\n",
            "K = 2\n",
            "\tTraining Accuracy: 88.4144%\n",
            "\tValidation Accuracy: 88.4144%\n",
            "\tTest Accuracy: 76.7407%\n",
            "K = 3\n",
            "\tTraining Accuracy: 88.6684%\n",
            "\tValidation Accuracy: 88.6684%\n",
            "\tTest Accuracy: 76.7191%\n",
            "K = 4\n",
            "\tTraining Accuracy: 86.4768%\n",
            "\tValidation Accuracy: 86.4768%\n",
            "\tTest Accuracy: 76.7407%\n",
            "K = 5\n",
            "\tTraining Accuracy: 86.1756%\n",
            "\tValidation Accuracy: 86.1756%\n",
            "\tTest Accuracy: 75.7468%\n",
            "K = 6\n",
            "\tTraining Accuracy: 85.1814%\n",
            "\tValidation Accuracy: 85.1814%\n",
            "\tTest Accuracy: 76.7083%\n",
            "K = 7\n",
            "\tTraining Accuracy: 85.1234%\n",
            "\tValidation Accuracy: 85.1234%\n",
            "\tTest Accuracy: 38.0273%\n",
            "K = 8\n",
            "\tTraining Accuracy: 84.4594%\n",
            "\tValidation Accuracy: 84.4594%\n",
            "\tTest Accuracy: 42.5917%\n",
            "K = 9\n",
            "\tTraining Accuracy: 84.4448%\n",
            "\tValidation Accuracy: 84.4448%\n",
            "\tTest Accuracy: 31.7615%\n",
            "K = 10\n",
            "\tTraining Accuracy: 84.1509%\n",
            "\tValidation Accuracy: 84.1509%\n",
            "\tTest Accuracy: 35.9693%\n",
            "K = 11\n",
            "\tTraining Accuracy: 83.9514%\n",
            "\tValidation Accuracy: 83.9514%\n",
            "\tTest Accuracy: 24.8096%\n",
            "K = 12\n",
            "\tTraining Accuracy: 83.6974%\n",
            "\tValidation Accuracy: 83.6974%\n",
            "\tTest Accuracy: 27.2997%\n",
            "K = 13\n",
            "\tTraining Accuracy: 83.7155%\n",
            "\tValidation Accuracy: 83.7155%\n",
            "\tTest Accuracy: 23.2593%\n",
            "K = 14\n",
            "\tTraining Accuracy: 83.5196%\n",
            "\tValidation Accuracy: 83.5196%\n",
            "\tTest Accuracy: 23.3944%\n",
            "K = 15\n",
            "\tTraining Accuracy: 83.4833%\n",
            "\tValidation Accuracy: 83.4833%\n",
            "\tTest Accuracy: 23.2593%\n",
            "K = 16\n",
            "\tTraining Accuracy: 83.3345%\n",
            "\tValidation Accuracy: 83.3345%\n",
            "\tTest Accuracy: 23.2647%\n",
            "K = 17\n",
            "\tTraining Accuracy: 83.1713%\n",
            "\tValidation Accuracy: 83.1713%\n",
            "\tTest Accuracy: 23.2593%\n",
            "K = 18\n",
            "\tTraining Accuracy: 83.1350%\n",
            "\tValidation Accuracy: 83.1350%\n",
            "\tTest Accuracy: 23.2593%\n",
            "K = 19\n",
            "\tTraining Accuracy: 83.0914%\n",
            "\tValidation Accuracy: 83.0914%\n",
            "\tTest Accuracy: 23.2593%\n",
            "K = 20\n",
            "\tTraining Accuracy: 82.9935%\n",
            "\tValidation Accuracy: 82.9935%\n",
            "\tTest Accuracy: 23.2593%\n"
          ]
        }
      ],
      "source": [
        "for k in range(1, 21):\n",
        "  print(f\"K = {k}\")\n",
        "  print(f\"\\tTraining Accuracy: {100*acc_tr_list[k-1]:.4f}%\")\n",
        "  print(f\"\\tValidation Accuracy: {100*acc_tr_list[k-1]:.4f}%\")\n",
        "  y_pred_test = knn_list[k-1].predict(X_test)\n",
        "  acc = accuracy_score(y_test, y_pred_test)\n",
        "  print(f\"\\tTest Accuracy: {100*acc:.4f}%\")"
      ]
    },
    {
      "cell_type": "markdown",
      "metadata": {
        "id": "FJVvJd6exeNB"
      },
      "source": []
    },
    {
      "cell_type": "code",
      "execution_count": null,
      "metadata": {
        "colab": {
          "base_uri": "https://localhost:8080/"
        },
        "id": "ZeOGRS0Vxe4u",
        "outputId": "bc41e251-8cb9-4a43-dfd2-0237e18dc724"
      },
      "outputs": [
        {
          "name": "stderr",
          "output_type": "stream",
          "text": [
            "100%|██████████| 20/20 [06:19<00:00, 18.99s/it]\n"
          ]
        }
      ],
      "source": [
        "before_classification(test_size=0.2, train_size=0.8, random_state=0, shuffle=True, balancing=None)\n",
        "knn_list, acc_tr_list, acc_val_list = knn_search(X_train, y_train, X_eval, y_eval, 1, 21)"
      ]
    },
    {
      "cell_type": "code",
      "execution_count": null,
      "metadata": {
        "colab": {
          "base_uri": "https://localhost:8080/"
        },
        "id": "xqBulRz4xe40",
        "outputId": "fdbc6746-ed9b-4e82-8aaf-ec220add66ee"
      },
      "outputs": [
        {
          "name": "stdout",
          "output_type": "stream",
          "text": [
            "K = 1\n",
            "\tTraining Accuracy: 100.0000%\n",
            "\tValidation Accuracy: 100.0000%\n",
            "\tTest Accuracy: 76.7407%\n",
            "K = 2\n",
            "\tTraining Accuracy: 90.0807%\n",
            "\tValidation Accuracy: 90.0807%\n",
            "\tTest Accuracy: 76.7407%\n",
            "K = 3\n",
            "\tTraining Accuracy: 90.3474%\n",
            "\tValidation Accuracy: 90.3474%\n",
            "\tTest Accuracy: 76.7407%\n",
            "K = 4\n",
            "\tTraining Accuracy: 87.9739%\n",
            "\tValidation Accuracy: 87.9739%\n",
            "\tTest Accuracy: 76.7407%\n",
            "K = 5\n",
            "\tTraining Accuracy: 88.0769%\n",
            "\tValidation Accuracy: 88.0769%\n",
            "\tTest Accuracy: 76.7407%\n",
            "K = 6\n",
            "\tTraining Accuracy: 87.1113%\n",
            "\tValidation Accuracy: 87.1113%\n",
            "\tTest Accuracy: 76.7407%\n",
            "K = 7\n",
            "\tTraining Accuracy: 87.2481%\n",
            "\tValidation Accuracy: 87.2481%\n",
            "\tTest Accuracy: 76.7407%\n",
            "K = 8\n",
            "\tTraining Accuracy: 86.5255%\n",
            "\tValidation Accuracy: 86.5255%\n",
            "\tTest Accuracy: 76.7407%\n",
            "K = 9\n",
            "\tTraining Accuracy: 86.5812%\n",
            "\tValidation Accuracy: 86.5812%\n",
            "\tTest Accuracy: 76.7407%\n",
            "K = 10\n",
            "\tTraining Accuracy: 86.0512%\n",
            "\tValidation Accuracy: 86.0512%\n",
            "\tTest Accuracy: 76.7407%\n",
            "K = 11\n",
            "\tTraining Accuracy: 86.1761%\n",
            "\tValidation Accuracy: 86.1761%\n",
            "\tTest Accuracy: 76.7407%\n",
            "K = 12\n",
            "\tTraining Accuracy: 85.8199%\n",
            "\tValidation Accuracy: 85.8199%\n",
            "\tTest Accuracy: 76.7407%\n",
            "K = 13\n",
            "\tTraining Accuracy: 85.8132%\n",
            "\tValidation Accuracy: 85.8132%\n",
            "\tTest Accuracy: 76.7407%\n",
            "K = 14\n",
            "\tTraining Accuracy: 85.5262%\n",
            "\tValidation Accuracy: 85.5262%\n",
            "\tTest Accuracy: 76.7407%\n",
            "K = 15\n",
            "\tTraining Accuracy: 85.5059%\n",
            "\tValidation Accuracy: 85.5059%\n",
            "\tTest Accuracy: 76.7407%\n",
            "K = 16\n",
            "\tTraining Accuracy: 85.2915%\n",
            "\tValidation Accuracy: 85.2915%\n",
            "\tTest Accuracy: 76.7407%\n",
            "K = 17\n",
            "\tTraining Accuracy: 85.3304%\n",
            "\tValidation Accuracy: 85.3304%\n",
            "\tTest Accuracy: 76.7407%\n",
            "K = 18\n",
            "\tTraining Accuracy: 85.1092%\n",
            "\tValidation Accuracy: 85.1092%\n",
            "\tTest Accuracy: 76.7407%\n",
            "K = 19\n",
            "\tTraining Accuracy: 85.0400%\n",
            "\tValidation Accuracy: 85.0400%\n",
            "\tTest Accuracy: 76.7407%\n",
            "K = 20\n",
            "\tTraining Accuracy: 84.8594%\n",
            "\tValidation Accuracy: 84.8594%\n",
            "\tTest Accuracy: 76.7407%\n"
          ]
        }
      ],
      "source": [
        "for k in range(1, 21):\n",
        "  print(f\"K = {k}\")\n",
        "  print(f\"\\tTraining Accuracy: {100*acc_tr_list[k-1]:.4f}%\")\n",
        "  print(f\"\\tValidation Accuracy: {100*acc_tr_list[k-1]:.4f}%\")\n",
        "  y_pred_test = knn_list[k-1].predict(X_test)\n",
        "  acc = accuracy_score(y_test, y_pred_test)\n",
        "  print(f\"\\tTest Accuracy: {100*acc:.4f}%\")"
      ]
    },
    {
      "cell_type": "markdown",
      "metadata": {
        "id": "x1_tkaHwKWqy"
      },
      "source": [
        "## Classification with Naive Bayes"
      ]
    },
    {
      "cell_type": "code",
      "execution_count": null,
      "metadata": {
        "id": "Zwt6yGWP1raa"
      },
      "outputs": [],
      "source": [
        "from sklearn.naive_bayes import GaussianNB, BernoulliNB"
      ]
    },
    {
      "cell_type": "code",
      "execution_count": null,
      "metadata": {
        "id": "o0sZaPOJpR2U"
      },
      "outputs": [],
      "source": [
        "before_classification(test_size=0.2, train_size=0.8, random_state=0, shuffle=True, balancing='oversampling')"
      ]
    },
    {
      "cell_type": "code",
      "execution_count": null,
      "metadata": {
        "colab": {
          "base_uri": "https://localhost:8080/"
        },
        "id": "eUj8n0XGM3Zi",
        "outputId": "895c1de9-8d2f-4e7a-8223-8bb396b440fb"
      },
      "outputs": [
        {
          "name": "stdout",
          "output_type": "stream",
          "text": [
            "Accuracy: 77.3735%\n",
            "              precision    recall  f1-score   support\n",
            "\n",
            "  Not Killed       0.84      0.68      0.75     11365\n",
            "      Killed       0.73      0.87      0.79     11365\n",
            "\n",
            "    accuracy                           0.77     22730\n",
            "   macro avg       0.78      0.77      0.77     22730\n",
            "weighted avg       0.78      0.77      0.77     22730\n",
            "\n",
            "Accuracy: 76.7407%\n",
            "              precision    recall  f1-score   support\n",
            "\n",
            "  Not Killed       0.77      1.00      0.87     14207\n",
            "      Killed       0.00      0.00      0.00      4306\n",
            "\n",
            "    accuracy                           0.77     18513\n",
            "   macro avg       0.38      0.50      0.43     18513\n",
            "weighted avg       0.59      0.77      0.67     18513\n",
            "\n"
          ]
        },
        {
          "name": "stderr",
          "output_type": "stream",
          "text": [
            "/usr/local/lib/python3.10/dist-packages/sklearn/metrics/_classification.py:1344: UndefinedMetricWarning: Precision and F-score are ill-defined and being set to 0.0 in labels with no predicted samples. Use `zero_division` parameter to control this behavior.\n",
            "  _warn_prf(average, modifier, msg_start, len(result))\n",
            "/usr/local/lib/python3.10/dist-packages/sklearn/metrics/_classification.py:1344: UndefinedMetricWarning: Precision and F-score are ill-defined and being set to 0.0 in labels with no predicted samples. Use `zero_division` parameter to control this behavior.\n",
            "  _warn_prf(average, modifier, msg_start, len(result))\n",
            "/usr/local/lib/python3.10/dist-packages/sklearn/metrics/_classification.py:1344: UndefinedMetricWarning: Precision and F-score are ill-defined and being set to 0.0 in labels with no predicted samples. Use `zero_division` parameter to control this behavior.\n",
            "  _warn_prf(average, modifier, msg_start, len(result))\n"
          ]
        }
      ],
      "source": [
        "gnb = GaussianNB()\n",
        "gnb.fit(X_train, y_train.ravel())\n",
        "evaluate_on_dataset(gnb, X_eval, y_eval)\n",
        "evaluate_on_dataset(gnb, X_test, y_test)"
      ]
    },
    {
      "cell_type": "code",
      "execution_count": null,
      "metadata": {
        "colab": {
          "base_uri": "https://localhost:8080/"
        },
        "id": "vb6JJlwbmwZM",
        "outputId": "cefc6a93-6316-4ea3-b2b1-e4c24ddc17d5"
      },
      "outputs": [
        {
          "name": "stdout",
          "output_type": "stream",
          "text": [
            "Accuracy: 77.3735%\n",
            "              precision    recall  f1-score   support\n",
            "\n",
            "  Not Killed       0.84      0.68      0.75     11365\n",
            "      Killed       0.73      0.87      0.79     11365\n",
            "\n",
            "    accuracy                           0.77     22730\n",
            "   macro avg       0.78      0.77      0.77     22730\n",
            "weighted avg       0.78      0.77      0.77     22730\n",
            "\n",
            "Accuracy: 76.7407%\n",
            "              precision    recall  f1-score   support\n",
            "\n",
            "  Not Killed       0.77      1.00      0.87     14207\n",
            "      Killed       0.00      0.00      0.00      4306\n",
            "\n",
            "    accuracy                           0.77     18513\n",
            "   macro avg       0.38      0.50      0.43     18513\n",
            "weighted avg       0.59      0.77      0.67     18513\n",
            "\n"
          ]
        },
        {
          "name": "stderr",
          "output_type": "stream",
          "text": [
            "/usr/local/lib/python3.10/dist-packages/sklearn/metrics/_classification.py:1344: UndefinedMetricWarning: Precision and F-score are ill-defined and being set to 0.0 in labels with no predicted samples. Use `zero_division` parameter to control this behavior.\n",
            "  _warn_prf(average, modifier, msg_start, len(result))\n",
            "/usr/local/lib/python3.10/dist-packages/sklearn/metrics/_classification.py:1344: UndefinedMetricWarning: Precision and F-score are ill-defined and being set to 0.0 in labels with no predicted samples. Use `zero_division` parameter to control this behavior.\n",
            "  _warn_prf(average, modifier, msg_start, len(result))\n",
            "/usr/local/lib/python3.10/dist-packages/sklearn/metrics/_classification.py:1344: UndefinedMetricWarning: Precision and F-score are ill-defined and being set to 0.0 in labels with no predicted samples. Use `zero_division` parameter to control this behavior.\n",
            "  _warn_prf(average, modifier, msg_start, len(result))\n"
          ]
        }
      ],
      "source": [
        "bnb = BernoulliNB()\n",
        "bnb.fit(X_train, y_train.ravel())\n",
        "evaluate_on_dataset(gnb, X_eval, y_eval.ravel())\n",
        "evaluate_on_dataset(gnb, X_test, y_test.ravel())"
      ]
    },
    {
      "cell_type": "markdown",
      "metadata": {
        "id": "-J-x2Cdu3OT3"
      },
      "source": [
        "Now with undersampling:"
      ]
    },
    {
      "cell_type": "code",
      "execution_count": null,
      "metadata": {
        "id": "il5Gh5q13Lot"
      },
      "outputs": [],
      "source": [
        "before_classification(test_size=0.2, train_size=0.8, random_state=0, shuffle=True, balancing='undersampling')"
      ]
    },
    {
      "cell_type": "code",
      "execution_count": null,
      "metadata": {
        "colab": {
          "base_uri": "https://localhost:8080/"
        },
        "id": "BYw38MWY3LpM",
        "outputId": "70c4fa55-65ca-478f-d002-ab3e05579493"
      },
      "outputs": [
        {
          "name": "stdout",
          "output_type": "stream",
          "text": [
            "Accuracy: 77.4456%\n",
            "              precision    recall  f1-score   support\n",
            "\n",
            "  Not Killed       0.84      0.68      0.75      3445\n",
            "      Killed       0.73      0.87      0.79      3445\n",
            "\n",
            "    accuracy                           0.77      6890\n",
            "   macro avg       0.78      0.77      0.77      6890\n",
            "weighted avg       0.78      0.77      0.77      6890\n",
            "\n",
            "Accuracy: 76.7407%\n",
            "              precision    recall  f1-score   support\n",
            "\n",
            "  Not Killed       0.77      1.00      0.87     14207\n",
            "      Killed       0.00      0.00      0.00      4306\n",
            "\n",
            "    accuracy                           0.77     18513\n",
            "   macro avg       0.38      0.50      0.43     18513\n",
            "weighted avg       0.59      0.77      0.67     18513\n",
            "\n"
          ]
        },
        {
          "name": "stderr",
          "output_type": "stream",
          "text": [
            "/usr/local/lib/python3.10/dist-packages/sklearn/metrics/_classification.py:1344: UndefinedMetricWarning: Precision and F-score are ill-defined and being set to 0.0 in labels with no predicted samples. Use `zero_division` parameter to control this behavior.\n",
            "  _warn_prf(average, modifier, msg_start, len(result))\n",
            "/usr/local/lib/python3.10/dist-packages/sklearn/metrics/_classification.py:1344: UndefinedMetricWarning: Precision and F-score are ill-defined and being set to 0.0 in labels with no predicted samples. Use `zero_division` parameter to control this behavior.\n",
            "  _warn_prf(average, modifier, msg_start, len(result))\n",
            "/usr/local/lib/python3.10/dist-packages/sklearn/metrics/_classification.py:1344: UndefinedMetricWarning: Precision and F-score are ill-defined and being set to 0.0 in labels with no predicted samples. Use `zero_division` parameter to control this behavior.\n",
            "  _warn_prf(average, modifier, msg_start, len(result))\n"
          ]
        }
      ],
      "source": [
        "gnb = GaussianNB()\n",
        "gnb.fit(X_train, y_train.ravel())\n",
        "evaluate_on_dataset(gnb, X_eval, y_eval)\n",
        "evaluate_on_dataset(gnb, X_test, y_test)"
      ]
    },
    {
      "cell_type": "code",
      "execution_count": null,
      "metadata": {
        "colab": {
          "base_uri": "https://localhost:8080/"
        },
        "id": "-gbmFJ933LpN",
        "outputId": "ef847120-f580-429b-b08a-d2087e9c10cc"
      },
      "outputs": [
        {
          "name": "stdout",
          "output_type": "stream",
          "text": [
            "Accuracy: 77.4456%\n",
            "              precision    recall  f1-score   support\n",
            "\n",
            "  Not Killed       0.84      0.68      0.75      3445\n",
            "      Killed       0.73      0.87      0.79      3445\n",
            "\n",
            "    accuracy                           0.77      6890\n",
            "   macro avg       0.78      0.77      0.77      6890\n",
            "weighted avg       0.78      0.77      0.77      6890\n",
            "\n",
            "Accuracy: 76.7407%\n",
            "              precision    recall  f1-score   support\n",
            "\n",
            "  Not Killed       0.77      1.00      0.87     14207\n",
            "      Killed       0.00      0.00      0.00      4306\n",
            "\n",
            "    accuracy                           0.77     18513\n",
            "   macro avg       0.38      0.50      0.43     18513\n",
            "weighted avg       0.59      0.77      0.67     18513\n",
            "\n"
          ]
        },
        {
          "name": "stderr",
          "output_type": "stream",
          "text": [
            "/usr/local/lib/python3.10/dist-packages/sklearn/metrics/_classification.py:1344: UndefinedMetricWarning: Precision and F-score are ill-defined and being set to 0.0 in labels with no predicted samples. Use `zero_division` parameter to control this behavior.\n",
            "  _warn_prf(average, modifier, msg_start, len(result))\n",
            "/usr/local/lib/python3.10/dist-packages/sklearn/metrics/_classification.py:1344: UndefinedMetricWarning: Precision and F-score are ill-defined and being set to 0.0 in labels with no predicted samples. Use `zero_division` parameter to control this behavior.\n",
            "  _warn_prf(average, modifier, msg_start, len(result))\n",
            "/usr/local/lib/python3.10/dist-packages/sklearn/metrics/_classification.py:1344: UndefinedMetricWarning: Precision and F-score are ill-defined and being set to 0.0 in labels with no predicted samples. Use `zero_division` parameter to control this behavior.\n",
            "  _warn_prf(average, modifier, msg_start, len(result))\n"
          ]
        }
      ],
      "source": [
        "bnb = BernoulliNB()\n",
        "bnb.fit(X_train, y_train.ravel())\n",
        "evaluate_on_dataset(gnb, X_eval, y_eval.ravel())\n",
        "evaluate_on_dataset(gnb, X_test, y_test.ravel())"
      ]
    },
    {
      "cell_type": "markdown",
      "metadata": {
        "id": "DuRK-omN3XTM"
      },
      "source": [
        "Now without balancing:"
      ]
    },
    {
      "cell_type": "code",
      "execution_count": null,
      "metadata": {
        "id": "tttOIV2j3V7I"
      },
      "outputs": [],
      "source": [
        "before_classification(test_size=0.2, train_size=0.8, random_state=0, shuffle=True, balancing=None)"
      ]
    },
    {
      "cell_type": "code",
      "execution_count": null,
      "metadata": {
        "colab": {
          "base_uri": "https://localhost:8080/"
        },
        "id": "hwq_gwCU3V7X",
        "outputId": "66b9db32-5de7-427e-ba97-469aa0ccce4d"
      },
      "outputs": [
        {
          "name": "stdout",
          "output_type": "stream",
          "text": [
            "Accuracy: 72.7346%\n",
            "              precision    recall  f1-score   support\n",
            "\n",
            "  Not Killed       0.93      0.70      0.80     11365\n",
            "      Killed       0.45      0.82      0.58      3445\n",
            "\n",
            "    accuracy                           0.73     14810\n",
            "   macro avg       0.69      0.76      0.69     14810\n",
            "weighted avg       0.82      0.73      0.75     14810\n",
            "\n",
            "Accuracy: 76.7407%\n",
            "              precision    recall  f1-score   support\n",
            "\n",
            "  Not Killed       0.77      1.00      0.87     14207\n",
            "      Killed       0.00      0.00      0.00      4306\n",
            "\n",
            "    accuracy                           0.77     18513\n",
            "   macro avg       0.38      0.50      0.43     18513\n",
            "weighted avg       0.59      0.77      0.67     18513\n",
            "\n"
          ]
        },
        {
          "name": "stderr",
          "output_type": "stream",
          "text": [
            "/usr/local/lib/python3.10/dist-packages/sklearn/metrics/_classification.py:1344: UndefinedMetricWarning: Precision and F-score are ill-defined and being set to 0.0 in labels with no predicted samples. Use `zero_division` parameter to control this behavior.\n",
            "  _warn_prf(average, modifier, msg_start, len(result))\n",
            "/usr/local/lib/python3.10/dist-packages/sklearn/metrics/_classification.py:1344: UndefinedMetricWarning: Precision and F-score are ill-defined and being set to 0.0 in labels with no predicted samples. Use `zero_division` parameter to control this behavior.\n",
            "  _warn_prf(average, modifier, msg_start, len(result))\n",
            "/usr/local/lib/python3.10/dist-packages/sklearn/metrics/_classification.py:1344: UndefinedMetricWarning: Precision and F-score are ill-defined and being set to 0.0 in labels with no predicted samples. Use `zero_division` parameter to control this behavior.\n",
            "  _warn_prf(average, modifier, msg_start, len(result))\n"
          ]
        }
      ],
      "source": [
        "gnb = GaussianNB()\n",
        "gnb.fit(X_train, y_train.ravel())\n",
        "evaluate_on_dataset(gnb, X_eval, y_eval)\n",
        "evaluate_on_dataset(gnb, X_test, y_test)"
      ]
    },
    {
      "cell_type": "code",
      "execution_count": null,
      "metadata": {
        "colab": {
          "base_uri": "https://localhost:8080/"
        },
        "id": "FO3yhb1q3V7X",
        "outputId": "59897519-8263-4539-b8af-4ed6e45e5c6f"
      },
      "outputs": [
        {
          "name": "stdout",
          "output_type": "stream",
          "text": [
            "Accuracy: 72.7346%\n",
            "              precision    recall  f1-score   support\n",
            "\n",
            "  Not Killed       0.93      0.70      0.80     11365\n",
            "      Killed       0.45      0.82      0.58      3445\n",
            "\n",
            "    accuracy                           0.73     14810\n",
            "   macro avg       0.69      0.76      0.69     14810\n",
            "weighted avg       0.82      0.73      0.75     14810\n",
            "\n",
            "Accuracy: 76.7407%\n",
            "              precision    recall  f1-score   support\n",
            "\n",
            "  Not Killed       0.77      1.00      0.87     14207\n",
            "      Killed       0.00      0.00      0.00      4306\n",
            "\n",
            "    accuracy                           0.77     18513\n",
            "   macro avg       0.38      0.50      0.43     18513\n",
            "weighted avg       0.59      0.77      0.67     18513\n",
            "\n"
          ]
        },
        {
          "name": "stderr",
          "output_type": "stream",
          "text": [
            "/usr/local/lib/python3.10/dist-packages/sklearn/metrics/_classification.py:1344: UndefinedMetricWarning: Precision and F-score are ill-defined and being set to 0.0 in labels with no predicted samples. Use `zero_division` parameter to control this behavior.\n",
            "  _warn_prf(average, modifier, msg_start, len(result))\n",
            "/usr/local/lib/python3.10/dist-packages/sklearn/metrics/_classification.py:1344: UndefinedMetricWarning: Precision and F-score are ill-defined and being set to 0.0 in labels with no predicted samples. Use `zero_division` parameter to control this behavior.\n",
            "  _warn_prf(average, modifier, msg_start, len(result))\n",
            "/usr/local/lib/python3.10/dist-packages/sklearn/metrics/_classification.py:1344: UndefinedMetricWarning: Precision and F-score are ill-defined and being set to 0.0 in labels with no predicted samples. Use `zero_division` parameter to control this behavior.\n",
            "  _warn_prf(average, modifier, msg_start, len(result))\n"
          ]
        }
      ],
      "source": [
        "bnb = BernoulliNB()\n",
        "bnb.fit(X_train, y_train.ravel())\n",
        "evaluate_on_dataset(gnb, X_eval, y_eval.ravel())\n",
        "evaluate_on_dataset(gnb, X_test, y_test.ravel())"
      ]
    },
    {
      "cell_type": "markdown",
      "metadata": {
        "id": "G4Q5GiNwru0M"
      },
      "source": [
        "## Classification with SVM"
      ]
    },
    {
      "cell_type": "code",
      "execution_count": null,
      "metadata": {
        "id": "sxae0Ej33wiL",
        "ExecuteTime": {
          "end_time": "2024-01-02T15:53:56.960948600Z",
          "start_time": "2024-01-02T15:53:56.945430800Z"
        }
      },
      "outputs": [],
      "source": [
        "from sklearn.svm import SVC\n",
        "# Function that finds the best random forest doing hyperparameter search through CV.\n",
        "# Retrains on the whole set at the end.\n",
        "def build_SVM(X, y, cv=2, print_res=True):\n",
        "    params = [\n",
        "      {\"kernel\": [\"rbf\", \"linear\", \"sigmoid\"], \"gamma\": [\"scale\", \"auto\"], \"C\": [0.1, 1, 10]},\n",
        "      {\"kernel\": [\"poly\"], \"degree\": [2,3], \"gamma\": [\"scale\", \"auto\"], \"C\": [0.1, 1, 10]},\n",
        "    ]\n",
        "    clf = GridSearchCV(SVC(), params, refit = True, cv=cv, scoring='accuracy', n_jobs=8, verbose=10)\n",
        "    clf.fit(X, y)\n",
        "    if print_res:\n",
        "        print(\"SVM - Best parameters set found:\")\n",
        "        print(clf.best_params_)\n",
        "        print(\"SVM - Best accuracy score found:\")\n",
        "        print(clf.best_score_)\n",
        "    return clf.best_score_, clf.best_estimator_"
      ]
    },
    {
      "cell_type": "code",
      "execution_count": null,
      "metadata": {
        "colab": {
          "background_save": true,
          "base_uri": "https://localhost:8080/"
        },
        "id": "BZTb6bD6sCb4",
        "outputId": "533fac80-a357-4969-821d-86a77fbbb392",
        "ExecuteTime": {
          "end_time": "2024-01-02T18:06:58.616903900Z",
          "start_time": "2024-01-02T15:54:00.325078Z"
        }
      },
      "outputs": [
        {
          "name": "stdout",
          "output_type": "stream",
          "text": [
            "Fitting 2 folds for each of 30 candidates, totalling 60 fits\n"
          ]
        },
        {
          "name": "stderr",
          "output_type": "stream",
          "text": [
            "C:\\Users\\Amministratore\\Desktop\\data-mining-2023-24\\venv\\Lib\\site-packages\\sklearn\\utils\\validation.py:1183: DataConversionWarning: A column-vector y was passed when a 1d array was expected. Please change the shape of y to (n_samples, ), for example using ravel().\n",
            "  y = column_or_1d(y, warn=True)\n"
          ]
        },
        {
          "name": "stdout",
          "output_type": "stream",
          "text": [
            "SVM - Best parameters set found:\n",
            "{'C': 10, 'gamma': 'auto', 'kernel': 'rbf'}\n",
            "SVM - Best accuracy score found:\n",
            "0.8129726663785652\n"
          ]
        }
      ],
      "source": [
        "before_classification(test_size=0.2, train_size=0.8, random_state=0, shuffle=True, balancing='oversampling')\n",
        "best_score_svm, best_svm = build_SVM(X_dev, y_dev)"
      ]
    },
    {
      "cell_type": "code",
      "execution_count": null,
      "metadata": {
        "id": "NXhELUHcsFjT",
        "ExecuteTime": {
          "end_time": "2024-01-02T18:53:06.416593900Z",
          "start_time": "2024-01-02T18:49:29.534961900Z"
        },
        "outputId": "d3866185-3723-4e54-8c73-2b5703177502"
      },
      "outputs": [
        {
          "name": "stdout",
          "output_type": "stream",
          "text": [
            "Accuracy: 85.9767%\n",
            "              precision    recall  f1-score   support\n",
            "\n",
            "  Not Killed       0.89      0.93      0.91     56823\n",
            "      Killed       0.73      0.64      0.68     17225\n",
            "\n",
            "    accuracy                           0.86     74048\n",
            "   macro avg       0.81      0.78      0.79     74048\n",
            "weighted avg       0.85      0.86      0.86     74048\n",
            "\n",
            "Accuracy: 81.9640%\n",
            "              precision    recall  f1-score   support\n",
            "\n",
            "  Not Killed       0.87      0.90      0.89     14207\n",
            "      Killed       0.63      0.54      0.58      4306\n",
            "\n",
            "    accuracy                           0.82     18513\n",
            "   macro avg       0.75      0.72      0.73     18513\n",
            "weighted avg       0.81      0.82      0.81     18513\n",
            "\n"
          ]
        }
      ],
      "source": [
        "evaluate_on_dataset(best_svm, X_dev, y_dev.ravel())\n",
        "evaluate_on_dataset(best_svm, X_test, y_test.ravel())"
      ]
    },
    {
      "cell_type": "markdown",
      "metadata": {
        "id": "KaJGs3NLhOGB"
      },
      "source": [
        "## Classification with Rule-Based Classifiers"
      ]
    },
    {
      "cell_type": "code",
      "execution_count": null,
      "metadata": {
        "id": "4WHigCaThjlO"
      },
      "outputs": [],
      "source": [
        "!pip install wittgenstein"
      ]
    },
    {
      "cell_type": "code",
      "execution_count": null,
      "metadata": {
        "id": "_roNfC57kWIE"
      },
      "outputs": [],
      "source": [
        "before_classification(test_size=0.2, train_size=0.8, random_state=0, shuffle=True, balancing='oversampling')"
      ]
    },
    {
      "cell_type": "code",
      "execution_count": null,
      "metadata": {
        "id": "JeuD8vTjhrVu"
      },
      "outputs": [],
      "source": [
        "import wittgenstein as lw\n",
        "ripper = lw.RIPPER()\n",
        "param_grid = {\"prune_size\": [0.5, 0.6], \"k\": [1, 3, 5]}\n",
        "grid_search = GridSearchCV(estimator=ripper, param_grid=param_grid)\n",
        "grid_search.fit(X_train, y_train)"
      ]
    },
    {
      "cell_type": "code",
      "execution_count": null,
      "metadata": {
        "id": "DD7isglujRq0"
      },
      "outputs": [],
      "source": [
        "print('Best parameters setting ', grid_search.cv_results_['params'][0])"
      ]
    },
    {
      "cell_type": "code",
      "execution_count": null,
      "metadata": {
        "id": "auyl0WHefuNz"
      },
      "outputs": [],
      "source": [
        "#define and fit the rule-based model\n",
        "#this function requires only one dataset with the labels.\n",
        "#To do so, we concatenate the train_set and the train_label\n",
        "import wittgenstein as lw\n",
        "ripper = lw.RIPPER(k=1, prune_size=0.50)\n",
        "datas = pd.concat([X_train, y_train], axis=1)\n",
        "ripper.fit(datas, class_feat='label_num', pos_class=1)"
      ]
    },
    {
      "cell_type": "code",
      "execution_count": null,
      "metadata": {
        "id": "JemkJeM-hNhF"
      },
      "outputs": [],
      "source": [
        "ripper.out_model()"
      ]
    },
    {
      "cell_type": "code",
      "execution_count": null,
      "metadata": {
        "id": "qgNx2bCKhR5P"
      },
      "outputs": [],
      "source": [
        "ripper.predict(test_set)"
      ]
    },
    {
      "cell_type": "code",
      "execution_count": null,
      "metadata": {
        "id": "Y79gEPVGhUmW"
      },
      "outputs": [],
      "source": [
        "from sklearn.metrics import precision_score, recall_score\n",
        "print('Accuracy ', ripper.score(test_set, test_label))\n",
        "print('Precision ', ripper.score(test_set, test_label, precision_score))\n",
        "print('Recall ', ripper.score(test_set, test_label, recall_score))"
      ]
    },
    {
      "cell_type": "code",
      "execution_count": null,
      "metadata": {
        "id": "bYnPzNJdhXAQ"
      },
      "outputs": [],
      "source": [
        "ripper.predict(test_set[:15], give_reasons=True)"
      ]
    },
    {
      "cell_type": "markdown",
      "metadata": {
        "id": "wTOHRu0gdQvM"
      },
      "source": [
        "## Classification with NN"
      ]
    },
    {
      "cell_type": "code",
      "source": [
        "# Function that builds a NN from a list configuration containing layer neurons\n",
        "def build_nn(layers_config, input_dim):\n",
        "    model = Sequential()\n",
        "\n",
        "    for i, layer_neurons in enumerate(layers_config):\n",
        "        # Add hidden layers with the current number of neurons\n",
        "        if i==0: # First layer\n",
        "            model.add(Dense(layer_neurons, activation='relu', input_dim=input_dim))\n",
        "        else:\n",
        "            model.add(Dropout(.2))\n",
        "            model.add(Dense(layer_neurons, activation='relu', input_dim=layers_config[i-1]))\n",
        "\n",
        "    # Add the output layer\n",
        "    model.add(Dense(1, activation='sigmoid'))\n",
        "\n",
        "    # Compile the model\n",
        "    model.compile(loss='binary_crossentropy', optimizer='adam', metrics=['accuracy'])\n",
        "\n",
        "    return model"
      ],
      "metadata": {
        "id": "cZloSJLTclBZ"
      },
      "execution_count": 28,
      "outputs": []
    },
    {
      "cell_type": "code",
      "source": [
        "def train_and_evaluate(layers_config):\n",
        "  model = build_nn(layers_config, X_train.shape[-1])\n",
        "  # Add early stopping that checks val loss\n",
        "  earlystopping = tf.keras.callbacks.EarlyStopping(monitor =\"val_loss\", mode =\"min\", patience=5, restore_best_weights=True)\n",
        "  history = model.fit(X_train, y_train, epochs=20, batch_size=64, validation_data=(X_eval, y_eval))\n",
        "  test_loss, test_accuracy = model.evaluate(X_test, y_test)\n",
        "  return (history.history['accuracy'][-1], history.history['val_accuracy'][-1]), (test_loss, test_accuracy)"
      ],
      "metadata": {
        "id": "Fe3Z70IcdN7v"
      },
      "execution_count": 29,
      "outputs": []
    },
    {
      "cell_type": "code",
      "execution_count": 33,
      "outputs": [],
      "source": [
        "before_classification(test_size=0.2, train_size=0.8, random_state=0, shuffle=True, balancing='oversampling')"
      ],
      "metadata": {
        "id": "ghiB-YWyGkWV"
      }
    },
    {
      "cell_type": "code",
      "source": [
        "layers_configs = [[16, 16], [32, 16], [32, 32], [64, 32], [64, 64], [64, 64, 64]]\n",
        "nn_oversampling_raw_results = Parallel(n_jobs=os.cpu_count())(delayed(train_and_evaluate)(config) for config in layers_configs)\n",
        "\n",
        "nn_oversampling_results = [{'train_val': item[0], 'test': item[1]} for item in nn_oversampling_raw_results]\n",
        "\n",
        "for config, results in zip(layers_configs, nn_oversampling_results):\n",
        "  train_acc, eval_acc, test_acc = results['train_val'][0], results['train_val'][1], results['test'][1]\n",
        "  print(f\"Model {config}: train accuracy = {100*train_acc:.4f}%, validation accuracy = {100*eval_acc:.4f}%, test accuracy = {100*test_acc:.4f}%\")"
      ],
      "metadata": {
        "colab": {
          "base_uri": "https://localhost:8080/"
        },
        "id": "uGlfn86ChfvJ",
        "outputId": "7380c0d2-f5fe-49cb-e5c3-3d3e4296ff6a"
      },
      "execution_count": 38,
      "outputs": [
        {
          "output_type": "stream",
          "name": "stdout",
          "text": [
            "Model [16, 16]: train accuracy = 81.0836%, validation accuracy = 81.7378%, test accuracy = 76.7407%\n",
            "Model [32, 16]: train accuracy = 81.8294%, validation accuracy = 82.3537%, test accuracy = 76.7407%\n",
            "Model [32, 32]: train accuracy = 82.0527%, validation accuracy = 82.3405%, test accuracy = 76.7407%\n",
            "Model [64, 32]: train accuracy = 82.6477%, validation accuracy = 82.5649%, test accuracy = 57.4299%\n",
            "Model [64, 64]: train accuracy = 82.8479%, validation accuracy = 83.0532%, test accuracy = 76.7731%\n",
            "Model [64, 64, 64]: train accuracy = 82.4915%, validation accuracy = 82.9168%, test accuracy = 76.7407%\n"
          ]
        }
      ]
    },
    {
      "cell_type": "markdown",
      "source": [],
      "metadata": {
        "id": "l-Ge51Gn8Zg6"
      }
    },
    {
      "cell_type": "code",
      "execution_count": 30,
      "outputs": [],
      "source": [
        "before_classification(test_size=0.2, train_size=0.8, random_state=0, shuffle=True, balancing='undersampling')"
      ],
      "metadata": {
        "id": "2Wv3CvjA8aGt"
      }
    },
    {
      "cell_type": "code",
      "source": [
        "layers_configs = [[16, 16], [32, 16], [32, 32], [64, 32], [64, 64], [64, 64, 64]]\n",
        "nn_undersampling_raw_results = Parallel(n_jobs=os.cpu_count())(delayed(train_and_evaluate)(config) for config in layers_configs)\n",
        "\n",
        "nn_undersampling_results = [{'train_val': item[0], 'test': item[1]} for item in nn_undersampling_raw_results]\n",
        "\n",
        "for config, results in zip(layers_configs, nn_undersampling_results):\n",
        "  train_acc, eval_acc, test_acc = results['train_val'][0], results['train_val'][1], results['test'][1]\n",
        "  print(f\"Model {config}: train accuracy = {100*train_acc:.4f}%, validation accuracy = {100*eval_acc:.4f}%, test accuracy = {100*test_acc:.4f}%\")"
      ],
      "metadata": {
        "colab": {
          "base_uri": "https://localhost:8080/"
        },
        "outputId": "b0865ad5-4d12-46c7-e566-178da1b20c1b",
        "id": "Vajjm4MI8aGt"
      },
      "execution_count": 33,
      "outputs": [
        {
          "output_type": "stream",
          "name": "stdout",
          "text": [
            "Model [16, 16]: train accuracy = 80.2758%, validation accuracy = 80.5370%, test accuracy = 76.7407%\n",
            "Model [32, 16]: train accuracy = 81.3280%, validation accuracy = 81.2337%, test accuracy = 76.7407%\n",
            "Model [32, 32]: train accuracy = 81.4042%, validation accuracy = 80.7402%, test accuracy = 76.7407%\n",
            "Model [64, 32]: train accuracy = 81.7054%, validation accuracy = 81.3933%, test accuracy = 76.7407%\n",
            "Model [64, 64]: train accuracy = 81.8505%, validation accuracy = 81.6546%, test accuracy = 76.7407%\n",
            "Model [64, 64, 64]: train accuracy = 81.9702%, validation accuracy = 81.4804%, test accuracy = 76.7407%\n"
          ]
        }
      ]
    },
    {
      "cell_type": "markdown",
      "source": [],
      "metadata": {
        "id": "N5vQVzBXE2t4"
      }
    },
    {
      "cell_type": "code",
      "execution_count": 34,
      "outputs": [],
      "source": [
        "before_classification(test_size=0.2, train_size=0.8, random_state=0, shuffle=True, balancing=None)"
      ],
      "metadata": {
        "id": "ja92N_qwE2-t"
      }
    },
    {
      "cell_type": "code",
      "source": [
        "layers_configs = [[16, 16], [32, 16], [32, 32], [64, 32], [64, 64], [64, 64, 64]]\n",
        "nn_raw_results = Parallel(n_jobs=os.cpu_count())(delayed(train_and_evaluate)(config) for config in layers_configs)\n",
        "\n",
        "nn_results = [{'train_val': item[0], 'test': item[1]} for item in nn_raw_results]\n",
        "\n",
        "for config, results in zip(layers_configs, nn_results):\n",
        "  train_acc, eval_acc, test_acc = results['train_val'][0], results['train_val'][1], results['test'][1]\n",
        "  print(f\"Model {config}: train accuracy = {100*train_acc:.4f}%, validation accuracy = {100*eval_acc:.4f}%, test accuracy = {100*test_acc:.4f}%\")"
      ],
      "metadata": {
        "colab": {
          "base_uri": "https://localhost:8080/"
        },
        "outputId": "c350e246-8eed-4e71-a62a-a9e5124d4695",
        "id": "fv_1o5aBE2-u"
      },
      "execution_count": 35,
      "outputs": [
        {
          "output_type": "stream",
          "name": "stdout",
          "text": [
            "Model [16, 16]: train accuracy = 81.3785%, validation accuracy = 81.6813%, test accuracy = 76.7407%\n",
            "Model [32, 16]: train accuracy = 82.3559%, validation accuracy = 81.9581%, test accuracy = 76.7407%\n",
            "Model [32, 32]: train accuracy = 82.6311%, validation accuracy = 82.6199%, test accuracy = 76.7407%\n",
            "Model [64, 32]: train accuracy = 83.2253%, validation accuracy = 83.4639%, test accuracy = 76.7407%\n",
            "Model [64, 64]: train accuracy = 83.2709%, validation accuracy = 83.2546%, test accuracy = 76.7407%\n",
            "Model [64, 64, 64]: train accuracy = 83.1510%, validation accuracy = 83.1600%, test accuracy = 76.7407%\n"
          ]
        }
      ]
    },
    {
      "cell_type": "markdown",
      "source": [
        "Model [64, 64]: train accuracy = 82.8479%, validation accuracy = 83.0532%, test accuracy = 76.7731%\n",
        "\n",
        "Model [64, 64]: train accuracy = 81.8505%, validation accuracy = 81.6546%, test accuracy = 76.7407%\n",
        "\n",
        "Model [64, 64]: train accuracy = 83.2709%, validation accuracy = 83.2546%, test accuracy = 76.7407%"
      ],
      "metadata": {
        "id": "RP-z1jjzTCOf"
      }
    },
    {
      "cell_type": "code",
      "source": [
        "def train_and_evaluate_on_dev(layers_config):\n",
        "  model = build_nn(layers_config, X_train.shape[-1])\n",
        "  # Add early stopping that checks val loss\n",
        "  earlystopping = tf.keras.callbacks.EarlyStopping(monitor =\"loss\", mode =\"min\", patience=2, restore_best_weights=True)\n",
        "  history = model.fit(X_dev, y_dev, epochs=20, batch_size=64)\n",
        "  test_loss, test_accuracy = model.evaluate(X_test, y_test)\n",
        "  train_predicted = (model.predict(X_train) >= 0.5).astype(int)\n",
        "  test_predicted = (model.predict(X_test) >= 0.5).astype(int)\n",
        "  report_scores(y_train, train_predicted)\n",
        "  report_scores(y_test, test_predicted)\n",
        "  return history.history['accuracy'][-1], test_accuracy"
      ],
      "metadata": {
        "id": "c1cFwtXYUiNa"
      },
      "execution_count": 55,
      "outputs": []
    },
    {
      "cell_type": "code",
      "source": [
        "before_classification(test_size=0.2, train_size=0.8, random_state=0, shuffle=True, balancing='oversampling')\n",
        "over_train_acc, over_test_acc = train_and_evaluate_on_dev([64, 64])"
      ],
      "metadata": {
        "colab": {
          "base_uri": "https://localhost:8080/"
        },
        "id": "pafb-O1fSwu7",
        "outputId": "bf27b955-812c-42a7-c075-f346a19f0dad"
      },
      "execution_count": 56,
      "outputs": [
        {
          "output_type": "stream",
          "name": "stdout",
          "text": [
            "Epoch 1/20\n",
            "1157/1157 [==============================] - 4s 3ms/step - loss: 0.5980 - accuracy: 0.7452\n",
            "Epoch 2/20\n",
            "1157/1157 [==============================] - 4s 3ms/step - loss: 0.4378 - accuracy: 0.7696\n",
            "Epoch 3/20\n",
            "1157/1157 [==============================] - 5s 4ms/step - loss: 0.4123 - accuracy: 0.7744\n",
            "Epoch 4/20\n",
            "1157/1157 [==============================] - 4s 3ms/step - loss: 0.4036 - accuracy: 0.7788\n",
            "Epoch 5/20\n",
            "1157/1157 [==============================] - 3s 3ms/step - loss: 0.3984 - accuracy: 0.7788\n",
            "Epoch 6/20\n",
            "1157/1157 [==============================] - 3s 3ms/step - loss: 0.3944 - accuracy: 0.7830\n",
            "Epoch 7/20\n",
            "1157/1157 [==============================] - 5s 4ms/step - loss: 0.3894 - accuracy: 0.7828\n",
            "Epoch 8/20\n",
            "1157/1157 [==============================] - 4s 3ms/step - loss: 0.3870 - accuracy: 0.7839\n",
            "Epoch 9/20\n",
            "1157/1157 [==============================] - 4s 3ms/step - loss: 0.3839 - accuracy: 0.7874\n",
            "Epoch 10/20\n",
            "1157/1157 [==============================] - 3s 3ms/step - loss: 0.3827 - accuracy: 0.7850\n",
            "Epoch 11/20\n",
            "1157/1157 [==============================] - 5s 4ms/step - loss: 0.3792 - accuracy: 0.7875\n",
            "Epoch 12/20\n",
            "1157/1157 [==============================] - 4s 3ms/step - loss: 0.3806 - accuracy: 0.7863\n",
            "Epoch 13/20\n",
            "1157/1157 [==============================] - 4s 3ms/step - loss: 0.3773 - accuracy: 0.7894\n",
            "Epoch 14/20\n",
            "1157/1157 [==============================] - 3s 3ms/step - loss: 0.3762 - accuracy: 0.7877\n",
            "Epoch 15/20\n",
            "1157/1157 [==============================] - 5s 4ms/step - loss: 0.3760 - accuracy: 0.7896\n",
            "Epoch 16/20\n",
            "1157/1157 [==============================] - 4s 3ms/step - loss: 0.3742 - accuracy: 0.7900\n",
            "Epoch 17/20\n",
            "1157/1157 [==============================] - 3s 3ms/step - loss: 0.3806 - accuracy: 0.7891\n",
            "Epoch 18/20\n",
            "1157/1157 [==============================] - 3s 3ms/step - loss: 0.3815 - accuracy: 0.7899\n",
            "Epoch 19/20\n",
            "1157/1157 [==============================] - 5s 4ms/step - loss: 0.3807 - accuracy: 0.7911\n",
            "Epoch 20/20\n",
            "1157/1157 [==============================] - 4s 3ms/step - loss: 0.3796 - accuracy: 0.7911\n",
            "579/579 [==============================] - 1s 2ms/step - loss: 0.3775 - accuracy: 0.7910\n",
            "2842/2842 [==============================] - 6s 2ms/step\n",
            "579/579 [==============================] - 1s 2ms/step\n",
            "              precision    recall  f1-score   support\n",
            "\n",
            "  Not Killed       0.63      0.84      0.72     45458\n",
            "      Killed       0.76      0.50      0.60     45458\n",
            "\n",
            "    accuracy                           0.67     90916\n",
            "   macro avg       0.69      0.67      0.66     90916\n",
            "weighted avg       0.69      0.67      0.66     90916\n",
            "\n",
            "              precision    recall  f1-score   support\n",
            "\n",
            "  Not Killed       0.87      0.86      0.86     14207\n",
            "      Killed       0.55      0.57      0.56      4306\n",
            "\n",
            "    accuracy                           0.79     18513\n",
            "   macro avg       0.71      0.71      0.71     18513\n",
            "weighted avg       0.79      0.79      0.79     18513\n",
            "\n"
          ]
        }
      ]
    },
    {
      "cell_type": "code",
      "source": [
        "before_classification(test_size=0.2, train_size=0.8, random_state=0, shuffle=True, balancing='undersampling')\n",
        "under_train_acc, under_test_acc = train_and_evaluate_on_dev([64, 64])"
      ],
      "metadata": {
        "colab": {
          "base_uri": "https://localhost:8080/"
        },
        "id": "mdirFlP0VTc2",
        "outputId": "659829a3-f2d3-4a3f-d669-6199a2723266"
      },
      "execution_count": 57,
      "outputs": [
        {
          "output_type": "stream",
          "name": "stdout",
          "text": [
            "Epoch 1/20\n",
            "1157/1157 [==============================] - 4s 3ms/step - loss: 0.5943 - accuracy: 0.7450\n",
            "Epoch 2/20\n",
            "1157/1157 [==============================] - 5s 4ms/step - loss: 0.4463 - accuracy: 0.7703\n",
            "Epoch 3/20\n",
            "1157/1157 [==============================] - 4s 3ms/step - loss: 0.4211 - accuracy: 0.7747\n",
            "Epoch 4/20\n",
            "1157/1157 [==============================] - 3s 3ms/step - loss: 0.4075 - accuracy: 0.7782\n",
            "Epoch 5/20\n",
            "1157/1157 [==============================] - 3s 3ms/step - loss: 0.4006 - accuracy: 0.7807\n",
            "Epoch 6/20\n",
            "1157/1157 [==============================] - 5s 4ms/step - loss: 0.3966 - accuracy: 0.7808\n",
            "Epoch 7/20\n",
            "1157/1157 [==============================] - 4s 3ms/step - loss: 0.3948 - accuracy: 0.7837\n",
            "Epoch 8/20\n",
            "1157/1157 [==============================] - 4s 3ms/step - loss: 0.3917 - accuracy: 0.7832\n",
            "Epoch 9/20\n",
            "1157/1157 [==============================] - 3s 3ms/step - loss: 0.3907 - accuracy: 0.7840\n",
            "Epoch 10/20\n",
            "1157/1157 [==============================] - 5s 4ms/step - loss: 0.3891 - accuracy: 0.7819\n",
            "Epoch 11/20\n",
            "1157/1157 [==============================] - 4s 3ms/step - loss: 0.3887 - accuracy: 0.7833\n",
            "Epoch 12/20\n",
            "1157/1157 [==============================] - 3s 3ms/step - loss: 0.3853 - accuracy: 0.7852\n",
            "Epoch 13/20\n",
            "1157/1157 [==============================] - 4s 3ms/step - loss: 0.3817 - accuracy: 0.7834\n",
            "Epoch 14/20\n",
            "1157/1157 [==============================] - 5s 4ms/step - loss: 0.3803 - accuracy: 0.7832\n",
            "Epoch 15/20\n",
            "1157/1157 [==============================] - 4s 3ms/step - loss: 0.3821 - accuracy: 0.7813\n",
            "Epoch 16/20\n",
            "1157/1157 [==============================] - 4s 3ms/step - loss: 0.3777 - accuracy: 0.7842\n",
            "Epoch 17/20\n",
            "1157/1157 [==============================] - 4s 3ms/step - loss: 0.3757 - accuracy: 0.7824\n",
            "Epoch 18/20\n",
            "1157/1157 [==============================] - 5s 4ms/step - loss: 0.3738 - accuracy: 0.7843\n",
            "Epoch 19/20\n",
            "1157/1157 [==============================] - 3s 3ms/step - loss: 0.3720 - accuracy: 0.7838\n",
            "Epoch 20/20\n",
            "1157/1157 [==============================] - 4s 3ms/step - loss: 0.3721 - accuracy: 0.7831\n",
            "579/579 [==============================] - 2s 2ms/step - loss: 0.3634 - accuracy: 0.7852\n",
            "862/862 [==============================] - 2s 2ms/step\n",
            "579/579 [==============================] - 1s 2ms/step\n",
            "              precision    recall  f1-score   support\n",
            "\n",
            "  Not Killed       0.54      0.95      0.69     13780\n",
            "      Killed       0.78      0.19      0.31     13780\n",
            "\n",
            "    accuracy                           0.57     27560\n",
            "   macro avg       0.66      0.57      0.50     27560\n",
            "weighted avg       0.66      0.57      0.50     27560\n",
            "\n",
            "              precision    recall  f1-score   support\n",
            "\n",
            "  Not Killed       0.83      0.90      0.87     14207\n",
            "      Killed       0.55      0.40      0.46      4306\n",
            "\n",
            "    accuracy                           0.79     18513\n",
            "   macro avg       0.69      0.65      0.66     18513\n",
            "weighted avg       0.77      0.79      0.77     18513\n",
            "\n"
          ]
        }
      ]
    },
    {
      "cell_type": "code",
      "source": [
        "before_classification(test_size=0.2, train_size=0.8, random_state=0, shuffle=True, balancing=None)\n",
        "none_train_acc, none_test_acc = train_and_evaluate_on_dev([64, 64])"
      ],
      "metadata": {
        "colab": {
          "base_uri": "https://localhost:8080/"
        },
        "id": "Up7FznS2WZ1t",
        "outputId": "5c3821f5-fe64-4cf7-98ad-374a45d38b29"
      },
      "execution_count": 58,
      "outputs": [
        {
          "output_type": "stream",
          "name": "stdout",
          "text": [
            "Epoch 1/20\n",
            "1157/1157 [==============================] - 10s 5ms/step - loss: 0.6100 - accuracy: 0.7423\n",
            "Epoch 2/20\n",
            "1157/1157 [==============================] - 3s 3ms/step - loss: 0.4543 - accuracy: 0.7661\n",
            "Epoch 3/20\n",
            "1157/1157 [==============================] - 5s 4ms/step - loss: 0.4215 - accuracy: 0.7724\n",
            "Epoch 4/20\n",
            "1157/1157 [==============================] - 4s 3ms/step - loss: 0.4085 - accuracy: 0.7768\n",
            "Epoch 5/20\n",
            "1157/1157 [==============================] - 3s 3ms/step - loss: 0.4018 - accuracy: 0.7792\n",
            "Epoch 6/20\n",
            "1157/1157 [==============================] - 3s 3ms/step - loss: 0.3978 - accuracy: 0.7802\n",
            "Epoch 7/20\n",
            "1157/1157 [==============================] - 5s 4ms/step - loss: 0.3930 - accuracy: 0.7840\n",
            "Epoch 8/20\n",
            "1157/1157 [==============================] - 4s 3ms/step - loss: 0.3898 - accuracy: 0.7843\n",
            "Epoch 9/20\n",
            "1157/1157 [==============================] - 3s 3ms/step - loss: 0.3871 - accuracy: 0.7842\n",
            "Epoch 10/20\n",
            "1157/1157 [==============================] - 3s 3ms/step - loss: 0.3866 - accuracy: 0.7846\n",
            "Epoch 11/20\n",
            "1157/1157 [==============================] - 5s 4ms/step - loss: 0.3821 - accuracy: 0.7872\n",
            "Epoch 12/20\n",
            "1157/1157 [==============================] - 4s 3ms/step - loss: 0.3797 - accuracy: 0.7863\n",
            "Epoch 13/20\n",
            "1157/1157 [==============================] - 4s 3ms/step - loss: 0.3809 - accuracy: 0.7835\n",
            "Epoch 14/20\n",
            "1157/1157 [==============================] - 3s 3ms/step - loss: 0.3767 - accuracy: 0.7873\n",
            "Epoch 15/20\n",
            "1157/1157 [==============================] - 5s 4ms/step - loss: 0.3760 - accuracy: 0.7887\n",
            "Epoch 16/20\n",
            "1157/1157 [==============================] - 4s 3ms/step - loss: 0.3742 - accuracy: 0.7894\n",
            "Epoch 17/20\n",
            "1157/1157 [==============================] - 3s 3ms/step - loss: 0.3727 - accuracy: 0.7887\n",
            "Epoch 18/20\n",
            "1157/1157 [==============================] - 3s 3ms/step - loss: 0.3726 - accuracy: 0.7897\n",
            "Epoch 19/20\n",
            "1157/1157 [==============================] - 5s 4ms/step - loss: 0.3728 - accuracy: 0.7868\n",
            "Epoch 20/20\n",
            "1157/1157 [==============================] - 4s 3ms/step - loss: 0.3716 - accuracy: 0.7894\n",
            "579/579 [==============================] - 1s 2ms/step - loss: 0.3636 - accuracy: 0.7936\n",
            "1852/1852 [==============================] - 3s 2ms/step\n",
            "579/579 [==============================] - 1s 2ms/step\n",
            "              precision    recall  f1-score   support\n",
            "\n",
            "  Not Killed       0.81      0.93      0.87     45458\n",
            "      Killed       0.55      0.29      0.38     13780\n",
            "\n",
            "    accuracy                           0.78     59238\n",
            "   macro avg       0.68      0.61      0.62     59238\n",
            "weighted avg       0.75      0.78      0.75     59238\n",
            "\n",
            "              precision    recall  f1-score   support\n",
            "\n",
            "  Not Killed       0.89      0.83      0.86     14207\n",
            "      Killed       0.55      0.66      0.60      4306\n",
            "\n",
            "    accuracy                           0.79     18513\n",
            "   macro avg       0.72      0.75      0.73     18513\n",
            "weighted avg       0.81      0.79      0.80     18513\n",
            "\n"
          ]
        }
      ]
    }
  ],
  "metadata": {
    "colab": {
      "collapsed_sections": [
        "BFWgO6iqdQVd",
        "R8T2nSz3KObO",
        "h7FYXmvPKObW",
        "x1_tkaHwKWqy",
        "G4Q5GiNwru0M",
        "KaJGs3NLhOGB"
      ],
      "provenance": [],
      "gpuType": "V100",
      "include_colab_link": true
    },
    "kernelspec": {
      "name": "python3",
      "display_name": "Python 3"
    },
    "language_info": {
      "name": "python"
    },
    "accelerator": "GPU"
  },
  "nbformat": 4,
  "nbformat_minor": 0
}