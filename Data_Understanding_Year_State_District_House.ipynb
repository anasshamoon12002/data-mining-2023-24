{
  "nbformat": 4,
  "nbformat_minor": 0,
  "metadata": {
    "colab": {
      "provenance": [],
      "include_colab_link": true
    },
    "kernelspec": {
      "name": "python3",
      "display_name": "Python 3"
    },
    "language_info": {
      "name": "python"
    }
  },
  "cells": [
    {
      "cell_type": "markdown",
      "metadata": {
        "id": "view-in-github",
        "colab_type": "text"
      },
      "source": [
        "<a href=\"https://colab.research.google.com/github/anasshamoon12002/data-mining-2023-24/blob/main/Data_Understanding_Year_State_District_House.ipynb\" target=\"_parent\"><img src=\"https://colab.research.google.com/assets/colab-badge.svg\" alt=\"Open In Colab\"/></a>"
      ]
    },
    {
      "cell_type": "code",
      "source": [
        "from google.colab import drive\n",
        "drive.mount('/content/drive')"
      ],
      "metadata": {
        "colab": {
          "base_uri": "https://localhost:8080/"
        },
        "id": "6IXcxKhxb5dK",
        "outputId": "a63663cd-5093-424c-c5ec-8038b73573e9"
      },
      "execution_count": 1,
      "outputs": [
        {
          "output_type": "stream",
          "name": "stdout",
          "text": [
            "Mounted at /content/drive\n"
          ]
        }
      ]
    },
    {
      "cell_type": "markdown",
      "source": [
        "# Data Understanding"
      ],
      "metadata": {
        "collapsed": false,
        "id": "k7U5HIJvOx2J"
      }
    },
    {
      "cell_type": "markdown",
      "source": [
        "### Preliminary"
      ],
      "metadata": {
        "collapsed": false,
        "id": "RqGfnEarOx2L"
      }
    },
    {
      "cell_type": "code",
      "execution_count": 2,
      "outputs": [],
      "source": [
        "import numpy as np\n",
        "import pandas as pd\n",
        "import seaborn as sn\n",
        "import scipy.stats as stats\n",
        "import matplotlib.pyplot as plt\n",
        "from sklearn.decomposition import PCA"
      ],
      "metadata": {
        "ExecuteTime": {
          "end_time": "2023-10-29T15:11:51.930852900Z",
          "start_time": "2023-10-29T15:11:51.871182100Z"
        },
        "id": "jBX-_DxwOx2L"
      }
    },
    {
      "cell_type": "markdown",
      "source": [
        "\n",
        "\n"
      ],
      "metadata": {
        "collapsed": false,
        "id": "Z8lYnhblOx2M"
      }
    },
    {
      "cell_type": "code",
      "source": [
        "%cd \"drive/MyDrive/Colab Notebooks/data-mining-2023-24\""
      ],
      "metadata": {
        "colab": {
          "base_uri": "https://localhost:8080/"
        },
        "id": "uech9aCXW3lL",
        "outputId": "76924b3f-995c-4f33-fe87-2b03679ea8ff"
      },
      "execution_count": 3,
      "outputs": [
        {
          "output_type": "stream",
          "name": "stdout",
          "text": [
            "/content/drive/MyDrive/Colab Notebooks/data-mining-2023-24\n"
          ]
        }
      ]
    },
    {
      "cell_type": "code",
      "execution_count": 5,
      "outputs": [],
      "source": [
        "df_ysdh = pd.read_csv('data/year_state_district_house.csv')"
      ],
      "metadata": {
        "ExecuteTime": {
          "end_time": "2023-10-29T15:11:56.013757200Z",
          "start_time": "2023-10-29T15:11:53.488488Z"
        },
        "id": "w6HHEYYzOx2M"
      }
    },
    {
      "cell_type": "markdown",
      "source": [
        "# Basic Info"
      ],
      "metadata": {
        "id": "pytKN3L6uC6s"
      }
    },
    {
      "cell_type": "code",
      "source": [
        "df_ysdh.info()"
      ],
      "metadata": {
        "colab": {
          "base_uri": "https://localhost:8080/"
        },
        "id": "6PzG4Ajut6o7",
        "outputId": "142bf6ab-887c-42b7-f35f-27ed81a95c10"
      },
      "execution_count": 6,
      "outputs": [
        {
          "output_type": "stream",
          "name": "stdout",
          "text": [
            "<class 'pandas.core.frame.DataFrame'>\n",
            "RangeIndex: 10441 entries, 0 to 10440\n",
            "Data columns (total 6 columns):\n",
            " #   Column                  Non-Null Count  Dtype \n",
            "---  ------                  --------------  ----- \n",
            " 0   year                    10441 non-null  int64 \n",
            " 1   state                   10441 non-null  object\n",
            " 2   congressional_district  10441 non-null  int64 \n",
            " 3   party                   10441 non-null  object\n",
            " 4   candidatevotes          10441 non-null  int64 \n",
            " 5   totalvotes              10441 non-null  int64 \n",
            "dtypes: int64(4), object(2)\n",
            "memory usage: 489.5+ KB\n"
          ]
        }
      ]
    },
    {
      "cell_type": "markdown",
      "source": [
        "As we can see, there are **no null entries**."
      ],
      "metadata": {
        "id": "X7FJ20ZBucL6"
      }
    },
    {
      "cell_type": "code",
      "source": [
        "len(df_ysdh['state'].unique())"
      ],
      "metadata": {
        "colab": {
          "base_uri": "https://localhost:8080/"
        },
        "id": "EXv81njC4ge1",
        "outputId": "b633a81f-14e0-498e-b932-1519af20145f"
      },
      "execution_count": 17,
      "outputs": [
        {
          "output_type": "execute_result",
          "data": {
            "text/plain": [
              "51"
            ]
          },
          "metadata": {},
          "execution_count": 17
        }
      ]
    },
    {
      "cell_type": "code",
      "source": [
        "df_ysdh['state'].value_counts()"
      ],
      "metadata": {
        "colab": {
          "base_uri": "https://localhost:8080/"
        },
        "id": "06WQtvtMuY9G",
        "outputId": "2663f8ac-2dde-4539-ff59-af01a6eedae8"
      },
      "execution_count": 7,
      "outputs": [
        {
          "output_type": "execute_result",
          "data": {
            "text/plain": [
              "CALIFORNIA              1196\n",
              "NEW YORK                 748\n",
              "TEXAS                    735\n",
              "FLORIDA                  543\n",
              "PENNSYLVANIA             497\n",
              "ILLINOIS                 484\n",
              "OHIO                     454\n",
              "MICHIGAN                 385\n",
              "NEW JERSEY               317\n",
              "NORTH CAROLINA           292\n",
              "GEORGIA                  284\n",
              "VIRGINIA                 256\n",
              "MASSACHUSETTS            245\n",
              "INDIANA                  232\n",
              "TENNESSEE                213\n",
              "MISSOURI                 213\n",
              "WASHINGTON               211\n",
              "WISCONSIN                205\n",
              "MINNESOTA                192\n",
              "MARYLAND                 192\n",
              "LOUISIANA                170\n",
              "ALABAMA                  168\n",
              "ARIZONA                  161\n",
              "COLORADO                 153\n",
              "KENTUCKY                 152\n",
              "SOUTH CAROLINA           150\n",
              "CONNECTICUT              133\n",
              "OKLAHOMA                 133\n",
              "IOWA                     122\n",
              "OREGON                   118\n",
              "MISSISSIPPI              109\n",
              "KANSAS                   104\n",
              "ARKANSAS                  96\n",
              "WEST VIRGINIA             79\n",
              "UTAH                      75\n",
              "NEBRASKA                  72\n",
              "NEW MEXICO                69\n",
              "NEVADA                    62\n",
              "NEW HAMPSHIRE             48\n",
              "RHODE ISLAND              48\n",
              "MAINE                     48\n",
              "IDAHO                     48\n",
              "HAWAII                    48\n",
              "MONTANA                   33\n",
              "SOUTH DAKOTA              27\n",
              "VERMONT                   24\n",
              "NORTH DAKOTA              24\n",
              "ALASKA                    24\n",
              "DELAWARE                  24\n",
              "WYOMING                   24\n",
              "DISTRICT OF COLUMBIA       1\n",
              "Name: state, dtype: int64"
            ]
          },
          "metadata": {},
          "execution_count": 7
        }
      ]
    },
    {
      "cell_type": "code",
      "source": [
        "print(df_ysdh.describe())"
      ],
      "metadata": {
        "colab": {
          "base_uri": "https://localhost:8080/"
        },
        "id": "VoUChtivuu-f",
        "outputId": "abf53e69-a6a8-46e8-d1c6-f88b95950686"
      },
      "execution_count": 11,
      "outputs": [
        {
          "output_type": "stream",
          "name": "stdout",
          "text": [
            "               year  congressional_district  candidatevotes    totalvotes\n",
            "count  10441.000000            10441.000000    1.044100e+04  1.044100e+04\n",
            "mean    1999.002011                9.873096    1.345276e+05  2.076422e+05\n",
            "std       13.845898               10.017078    5.160721e+04  8.262643e+04\n",
            "min     1976.000000                0.000000   -1.000000e+00 -1.000000e+00\n",
            "25%     1988.000000                3.000000    1.004870e+05  1.554510e+05\n",
            "50%     2000.000000                6.000000    1.290850e+05  2.004450e+05\n",
            "75%     2012.000000               13.000000    1.653710e+05  2.555770e+05\n",
            "max     2022.000000               53.000000    1.165136e+06  2.656104e+06\n"
          ]
        }
      ]
    },
    {
      "cell_type": "code",
      "source": [
        "# Identify columns with mixed types\n",
        "mixed_type_cols = df_ysdh.applymap(type).nunique() > 1\n",
        "mixed_cols = mixed_type_cols.index[mixed_type_cols].tolist()\n",
        "\n",
        "print(\"Columns with mixed types:\", mixed_cols)\n",
        "\n",
        "# For each mixed-type column, identify the unique types\n",
        "for col in mixed_cols:\n",
        "    unique_types = df_ysdh[col].apply(type).unique()\n",
        "    print(f\"Unique types in column {col}: {unique_types}\")"
      ],
      "metadata": {
        "colab": {
          "base_uri": "https://localhost:8080/"
        },
        "id": "0-hddsqqw5Md",
        "outputId": "be9bd4c8-b4d2-4402-fc17-6c3ee0a1b6f2"
      },
      "execution_count": 12,
      "outputs": [
        {
          "output_type": "stream",
          "name": "stdout",
          "text": [
            "Columns with mixed types: []\n"
          ]
        }
      ]
    },
    {
      "cell_type": "markdown",
      "source": [
        "## Syntactic And Semantic Accuracy"
      ],
      "metadata": {
        "id": "fXvvOO50x3YH"
      }
    },
    {
      "cell_type": "markdown",
      "source": [
        "### Year"
      ],
      "metadata": {
        "id": "qROxSA1p2JZv"
      }
    },
    {
      "cell_type": "code",
      "source": [
        "condition = df_ysdh['candidatevotes'] < 1\n",
        "print(f\"Dataframe has {len(df_ysdh[condition])} entries for which 'candidatevotes < 1'.\")\n",
        "df_ysdh = df_ysdh[df_ysdh['candidatevotes'] >= 1]"
      ],
      "metadata": {
        "colab": {
          "base_uri": "https://localhost:8080/"
        },
        "id": "nYRY3KAr2KIR",
        "outputId": "a62a7631-eb82-4abe-9ad3-c96f018fb382"
      },
      "execution_count": 18,
      "outputs": [
        {
          "output_type": "stream",
          "name": "stdout",
          "text": [
            "Dataframe has 2 entries for which 'candidatevotes < 1'.\n"
          ]
        }
      ]
    },
    {
      "cell_type": "code",
      "source": [
        "condition = df_ysdh['totalvotes'] < 1\n",
        "print(f\"Dataframe has {len(df_ysdh[condition])} entries for which 'totalvotes < 1'.\")\n",
        "df_ysdh = df_ysdh[df_ysdh['totalvotes'] >= 1]"
      ],
      "metadata": {
        "colab": {
          "base_uri": "https://localhost:8080/"
        },
        "id": "7vvHdvlR26ex",
        "outputId": "ed2211fa-26bc-4d82-8771-0f26fc1def9c"
      },
      "execution_count": 19,
      "outputs": [
        {
          "output_type": "stream",
          "name": "stdout",
          "text": [
            "Dataframe has 0 entries for which 'totalvotes < 1'.\n"
          ]
        }
      ]
    },
    {
      "cell_type": "code",
      "source": [
        "df_ysdh.info()"
      ],
      "metadata": {
        "colab": {
          "base_uri": "https://localhost:8080/"
        },
        "id": "u_YuwWh05tmz",
        "outputId": "f7db2b9c-2c1f-4d06-8888-c57b7e9a638b"
      },
      "execution_count": 20,
      "outputs": [
        {
          "output_type": "stream",
          "name": "stdout",
          "text": [
            "<class 'pandas.core.frame.DataFrame'>\n",
            "Int64Index: 10439 entries, 0 to 10440\n",
            "Data columns (total 6 columns):\n",
            " #   Column                  Non-Null Count  Dtype \n",
            "---  ------                  --------------  ----- \n",
            " 0   year                    10439 non-null  int64 \n",
            " 1   state                   10439 non-null  object\n",
            " 2   congressional_district  10439 non-null  int64 \n",
            " 3   party                   10439 non-null  object\n",
            " 4   candidatevotes          10439 non-null  int64 \n",
            " 5   totalvotes              10439 non-null  int64 \n",
            "dtypes: int64(4), object(2)\n",
            "memory usage: 570.9+ KB\n"
          ]
        }
      ]
    },
    {
      "cell_type": "code",
      "source": [
        "condition = df_ysdh['totalvotes'] < df_ysdh['candidatevotes']\n",
        "print(f\"Dataframe has {len(df_ysdh[condition])} entries for which 'totalvotes < candidatevotes'.\")\n",
        "df_ysdh = df_ysdh[df_ysdh['totalvotes'] >= df_ysdh['candidatevotes']]"
      ],
      "metadata": {
        "colab": {
          "base_uri": "https://localhost:8080/"
        },
        "id": "vZOCgPM95wjQ",
        "outputId": "4b085a7b-816b-4a03-ca1f-a8f23cc9ec04"
      },
      "execution_count": 22,
      "outputs": [
        {
          "output_type": "stream",
          "name": "stdout",
          "text": [
            "Dataframe has 0 entries for which 'totalvotes < candidatevotes'.\n"
          ]
        }
      ]
    },
    {
      "cell_type": "code",
      "source": [
        "df_ysdh.info()"
      ],
      "metadata": {
        "colab": {
          "base_uri": "https://localhost:8080/"
        },
        "id": "kOq34oB06VES",
        "outputId": "df2845bd-beb6-4ad2-e955-b3e816c3b69e"
      },
      "execution_count": 23,
      "outputs": [
        {
          "output_type": "stream",
          "name": "stdout",
          "text": [
            "<class 'pandas.core.frame.DataFrame'>\n",
            "Int64Index: 10439 entries, 0 to 10440\n",
            "Data columns (total 6 columns):\n",
            " #   Column                  Non-Null Count  Dtype \n",
            "---  ------                  --------------  ----- \n",
            " 0   year                    10439 non-null  int64 \n",
            " 1   state                   10439 non-null  object\n",
            " 2   congressional_district  10439 non-null  int64 \n",
            " 3   party                   10439 non-null  object\n",
            " 4   candidatevotes          10439 non-null  int64 \n",
            " 5   totalvotes              10439 non-null  int64 \n",
            "dtypes: int64(4), object(2)\n",
            "memory usage: 570.9+ KB\n"
          ]
        }
      ]
    },
    {
      "cell_type": "code",
      "source": [],
      "metadata": {
        "id": "Bt5A5LfV6aGQ"
      },
      "execution_count": null,
      "outputs": []
    }
  ]
}