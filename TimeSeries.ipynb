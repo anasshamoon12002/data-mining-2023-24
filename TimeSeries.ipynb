{
 "cells": [
  {
   "cell_type": "code",
   "execution_count": 73,
   "metadata": {
    "ExecuteTime": {
     "end_time": "2024-01-01T22:57:46.642758854Z",
     "start_time": "2024-01-01T22:57:46.639290052Z"
    }
   },
   "outputs": [],
   "source": [
    "#Import libraries\n",
    "import numpy as np\n",
    "import pandas as pd\n",
    "import seaborn as sn\n",
    "import scipy.stats as stats\n",
    "import matplotlib.pyplot as plt\n",
    "from sklearn.decomposition import PCA\n",
    "from sklearn.linear_model import LinearRegression\n",
    "import missingno as msno\n",
    "import plotly.express as px"
   ]
  },
  {
   "cell_type": "code",
   "execution_count": 74,
   "metadata": {
    "ExecuteTime": {
     "end_time": "2024-01-01T22:57:46.707436323Z",
     "start_time": "2024-01-01T22:57:46.647417470Z"
    }
   },
   "outputs": [],
   "source": [
    "#Load data\n",
    "df = pd.read_csv('data/df_incidents_poverty_house_data_preparation_final.csv')"
   ]
  },
  {
   "cell_type": "code",
   "outputs": [
    {
     "data": {
      "text/plain": "Index(['state', 'city_or_county', 'latitude', 'longitude',\n       'avg_age_participants', 'datetime', 'males_ratio',\n       'state_congressional_district', 'povertyPercentage', 'killed_ratio',\n       'injured_ratio', 'unharmed_ratio', 'candidate_winning_ratio',\n       'males_in_month_ratio', 'killed_in_month_ratio',\n       'injured_in_month_ratio', 'unharmed_in_month_ratio'],\n      dtype='object')"
     },
     "execution_count": 75,
     "metadata": {},
     "output_type": "execute_result"
    }
   ],
   "source": [
    "#View columns\n",
    "df.columns"
   ],
   "metadata": {
    "collapsed": false,
    "ExecuteTime": {
     "end_time": "2024-01-01T22:57:46.709545876Z",
     "start_time": "2024-01-01T22:57:46.707763878Z"
    }
   },
   "execution_count": 75
  },
  {
   "cell_type": "code",
   "outputs": [
    {
     "data": {
      "text/plain": "           latitude     longitude  avg_age_participants   males_ratio  \\\ncount  16651.000000  16651.000000          16651.000000  16651.000000   \nmean      37.578831    -89.011474             30.535704      0.776875   \nstd        4.652090     12.010334             10.740324      0.391515   \nmin       25.764800   -124.224000              5.000000      0.000000   \n25%       33.741100    -90.364800             22.000000      0.666667   \n50%       38.800200    -87.614800             28.000000      1.000000   \n75%       41.680700    -81.993600             37.000000      1.000000   \nmax       48.492900    -68.798600             67.000000      1.000000   \n\n       povertyPercentage  killed_ratio  injured_ratio  unharmed_ratio  \\\ncount       16651.000000  16651.000000   16651.000000    16651.000000   \nmean           12.625656      0.185624       0.363682        0.056959   \nstd             2.870646      0.348589       0.444429        0.160943   \nmin             7.100000      0.000000       0.000000        0.000000   \n25%            10.800000      0.000000       0.000000        0.000000   \n50%            12.200000      0.000000       0.000000        0.000000   \n75%            14.200000      0.250000       1.000000        0.000000   \nmax            20.800000      1.000000       1.000000        0.666667   \n\n       candidate_winning_ratio  males_in_month_ratio  killed_in_month_ratio  \\\ncount             16651.000000          16651.000000           16651.000000   \nmean                  0.709851              0.064896               0.058707   \nstd                   0.119773              0.064326               0.125588   \nmin                   0.412840              0.000000               0.000000   \n25%                   0.619270              0.015625               0.000000   \n50%                   0.697540              0.047619               0.000000   \n75%                   0.786679              0.090909               0.040000   \nmax                   1.000000              0.333333               0.500000   \n\n       injured_in_month_ratio  unharmed_in_month_ratio  \ncount            16651.000000             16651.000000  \nmean                 0.062587                 0.030713  \nstd                  0.111554                 0.097688  \nmin                  0.000000                 0.000000  \n25%                  0.000000                 0.000000  \n50%                  0.000000                 0.000000  \n75%                  0.083333                 0.000000  \nmax                  0.500000                 0.500000  ",
      "text/html": "<div>\n<style scoped>\n    .dataframe tbody tr th:only-of-type {\n        vertical-align: middle;\n    }\n\n    .dataframe tbody tr th {\n        vertical-align: top;\n    }\n\n    .dataframe thead th {\n        text-align: right;\n    }\n</style>\n<table border=\"1\" class=\"dataframe\">\n  <thead>\n    <tr style=\"text-align: right;\">\n      <th></th>\n      <th>latitude</th>\n      <th>longitude</th>\n      <th>avg_age_participants</th>\n      <th>males_ratio</th>\n      <th>povertyPercentage</th>\n      <th>killed_ratio</th>\n      <th>injured_ratio</th>\n      <th>unharmed_ratio</th>\n      <th>candidate_winning_ratio</th>\n      <th>males_in_month_ratio</th>\n      <th>killed_in_month_ratio</th>\n      <th>injured_in_month_ratio</th>\n      <th>unharmed_in_month_ratio</th>\n    </tr>\n  </thead>\n  <tbody>\n    <tr>\n      <th>count</th>\n      <td>16651.000000</td>\n      <td>16651.000000</td>\n      <td>16651.000000</td>\n      <td>16651.000000</td>\n      <td>16651.000000</td>\n      <td>16651.000000</td>\n      <td>16651.000000</td>\n      <td>16651.000000</td>\n      <td>16651.000000</td>\n      <td>16651.000000</td>\n      <td>16651.000000</td>\n      <td>16651.000000</td>\n      <td>16651.000000</td>\n    </tr>\n    <tr>\n      <th>mean</th>\n      <td>37.578831</td>\n      <td>-89.011474</td>\n      <td>30.535704</td>\n      <td>0.776875</td>\n      <td>12.625656</td>\n      <td>0.185624</td>\n      <td>0.363682</td>\n      <td>0.056959</td>\n      <td>0.709851</td>\n      <td>0.064896</td>\n      <td>0.058707</td>\n      <td>0.062587</td>\n      <td>0.030713</td>\n    </tr>\n    <tr>\n      <th>std</th>\n      <td>4.652090</td>\n      <td>12.010334</td>\n      <td>10.740324</td>\n      <td>0.391515</td>\n      <td>2.870646</td>\n      <td>0.348589</td>\n      <td>0.444429</td>\n      <td>0.160943</td>\n      <td>0.119773</td>\n      <td>0.064326</td>\n      <td>0.125588</td>\n      <td>0.111554</td>\n      <td>0.097688</td>\n    </tr>\n    <tr>\n      <th>min</th>\n      <td>25.764800</td>\n      <td>-124.224000</td>\n      <td>5.000000</td>\n      <td>0.000000</td>\n      <td>7.100000</td>\n      <td>0.000000</td>\n      <td>0.000000</td>\n      <td>0.000000</td>\n      <td>0.412840</td>\n      <td>0.000000</td>\n      <td>0.000000</td>\n      <td>0.000000</td>\n      <td>0.000000</td>\n    </tr>\n    <tr>\n      <th>25%</th>\n      <td>33.741100</td>\n      <td>-90.364800</td>\n      <td>22.000000</td>\n      <td>0.666667</td>\n      <td>10.800000</td>\n      <td>0.000000</td>\n      <td>0.000000</td>\n      <td>0.000000</td>\n      <td>0.619270</td>\n      <td>0.015625</td>\n      <td>0.000000</td>\n      <td>0.000000</td>\n      <td>0.000000</td>\n    </tr>\n    <tr>\n      <th>50%</th>\n      <td>38.800200</td>\n      <td>-87.614800</td>\n      <td>28.000000</td>\n      <td>1.000000</td>\n      <td>12.200000</td>\n      <td>0.000000</td>\n      <td>0.000000</td>\n      <td>0.000000</td>\n      <td>0.697540</td>\n      <td>0.047619</td>\n      <td>0.000000</td>\n      <td>0.000000</td>\n      <td>0.000000</td>\n    </tr>\n    <tr>\n      <th>75%</th>\n      <td>41.680700</td>\n      <td>-81.993600</td>\n      <td>37.000000</td>\n      <td>1.000000</td>\n      <td>14.200000</td>\n      <td>0.250000</td>\n      <td>1.000000</td>\n      <td>0.000000</td>\n      <td>0.786679</td>\n      <td>0.090909</td>\n      <td>0.040000</td>\n      <td>0.083333</td>\n      <td>0.000000</td>\n    </tr>\n    <tr>\n      <th>max</th>\n      <td>48.492900</td>\n      <td>-68.798600</td>\n      <td>67.000000</td>\n      <td>1.000000</td>\n      <td>20.800000</td>\n      <td>1.000000</td>\n      <td>1.000000</td>\n      <td>0.666667</td>\n      <td>1.000000</td>\n      <td>0.333333</td>\n      <td>0.500000</td>\n      <td>0.500000</td>\n      <td>0.500000</td>\n    </tr>\n  </tbody>\n</table>\n</div>"
     },
     "execution_count": 76,
     "metadata": {},
     "output_type": "execute_result"
    }
   ],
   "source": [
    "#Describe data\n",
    "df.describe()"
   ],
   "metadata": {
    "collapsed": false,
    "ExecuteTime": {
     "end_time": "2024-01-01T22:57:46.732201795Z",
     "start_time": "2024-01-01T22:57:46.707940925Z"
    }
   },
   "execution_count": 76
  },
  {
   "cell_type": "code",
   "outputs": [],
   "source": [
    "# Convert 'datetime' column to datetime format\n",
    "df['datetime'] = pd.to_datetime(df['datetime'])"
   ],
   "metadata": {
    "collapsed": false,
    "ExecuteTime": {
     "end_time": "2024-01-01T22:57:46.769757281Z",
     "start_time": "2024-01-01T22:57:46.731945128Z"
    }
   },
   "execution_count": 77
  },
  {
   "cell_type": "code",
   "outputs": [],
   "source": [
    "#filter incidents from 2014 to 2017\n",
    "filtered_df = df[df['datetime'].dt.year.isin([2014, 2015, 2016, 2017])].copy()"
   ],
   "metadata": {
    "collapsed": false,
    "ExecuteTime": {
     "end_time": "2024-01-01T22:57:46.793261282Z",
     "start_time": "2024-01-01T22:57:46.732239928Z"
    }
   },
   "execution_count": 78
  },
  {
   "cell_type": "code",
   "outputs": [],
   "source": [
    "#Calculate incident severity score\n",
    "killed_weight = 1.5\n",
    "injured_weight = 1.0\n",
    "unharmed_weight = 0.5\n",
    "age_weight = 0.1\n",
    "poverty_weight = 0.2\n",
    "demographic_factor = 0.05\n",
    "\n",
    "# Calculating the score for each incident in the dataframe\n",
    "filtered_df.loc[:, 'score'] = ((filtered_df['killed_ratio'] * killed_weight) + \n",
    "                               (filtered_df['injured_ratio'] * injured_weight) + \n",
    "                               (filtered_df['unharmed_ratio'] * unharmed_weight)) * \\\n",
    "                               (1 + demographic_factor * (filtered_df['avg_age_participants'] * age_weight + \n",
    "                                                          filtered_df['povertyPercentage'] * poverty_weight))\n"
   ],
   "metadata": {
    "collapsed": false,
    "ExecuteTime": {
     "end_time": "2024-01-01T22:57:46.794094417Z",
     "start_time": "2024-01-01T22:57:46.770013948Z"
    }
   },
   "execution_count": 79
  },
  {
   "cell_type": "code",
   "outputs": [],
   "source": [
    "# Group by city and week of the year, then count the incidents\n",
    "# The week is extracted using isocalendar().week\n",
    "weekly_scores = filtered_df.groupby(['city_or_county', filtered_df['datetime'].dt.isocalendar().week])['score'].sum()"
   ],
   "metadata": {
    "collapsed": false,
    "ExecuteTime": {
     "end_time": "2024-01-01T22:57:46.794552855Z",
     "start_time": "2024-01-01T22:57:46.770134493Z"
    }
   },
   "execution_count": 80
  },
  {
   "cell_type": "code",
   "outputs": [],
   "source": [
    "# Convert the series to a DataFrame and reset the index\n",
    "weekly_scores_df = weekly_scores.to_frame(name='weekly_score').reset_index()"
   ],
   "metadata": {
    "collapsed": false,
    "ExecuteTime": {
     "end_time": "2024-01-01T22:57:46.868012922Z",
     "start_time": "2024-01-01T22:57:46.793715179Z"
    }
   },
   "execution_count": 81
  },
  {
   "cell_type": "code",
   "outputs": [],
   "source": [
    "# Calculate the total number of weeks in 4 years\n",
    "total_weeks = 52 * 4"
   ],
   "metadata": {
    "collapsed": false,
    "ExecuteTime": {
     "end_time": "2024-01-01T22:57:46.868555867Z",
     "start_time": "2024-01-01T22:57:46.793873509Z"
    }
   },
   "execution_count": 82
  },
  {
   "cell_type": "code",
   "outputs": [],
   "source": [
    "# Filter out cities with a low number of incident weeks\n",
    "# Keep only cities with number of weeks with incidents > 15% of total weeks\n",
    "valid_cities = weekly_scores_df.groupby('city_or_county').filter(lambda x: len(x) > total_weeks * 0.15)"
   ],
   "metadata": {
    "collapsed": false,
    "ExecuteTime": {
     "end_time": "2024-01-01T22:57:46.870242182Z",
     "start_time": "2024-01-01T22:57:46.793955084Z"
    }
   },
   "execution_count": 83
  },
  {
   "cell_type": "code",
   "outputs": [
    {
     "name": "stdout",
     "output_type": "stream",
     "text": [
      "    city_or_county  week  weekly_score\n",
      "249        Atlanta     1       3.02700\n",
      "250        Atlanta     2       3.40750\n",
      "251        Atlanta     4       1.24800\n",
      "252        Atlanta     5       3.49975\n",
      "253        Atlanta    10       3.91500\n"
     ]
    }
   ],
   "source": [
    "# Display the first few rows of the resulting DataFrame\n",
    "print(valid_cities.head())"
   ],
   "metadata": {
    "collapsed": false,
    "ExecuteTime": {
     "end_time": "2024-01-01T22:57:46.870907Z",
     "start_time": "2024-01-01T22:57:46.836466081Z"
    }
   },
   "execution_count": 84
  },
  {
   "cell_type": "code",
   "outputs": [],
   "source": [],
   "metadata": {
    "collapsed": false,
    "ExecuteTime": {
     "end_time": "2024-01-01T22:57:46.871567349Z",
     "start_time": "2024-01-01T22:57:46.836780017Z"
    }
   },
   "execution_count": 84
  },
  {
   "cell_type": "code",
   "outputs": [],
   "source": [],
   "metadata": {
    "collapsed": false,
    "ExecuteTime": {
     "end_time": "2024-01-01T22:57:46.894527286Z",
     "start_time": "2024-01-01T22:57:46.840777377Z"
    }
   },
   "execution_count": 84
  }
 ],
 "metadata": {
  "kernelspec": {
   "display_name": "Python 3",
   "language": "python",
   "name": "python3"
  },
  "language_info": {
   "codemirror_mode": {
    "name": "ipython",
    "version": 3
   },
   "file_extension": ".py",
   "mimetype": "text/x-python",
   "name": "python",
   "nbconvert_exporter": "python",
   "pygments_lexer": "ipython3",
   "version": "3.10.12"
  }
 },
 "nbformat": 4,
 "nbformat_minor": 2
}
