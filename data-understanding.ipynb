{
 "cells": [
  {
   "cell_type": "code",
   "execution_count": 101,
   "id": "initial_id",
   "metadata": {
    "collapsed": true,
    "ExecuteTime": {
     "end_time": "2023-10-14T22:12:22.144731Z",
     "start_time": "2023-10-14T22:12:22.102919Z"
    }
   },
   "outputs": [],
   "source": [
    "import pandas as pd"
   ]
  },
  {
   "cell_type": "markdown",
   "source": [
    "## Loading the data set\n",
    "Read the .csv file containing the data."
   ],
   "metadata": {
    "collapsed": false
   },
   "id": "1598ccdf1686941f"
  },
  {
   "cell_type": "code",
   "execution_count": 102,
   "outputs": [
    {
     "name": "stderr",
     "output_type": "stream",
     "text": [
      "/var/folders/bm/ffdf_xhn5dlbz18lby0lzgc00000gn/T/ipykernel_91369/2879831972.py:1: DtypeWarning: Columns (15,16,17) have mixed types. Specify dtype option on import or set low_memory=False.\n",
      "  incidents_df = pd.read_csv(\"./data/incidents.csv\")\n"
     ]
    }
   ],
   "source": [
    "incidents_df = pd.read_csv(\"./data/incidents.csv\")\n",
    "poverty_df = pd.read_csv(\"./data/povertyByStateYear.csv\")\n",
    "district_df = pd.read_csv(\"./data/year_state_district_house.csv\")"
   ],
   "metadata": {
    "collapsed": false,
    "ExecuteTime": {
     "end_time": "2023-10-14T22:12:22.856294Z",
     "start_time": "2023-10-14T22:12:22.116019Z"
    }
   },
   "id": "a726e20b31f91988"
  },
  {
   "cell_type": "code",
   "execution_count": 103,
   "outputs": [
    {
     "name": "stdout",
     "output_type": "stream",
     "text": [
      "Incidents\n",
      "         date                 state city_or_county  \\\n",
      "0  2015-05-02               Indiana   Indianapolis   \n",
      "1  2017-04-03          Pennsylvania           Kane   \n",
      "2  2016-11-05              Michigan        Detroit   \n",
      "3  2016-10-15  District of Columbia     Washington   \n",
      "4  2030-06-14          Pennsylvania     Pittsburgh   \n",
      "\n",
      "                              address  latitude  longitude  \\\n",
      "0       Lafayette Road and Pike Plaza   39.8322   -86.2492   \n",
      "1                           5647 US 6   41.6645   -78.7856   \n",
      "2   6200 Block of East McNichols Road   42.4190   -83.0393   \n",
      "3  1000 block of Bladensburg Road, NE   38.9030   -76.9820   \n",
      "4     California and Marshall Avenues   40.4621   -80.0308   \n",
      "\n",
      "   congressional_district  state_house_district  state_senate_district  \\\n",
      "0                     7.0                  94.0                   33.0   \n",
      "1                     5.0                   NaN                    NaN   \n",
      "2                    14.0                   4.0                    2.0   \n",
      "3                     1.0                   NaN                    NaN   \n",
      "4                    14.0                   NaN                    NaN   \n",
      "\n",
      "   participant_age1  ... n_males n_females n_killed n_injured n_arrested  \\\n",
      "0              19.0  ...     1.0       0.0        0         1        0.0   \n",
      "1              62.0  ...     1.0       0.0        1         0        0.0   \n",
      "2               NaN  ...     NaN       NaN        0         1        0.0   \n",
      "3               NaN  ...     1.0       0.0        0         1        0.0   \n",
      "4               NaN  ...     1.0       0.0        0         1        0.0   \n",
      "\n",
      "  n_unharmed n_participants  \\\n",
      "0        0.0            1.0   \n",
      "1        0.0            1.0   \n",
      "2        1.0            2.0   \n",
      "3        0.0            2.0   \n",
      "4        1.0            2.0   \n",
      "\n",
      "                                               notes  \\\n",
      "0  Teen wounded while walking - Security guard at...   \n",
      "1                           shot self after accident   \n",
      "2                                             1 inj.   \n",
      "3                                                NaN   \n",
      "4                                                NaN   \n",
      "\n",
      "                   incident_characteristics1  \\\n",
      "0                     Shot - Wounded/Injured   \n",
      "1  Shot - Dead (murder, accidental, suicide)   \n",
      "2                     Shot - Wounded/Injured   \n",
      "3                     Shot - Wounded/Injured   \n",
      "4                     Shot - Wounded/Injured   \n",
      "\n",
      "              incident_characteristics2  \n",
      "0                                   NaN  \n",
      "1                              Suicide^  \n",
      "2                                   NaN  \n",
      "3                                   NaN  \n",
      "4  Drive-by (car to street, car to car)  \n",
      "\n",
      "[5 rows x 28 columns]\n",
      "\n",
      "Poverty\n",
      "           state  year  povertyPercentage\n",
      "0  United States  2020               11.5\n",
      "1        Alabama  2020               14.8\n",
      "2         Alaska  2020               11.5\n",
      "3        Arizona  2020               12.1\n",
      "4       Arkansas  2020               15.8\n",
      "\n",
      "District\n",
      "   year    state  congressional_district       party  candidatevotes  \\\n",
      "0  1976  ALABAMA                       1  REPUBLICAN           98257   \n",
      "1  1976  ALABAMA                       2  REPUBLICAN           90069   \n",
      "2  1976  ALABAMA                       3    DEMOCRAT          106935   \n",
      "3  1976  ALABAMA                       4    DEMOCRAT          141490   \n",
      "4  1976  ALABAMA                       5    DEMOCRAT          113553   \n",
      "\n",
      "   totalvotes  \n",
      "0      157170  \n",
      "1      156362  \n",
      "2      108048  \n",
      "3      176022  \n",
      "4      113560  \n"
     ]
    }
   ],
   "source": [
    "print(\"Incidents\")\n",
    "print(incidents_df.head())\n",
    "print(\"\\nPoverty\")\n",
    "print(poverty_df.head())\n",
    "print(\"\\nDistrict\")\n",
    "print(district_df.head())"
   ],
   "metadata": {
    "collapsed": false,
    "ExecuteTime": {
     "end_time": "2023-10-14T22:12:22.867892Z",
     "start_time": "2023-10-14T22:12:22.860739Z"
    }
   },
   "id": "fa9176327c7c6639"
  },
  {
   "cell_type": "code",
   "execution_count": 104,
   "outputs": [
    {
     "name": "stdout",
     "output_type": "stream",
     "text": [
      "0                 INDIANA\n",
      "1            PENNSYLVANIA\n",
      "2                MICHIGAN\n",
      "3    DISTRICT OF COLUMBIA\n",
      "4            PENNSYLVANIA\n",
      "Name: state, dtype: object\n",
      "0    UNITED STATES\n",
      "1          ALABAMA\n",
      "2           ALASKA\n",
      "3          ARIZONA\n",
      "4         ARKANSAS\n",
      "Name: state, dtype: object\n",
      "0    ALABAMA\n",
      "1    ALABAMA\n",
      "2    ALABAMA\n",
      "3    ALABAMA\n",
      "4    ALABAMA\n",
      "Name: state, dtype: object\n"
     ]
    }
   ],
   "source": [
    "incidents_df.state = incidents_df.state.str.upper()\n",
    "poverty_df.state = poverty_df.state.str.upper()\n",
    "district_df.state = district_df.state.str.upper()\n",
    "\n",
    "print(incidents_df.state[0:5])\n",
    "print(poverty_df.state[0:5])\n",
    "print(district_df.state[0:5])"
   ],
   "metadata": {
    "collapsed": false,
    "ExecuteTime": {
     "end_time": "2023-10-14T22:12:22.913968Z",
     "start_time": "2023-10-14T22:12:22.869119Z"
    }
   },
   "id": "1e70bfc6d3d9826f"
  },
  {
   "cell_type": "code",
   "execution_count": 105,
   "outputs": [
    {
     "name": "stdout",
     "output_type": "stream",
     "text": [
      "['INDIANA' 'PENNSYLVANIA' 'MICHIGAN' 'DISTRICT OF COLUMBIA'\n",
      " 'NORTH CAROLINA' 'LOUISIANA' 'CONNECTICUT' 'VIRGINIA' 'OKLAHOMA'\n",
      " 'NEW YORK' 'MISSOURI' 'CALIFORNIA' 'TEXAS' 'ILLINOIS' 'OHIO' 'WASHINGTON'\n",
      " 'FLORIDA' 'SOUTH CAROLINA' 'GEORGIA' 'MASSACHUSETTS' 'TENNESSEE'\n",
      " 'WEST VIRGINIA' 'NEW JERSEY' 'ARKANSAS' 'RHODE ISLAND' 'MAINE' 'NEVADA'\n",
      " 'COLORADO' 'NEW MEXICO' 'MARYLAND' 'OREGON' 'SOUTH DAKOTA' 'KENTUCKY'\n",
      " 'ALABAMA' 'ARIZONA' 'MINNESOTA' 'WISCONSIN' 'MISSISSIPPI' 'KANSAS' 'IOWA'\n",
      " 'WYOMING' 'NEBRASKA' 'ALASKA' 'UTAH' 'MONTANA' 'HAWAII' 'DELAWARE'\n",
      " 'IDAHO' 'NEW HAMPSHIRE' 'VERMONT' 'NORTH DAKOTA']\n",
      "\n",
      " ['UNITED STATES' 'ALABAMA' 'ALASKA' 'ARIZONA' 'ARKANSAS' 'CALIFORNIA'\n",
      " 'COLORADO' 'CONNECTICUT' 'DELAWARE' 'DISTRICT OF COLUMBIA' 'FLORIDA'\n",
      " 'GEORGIA' 'HAWAII' 'IDAHO' 'ILLINOIS' 'INDIANA' 'IOWA' 'KANSAS'\n",
      " 'KENTUCKY' 'LOUISIANA' 'MAINE' 'MARYLAND' 'MASSACHUSETTS' 'MICHIGAN'\n",
      " 'MINNESOTA' 'MISSISSIPPI' 'MISSOURI' 'MONTANA' 'NEBRASKA' 'NEVADA'\n",
      " 'NEW HAMPSHIRE' 'NEW JERSEY' 'NEW MEXICO' 'NEW YORK' 'NORTH CAROLINA'\n",
      " 'NORTH DAKOTA' 'OHIO' 'OKLAHOMA' 'OREGON' 'PENNSYLVANIA' 'RHODE ISLAND'\n",
      " 'SOUTH CAROLINA' 'SOUTH DAKOTA' 'TENNESSEE' 'TEXAS' 'UTAH' 'VERMONT'\n",
      " 'VIRGINIA' 'WASHINGTON' 'WEST VIRGINIA' 'WISCONSIN' 'WYOMING']\n",
      "\n",
      " ['ALABAMA' 'ALASKA' 'ARIZONA' 'ARKANSAS' 'CALIFORNIA' 'COLORADO'\n",
      " 'CONNECTICUT' 'DELAWARE' 'FLORIDA' 'GEORGIA' 'HAWAII' 'IDAHO' 'ILLINOIS'\n",
      " 'INDIANA' 'IOWA' 'KANSAS' 'KENTUCKY' 'LOUISIANA' 'MAINE' 'MARYLAND'\n",
      " 'MASSACHUSETTS' 'MICHIGAN' 'MINNESOTA' 'MISSISSIPPI' 'MISSOURI' 'MONTANA'\n",
      " 'NEBRASKA' 'NEVADA' 'NEW HAMPSHIRE' 'NEW JERSEY' 'NEW MEXICO' 'NEW YORK'\n",
      " 'NORTH CAROLINA' 'NORTH DAKOTA' 'OHIO' 'OKLAHOMA' 'OREGON' 'PENNSYLVANIA'\n",
      " 'RHODE ISLAND' 'SOUTH CAROLINA' 'SOUTH DAKOTA' 'TENNESSEE' 'TEXAS' 'UTAH'\n",
      " 'VERMONT' 'VIRGINIA' 'WASHINGTON' 'WEST VIRGINIA' 'WISCONSIN' 'WYOMING'\n",
      " 'DISTRICT OF COLUMBIA']\n"
     ]
    }
   ],
   "source": [
    "print(incidents_df.state.unique())\n",
    "print(\"\\n\", poverty_df.state.unique())\n",
    "print(\"\\n\", district_df.state.unique())"
   ],
   "metadata": {
    "collapsed": false,
    "ExecuteTime": {
     "end_time": "2023-10-14T22:12:22.916148Z",
     "start_time": "2023-10-14T22:12:22.903562Z"
    }
   },
   "id": "fcb5f1a5370c8556"
  },
  {
   "cell_type": "markdown",
   "source": [
    "<h1 color=\"red\">\n",
    "Error\n",
    "</h1>\n",
    "\n",
    "Issue on merging the dataframes on the state variable."
   ],
   "metadata": {
    "collapsed": false
   },
   "id": "addb6f5109aa7311"
  },
  {
   "cell_type": "code",
   "execution_count": 106,
   "outputs": [],
   "source": [
    "# Dataframe that has the files combined on 'state' columns\n",
    "\n",
    "# incidents_df[\"state\"] = incidents_df[\"state\"].astype(str)\n",
    "# poverty_df[\"state\"] = poverty_df[\"state\"].astype(str)\n",
    "# district_df[\"state\"] = district_df[\"state\"].astype(str)\n",
    "# \n",
    "# merged_df = incidents_df.join(poverty_df, on=\"state\", how=\"inner\")\n",
    "# merged_df = merged_df.join(district_df, on=\"state\", how=\"inner\")\n",
    "# \n",
    "# merged_df.head()"
   ],
   "metadata": {
    "collapsed": false,
    "ExecuteTime": {
     "end_time": "2023-10-14T22:12:22.916290Z",
     "start_time": "2023-10-14T22:12:22.911677Z"
    }
   },
   "id": "f875fe6f5ef64ff0"
  },
  {
   "cell_type": "markdown",
   "source": [
    "# Data Analysis\n",
    "## Basic Info"
   ],
   "metadata": {
    "collapsed": false
   },
   "id": "f3b8b160dfb992bc"
  },
  {
   "cell_type": "code",
   "execution_count": 107,
   "outputs": [
    {
     "name": "stdout",
     "output_type": "stream",
     "text": [
      "Incidents DF\n",
      "<class 'pandas.core.frame.DataFrame'>\n",
      "RangeIndex: 239677 entries, 0 to 239676\n",
      "Data columns (total 28 columns):\n",
      " #   Column                     Non-Null Count   Dtype  \n",
      "---  ------                     --------------   -----  \n",
      " 0   date                       239677 non-null  object \n",
      " 1   state                      239677 non-null  object \n",
      " 2   city_or_county             239677 non-null  object \n",
      " 3   address                    223180 non-null  object \n",
      " 4   latitude                   231754 non-null  float64\n",
      " 5   longitude                  231754 non-null  float64\n",
      " 6   congressional_district     227733 non-null  float64\n",
      " 7   state_house_district       200905 non-null  float64\n",
      " 8   state_senate_district      207342 non-null  float64\n",
      " 9   participant_age1           147379 non-null  float64\n",
      " 10  participant_age_group1     197558 non-null  object \n",
      " 11  participant_gender1        203315 non-null  object \n",
      " 12  min_age_participants       164879 non-null  object \n",
      " 13  avg_age_participants       165057 non-null  object \n",
      " 14  max_age_participants       164969 non-null  object \n",
      " 15  n_participants_child       197573 non-null  object \n",
      " 16  n_participants_teen        197578 non-null  object \n",
      " 17  n_participants_adult       197575 non-null  object \n",
      " 18  n_males                    203315 non-null  float64\n",
      " 19  n_females                  203315 non-null  float64\n",
      " 20  n_killed                   239677 non-null  int64  \n",
      " 21  n_injured                  239677 non-null  int64  \n",
      " 22  n_arrested                 212051 non-null  float64\n",
      " 23  n_unharmed                 212051 non-null  float64\n",
      " 24  n_participants             239677 non-null  float64\n",
      " 25  notes                      158660 non-null  object \n",
      " 26  incident_characteristics1  239351 non-null  object \n",
      " 27  incident_characteristics2  141931 non-null  object \n",
      "dtypes: float64(11), int64(2), object(15)\n",
      "memory usage: 51.2+ MB\n",
      "None\n",
      "\n",
      "Poverty DF\n",
      "<class 'pandas.core.frame.DataFrame'>\n",
      "RangeIndex: 884 entries, 0 to 883\n",
      "Data columns (total 3 columns):\n",
      " #   Column             Non-Null Count  Dtype  \n",
      "---  ------             --------------  -----  \n",
      " 0   state              884 non-null    object \n",
      " 1   year               884 non-null    int64  \n",
      " 2   povertyPercentage  832 non-null    float64\n",
      "dtypes: float64(1), int64(1), object(1)\n",
      "memory usage: 20.8+ KB\n",
      "None\n",
      "\n",
      "District DF\n",
      "<class 'pandas.core.frame.DataFrame'>\n",
      "RangeIndex: 10441 entries, 0 to 10440\n",
      "Data columns (total 6 columns):\n",
      " #   Column                  Non-Null Count  Dtype \n",
      "---  ------                  --------------  ----- \n",
      " 0   year                    10441 non-null  int64 \n",
      " 1   state                   10441 non-null  object\n",
      " 2   congressional_district  10441 non-null  int64 \n",
      " 3   party                   10441 non-null  object\n",
      " 4   candidatevotes          10441 non-null  int64 \n",
      " 5   totalvotes              10441 non-null  int64 \n",
      "dtypes: int64(4), object(2)\n",
      "memory usage: 489.5+ KB\n",
      "None\n"
     ]
    }
   ],
   "source": [
    "print(\"Incidents DF\")\n",
    "print(incidents_df.info())\n",
    "print(\"\\nPoverty DF\")\n",
    "print(poverty_df.info())\n",
    "print(\"\\nDistrict DF\")\n",
    "print(district_df.info())"
   ],
   "metadata": {
    "collapsed": false,
    "ExecuteTime": {
     "end_time": "2023-10-14T22:12:22.988902Z",
     "start_time": "2023-10-14T22:12:22.914494Z"
    }
   },
   "id": "f6288b59f5748ad9"
  },
  {
   "cell_type": "markdown",
   "source": [
    "## Missing Value Detection"
   ],
   "metadata": {
    "collapsed": false
   },
   "id": "66f6aa68884fb40a"
  },
  {
   "cell_type": "code",
   "execution_count": 108,
   "outputs": [
    {
     "data": {
      "text/plain": "date                             0\nstate                            0\ncity_or_county                   0\naddress                      16497\nlatitude                      7923\nlongitude                     7923\ncongressional_district       11944\nstate_house_district         38772\nstate_senate_district        32335\nparticipant_age1             92298\nparticipant_age_group1       42119\nparticipant_gender1          36362\nmin_age_participants         74798\navg_age_participants         74620\nmax_age_participants         74708\nn_participants_child         42104\nn_participants_teen          42099\nn_participants_adult         42102\nn_males                      36362\nn_females                    36362\nn_killed                         0\nn_injured                        0\nn_arrested                   27626\nn_unharmed                   27626\nn_participants                   0\nnotes                        81017\nincident_characteristics1      326\nincident_characteristics2    97746\ndtype: int64"
     },
     "execution_count": 108,
     "metadata": {},
     "output_type": "execute_result"
    }
   ],
   "source": [
    "incidents_df.isnull().sum()"
   ],
   "metadata": {
    "collapsed": false,
    "ExecuteTime": {
     "end_time": "2023-10-14T22:12:23.056203Z",
     "start_time": "2023-10-14T22:12:22.988085Z"
    }
   },
   "id": "ca7f2f2bfd74457f"
  },
  {
   "cell_type": "code",
   "execution_count": 109,
   "outputs": [
    {
     "data": {
      "text/plain": "state                 0\nyear                  0\npovertyPercentage    52\ndtype: int64"
     },
     "execution_count": 109,
     "metadata": {},
     "output_type": "execute_result"
    }
   ],
   "source": [
    "poverty_df.isnull().sum()"
   ],
   "metadata": {
    "collapsed": false,
    "ExecuteTime": {
     "end_time": "2023-10-14T22:12:23.060217Z",
     "start_time": "2023-10-14T22:12:23.056325Z"
    }
   },
   "id": "376f8e2b447be390"
  },
  {
   "cell_type": "code",
   "execution_count": 110,
   "outputs": [
    {
     "data": {
      "text/plain": "year                      0\nstate                     0\ncongressional_district    0\nparty                     0\ncandidatevotes            0\ntotalvotes                0\ndtype: int64"
     },
     "execution_count": 110,
     "metadata": {},
     "output_type": "execute_result"
    }
   ],
   "source": [
    "district_df.isnull().sum()"
   ],
   "metadata": {
    "collapsed": false,
    "ExecuteTime": {
     "end_time": "2023-10-14T22:12:23.065502Z",
     "start_time": "2023-10-14T22:12:23.058939Z"
    }
   },
   "id": "d375e7b66ab3bb97"
  },
  {
   "cell_type": "code",
   "execution_count": 110,
   "outputs": [],
   "source": [],
   "metadata": {
    "collapsed": false,
    "ExecuteTime": {
     "end_time": "2023-10-14T22:12:23.075760Z",
     "start_time": "2023-10-14T22:12:23.064962Z"
    }
   },
   "id": "5a00aac4fcbca6b3"
  },
  {
   "cell_type": "markdown",
   "source": [
    "## Correlation"
   ],
   "metadata": {
    "collapsed": false
   },
   "id": "31844de1a5244c41"
  },
  {
   "cell_type": "code",
   "execution_count": 111,
   "outputs": [
    {
     "data": {
      "text/plain": "                        latitude  longitude  congressional_district  \\\nlatitude                1.000000  -0.056713               -0.259488   \nlongitude              -0.056713   1.000000               -0.215606   \ncongressional_district -0.259488  -0.215606                1.000000   \nstate_house_district   -0.237958   0.236450                0.228827   \nstate_senate_district   0.028611   0.113408                0.309116   \nparticipant_age1       -0.027924  -0.051442                0.012916   \nn_males                -0.038241   0.003762                0.008078   \nn_females              -0.037404  -0.016592               -0.003557   \nn_killed               -0.080078  -0.062149                0.055545   \nn_injured              -0.011379   0.036962               -0.007636   \nn_arrested              0.026206  -0.021468               -0.003900   \nn_unharmed             -0.045854   0.012874               -0.008930   \nn_participants         -0.062864  -0.008813                0.013479   \n\n                        state_house_district  state_senate_district  \\\nlatitude                           -0.237958               0.028611   \nlongitude                           0.236450               0.113408   \ncongressional_district              0.228827               0.309116   \nstate_house_district                1.000000               0.431299   \nstate_senate_district               0.431299               1.000000   \nparticipant_age1                    0.008282               0.010146   \nn_males                             0.021905              -0.005438   \nn_females                           0.014223              -0.004852   \nn_killed                           -0.006015              -0.010650   \nn_injured                          -0.030355              -0.044294   \nn_arrested                          0.022801               0.042435   \nn_unharmed                          0.040400              -0.008633   \nn_participants                      0.017791              -0.018013   \n\n                        participant_age1   n_males  n_females  n_killed  \\\nlatitude                       -0.027924 -0.038241  -0.037404 -0.080078   \nlongitude                      -0.051442  0.003762  -0.016592 -0.062149   \ncongressional_district          0.012916  0.008078  -0.003557  0.055545   \nstate_house_district            0.008282  0.021905   0.014223 -0.006015   \nstate_senate_district           0.010146 -0.005438  -0.004852 -0.010650   \nparticipant_age1                1.000000 -0.059847   0.067434  0.140152   \nn_males                        -0.059847  1.000000  -0.061512  0.133417   \nn_females                       0.067434 -0.061512   1.000000  0.179318   \nn_killed                        0.140152  0.133417   0.179318  1.000000   \nn_injured                      -0.119298  0.245735   0.153632 -0.125425   \nn_arrested                     -0.026181  0.373348   0.119354 -0.050011   \nn_unharmed                     -0.008705  0.423120   0.128414 -0.154075   \nn_participants                 -0.033667  0.823163   0.369827  0.238356   \n\n                        n_injured  n_arrested  n_unharmed  n_participants  \nlatitude                -0.011379    0.026206   -0.045854       -0.062864  \nlongitude                0.036962   -0.021468    0.012874       -0.008813  \ncongressional_district  -0.007636   -0.003900   -0.008930        0.013479  \nstate_house_district    -0.030355    0.022801    0.040400        0.017791  \nstate_senate_district   -0.044294    0.042435   -0.008633       -0.018013  \nparticipant_age1        -0.119298   -0.026181   -0.008705       -0.033667  \nn_males                  0.245735    0.373348    0.423120        0.823163  \nn_females                0.153632    0.119354    0.128414        0.369827  \nn_killed                -0.125425   -0.050011   -0.154075        0.238356  \nn_injured                1.000000   -0.171424   -0.109843        0.383715  \nn_arrested              -0.171424    1.000000   -0.206678        0.396729  \nn_unharmed              -0.109843   -0.206678    1.000000        0.504982  \nn_participants           0.383715    0.396729    0.504982        1.000000  ",
      "text/html": "<div>\n<style scoped>\n    .dataframe tbody tr th:only-of-type {\n        vertical-align: middle;\n    }\n\n    .dataframe tbody tr th {\n        vertical-align: top;\n    }\n\n    .dataframe thead th {\n        text-align: right;\n    }\n</style>\n<table border=\"1\" class=\"dataframe\">\n  <thead>\n    <tr style=\"text-align: right;\">\n      <th></th>\n      <th>latitude</th>\n      <th>longitude</th>\n      <th>congressional_district</th>\n      <th>state_house_district</th>\n      <th>state_senate_district</th>\n      <th>participant_age1</th>\n      <th>n_males</th>\n      <th>n_females</th>\n      <th>n_killed</th>\n      <th>n_injured</th>\n      <th>n_arrested</th>\n      <th>n_unharmed</th>\n      <th>n_participants</th>\n    </tr>\n  </thead>\n  <tbody>\n    <tr>\n      <th>latitude</th>\n      <td>1.000000</td>\n      <td>-0.056713</td>\n      <td>-0.259488</td>\n      <td>-0.237958</td>\n      <td>0.028611</td>\n      <td>-0.027924</td>\n      <td>-0.038241</td>\n      <td>-0.037404</td>\n      <td>-0.080078</td>\n      <td>-0.011379</td>\n      <td>0.026206</td>\n      <td>-0.045854</td>\n      <td>-0.062864</td>\n    </tr>\n    <tr>\n      <th>longitude</th>\n      <td>-0.056713</td>\n      <td>1.000000</td>\n      <td>-0.215606</td>\n      <td>0.236450</td>\n      <td>0.113408</td>\n      <td>-0.051442</td>\n      <td>0.003762</td>\n      <td>-0.016592</td>\n      <td>-0.062149</td>\n      <td>0.036962</td>\n      <td>-0.021468</td>\n      <td>0.012874</td>\n      <td>-0.008813</td>\n    </tr>\n    <tr>\n      <th>congressional_district</th>\n      <td>-0.259488</td>\n      <td>-0.215606</td>\n      <td>1.000000</td>\n      <td>0.228827</td>\n      <td>0.309116</td>\n      <td>0.012916</td>\n      <td>0.008078</td>\n      <td>-0.003557</td>\n      <td>0.055545</td>\n      <td>-0.007636</td>\n      <td>-0.003900</td>\n      <td>-0.008930</td>\n      <td>0.013479</td>\n    </tr>\n    <tr>\n      <th>state_house_district</th>\n      <td>-0.237958</td>\n      <td>0.236450</td>\n      <td>0.228827</td>\n      <td>1.000000</td>\n      <td>0.431299</td>\n      <td>0.008282</td>\n      <td>0.021905</td>\n      <td>0.014223</td>\n      <td>-0.006015</td>\n      <td>-0.030355</td>\n      <td>0.022801</td>\n      <td>0.040400</td>\n      <td>0.017791</td>\n    </tr>\n    <tr>\n      <th>state_senate_district</th>\n      <td>0.028611</td>\n      <td>0.113408</td>\n      <td>0.309116</td>\n      <td>0.431299</td>\n      <td>1.000000</td>\n      <td>0.010146</td>\n      <td>-0.005438</td>\n      <td>-0.004852</td>\n      <td>-0.010650</td>\n      <td>-0.044294</td>\n      <td>0.042435</td>\n      <td>-0.008633</td>\n      <td>-0.018013</td>\n    </tr>\n    <tr>\n      <th>participant_age1</th>\n      <td>-0.027924</td>\n      <td>-0.051442</td>\n      <td>0.012916</td>\n      <td>0.008282</td>\n      <td>0.010146</td>\n      <td>1.000000</td>\n      <td>-0.059847</td>\n      <td>0.067434</td>\n      <td>0.140152</td>\n      <td>-0.119298</td>\n      <td>-0.026181</td>\n      <td>-0.008705</td>\n      <td>-0.033667</td>\n    </tr>\n    <tr>\n      <th>n_males</th>\n      <td>-0.038241</td>\n      <td>0.003762</td>\n      <td>0.008078</td>\n      <td>0.021905</td>\n      <td>-0.005438</td>\n      <td>-0.059847</td>\n      <td>1.000000</td>\n      <td>-0.061512</td>\n      <td>0.133417</td>\n      <td>0.245735</td>\n      <td>0.373348</td>\n      <td>0.423120</td>\n      <td>0.823163</td>\n    </tr>\n    <tr>\n      <th>n_females</th>\n      <td>-0.037404</td>\n      <td>-0.016592</td>\n      <td>-0.003557</td>\n      <td>0.014223</td>\n      <td>-0.004852</td>\n      <td>0.067434</td>\n      <td>-0.061512</td>\n      <td>1.000000</td>\n      <td>0.179318</td>\n      <td>0.153632</td>\n      <td>0.119354</td>\n      <td>0.128414</td>\n      <td>0.369827</td>\n    </tr>\n    <tr>\n      <th>n_killed</th>\n      <td>-0.080078</td>\n      <td>-0.062149</td>\n      <td>0.055545</td>\n      <td>-0.006015</td>\n      <td>-0.010650</td>\n      <td>0.140152</td>\n      <td>0.133417</td>\n      <td>0.179318</td>\n      <td>1.000000</td>\n      <td>-0.125425</td>\n      <td>-0.050011</td>\n      <td>-0.154075</td>\n      <td>0.238356</td>\n    </tr>\n    <tr>\n      <th>n_injured</th>\n      <td>-0.011379</td>\n      <td>0.036962</td>\n      <td>-0.007636</td>\n      <td>-0.030355</td>\n      <td>-0.044294</td>\n      <td>-0.119298</td>\n      <td>0.245735</td>\n      <td>0.153632</td>\n      <td>-0.125425</td>\n      <td>1.000000</td>\n      <td>-0.171424</td>\n      <td>-0.109843</td>\n      <td>0.383715</td>\n    </tr>\n    <tr>\n      <th>n_arrested</th>\n      <td>0.026206</td>\n      <td>-0.021468</td>\n      <td>-0.003900</td>\n      <td>0.022801</td>\n      <td>0.042435</td>\n      <td>-0.026181</td>\n      <td>0.373348</td>\n      <td>0.119354</td>\n      <td>-0.050011</td>\n      <td>-0.171424</td>\n      <td>1.000000</td>\n      <td>-0.206678</td>\n      <td>0.396729</td>\n    </tr>\n    <tr>\n      <th>n_unharmed</th>\n      <td>-0.045854</td>\n      <td>0.012874</td>\n      <td>-0.008930</td>\n      <td>0.040400</td>\n      <td>-0.008633</td>\n      <td>-0.008705</td>\n      <td>0.423120</td>\n      <td>0.128414</td>\n      <td>-0.154075</td>\n      <td>-0.109843</td>\n      <td>-0.206678</td>\n      <td>1.000000</td>\n      <td>0.504982</td>\n    </tr>\n    <tr>\n      <th>n_participants</th>\n      <td>-0.062864</td>\n      <td>-0.008813</td>\n      <td>0.013479</td>\n      <td>0.017791</td>\n      <td>-0.018013</td>\n      <td>-0.033667</td>\n      <td>0.823163</td>\n      <td>0.369827</td>\n      <td>0.238356</td>\n      <td>0.383715</td>\n      <td>0.396729</td>\n      <td>0.504982</td>\n      <td>1.000000</td>\n    </tr>\n  </tbody>\n</table>\n</div>"
     },
     "execution_count": 111,
     "metadata": {},
     "output_type": "execute_result"
    }
   ],
   "source": [
    "incidents_df.corr(numeric_only=True)"
   ],
   "metadata": {
    "collapsed": false,
    "ExecuteTime": {
     "end_time": "2023-10-14T22:12:23.144679Z",
     "start_time": "2023-10-14T22:12:23.067840Z"
    }
   },
   "id": "117a42d04402019"
  },
  {
   "cell_type": "code",
   "execution_count": 112,
   "outputs": [
    {
     "data": {
      "text/plain": "                            year  congressional_district  candidatevotes  \\\nyear                    1.000000                0.023283        0.493502   \ncongressional_district  0.023283                1.000000       -0.142382   \ncandidatevotes          0.493502               -0.142382        1.000000   \ntotalvotes              0.515799               -0.128996        0.888922   \n\n                        totalvotes  \nyear                      0.515799  \ncongressional_district   -0.128996  \ncandidatevotes            0.888922  \ntotalvotes                1.000000  ",
      "text/html": "<div>\n<style scoped>\n    .dataframe tbody tr th:only-of-type {\n        vertical-align: middle;\n    }\n\n    .dataframe tbody tr th {\n        vertical-align: top;\n    }\n\n    .dataframe thead th {\n        text-align: right;\n    }\n</style>\n<table border=\"1\" class=\"dataframe\">\n  <thead>\n    <tr style=\"text-align: right;\">\n      <th></th>\n      <th>year</th>\n      <th>congressional_district</th>\n      <th>candidatevotes</th>\n      <th>totalvotes</th>\n    </tr>\n  </thead>\n  <tbody>\n    <tr>\n      <th>year</th>\n      <td>1.000000</td>\n      <td>0.023283</td>\n      <td>0.493502</td>\n      <td>0.515799</td>\n    </tr>\n    <tr>\n      <th>congressional_district</th>\n      <td>0.023283</td>\n      <td>1.000000</td>\n      <td>-0.142382</td>\n      <td>-0.128996</td>\n    </tr>\n    <tr>\n      <th>candidatevotes</th>\n      <td>0.493502</td>\n      <td>-0.142382</td>\n      <td>1.000000</td>\n      <td>0.888922</td>\n    </tr>\n    <tr>\n      <th>totalvotes</th>\n      <td>0.515799</td>\n      <td>-0.128996</td>\n      <td>0.888922</td>\n      <td>1.000000</td>\n    </tr>\n  </tbody>\n</table>\n</div>"
     },
     "execution_count": 112,
     "metadata": {},
     "output_type": "execute_result"
    }
   ],
   "source": [
    "district_df.corr(numeric_only=True)"
   ],
   "metadata": {
    "collapsed": false,
    "ExecuteTime": {
     "end_time": "2023-10-14T22:12:23.180339Z",
     "start_time": "2023-10-14T22:12:23.143035Z"
    }
   },
   "id": "c6267a09dc451b55"
  },
  {
   "cell_type": "code",
   "execution_count": 112,
   "outputs": [],
   "source": [],
   "metadata": {
    "collapsed": false,
    "ExecuteTime": {
     "end_time": "2023-10-14T22:12:23.180542Z",
     "start_time": "2023-10-14T22:12:23.167898Z"
    }
   },
   "id": "633a2d249702133c"
  }
 ],
 "metadata": {
  "kernelspec": {
   "display_name": "Python 3",
   "language": "python",
   "name": "python3"
  },
  "language_info": {
   "codemirror_mode": {
    "name": "ipython",
    "version": 2
   },
   "file_extension": ".py",
   "mimetype": "text/x-python",
   "name": "python",
   "nbconvert_exporter": "python",
   "pygments_lexer": "ipython2",
   "version": "2.7.6"
  }
 },
 "nbformat": 4,
 "nbformat_minor": 5
}
